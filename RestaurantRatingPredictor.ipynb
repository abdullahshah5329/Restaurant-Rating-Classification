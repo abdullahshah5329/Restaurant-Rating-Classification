{
 "cells": [
  {
   "cell_type": "markdown",
   "metadata": {},
   "source": [
    "## Project Title: Restaurant Rating Predictor\n",
    "\n",
    "## Student(s): Abdullah Shah, Ayesha Mubashir, Giang Do\n",
    "\n",
    "#### Date: June 05, 2022\n",
    "---"
   ]
  },
  {
   "cell_type": "markdown",
   "metadata": {},
   "source": [
    "# Import modules:"
   ]
  },
  {
   "cell_type": "code",
   "execution_count": 1,
   "metadata": {
    "id": "NO_Q2Xar6p0j"
   },
   "outputs": [],
   "source": [
    "import pandas as pd\n",
    "import numpy as np\n",
    "import math\n",
    "from matplotlib import pyplot as plt\n",
    "from sklearn.metrics import RocCurveDisplay"
   ]
  },
  {
   "cell_type": "code",
   "execution_count": 2,
   "metadata": {
    "id": "PX42j-lz7vxM"
   },
   "outputs": [],
   "source": [
    "from sklearn.linear_model import LogisticRegression\n",
    "from sklearn.metrics import accuracy_score\n",
    "from sklearn.model_selection import train_test_split"
   ]
  },
  {
   "cell_type": "code",
   "execution_count": 3,
   "metadata": {
    "id": "3xWzmrfa-LCG"
   },
   "outputs": [],
   "source": [
    "from sklearn.tree import DecisionTreeClassifier"
   ]
  },
  {
   "cell_type": "code",
   "execution_count": 4,
   "metadata": {
    "id": "kaflYYjT3U1l"
   },
   "outputs": [],
   "source": [
    "# import preprocessing from sklearn\n",
    "from sklearn import preprocessing"
   ]
  },
  {
   "cell_type": "code",
   "execution_count": 5,
   "metadata": {
    "id": "Z9M5N5z8qdSs"
   },
   "outputs": [],
   "source": [
    "from sklearn.model_selection import GridSearchCV # used for hypertuning the parameters\n",
    "from sklearn.preprocessing import scale, StandardScaler\n",
    "from sklearn.model_selection import GridSearchCV\n",
    "from sklearn import metrics\n",
    "from sklearn.model_selection import RandomizedSearchCV"
   ]
  },
  {
   "cell_type": "markdown",
   "metadata": {},
   "source": [
    "<hr style=\"border:2px solid black\">"
   ]
  },
  {
   "cell_type": "markdown",
   "metadata": {
    "id": "si5IAJgY7ylX"
   },
   "source": [
    "# Data loading:"
   ]
  },
  {
   "cell_type": "code",
   "execution_count": 6,
   "metadata": {
    "id": "S1Kf878qIaS7"
   },
   "outputs": [],
   "source": [
    "df= pd.read_csv('fileDataFrame.csv')"
   ]
  },
  {
   "cell_type": "code",
   "execution_count": 7,
   "metadata": {
    "colab": {
     "base_uri": "https://localhost:8080/"
    },
    "id": "4Js0iZiPYHuS",
    "outputId": "c5ce4da8-84b5-4e3c-e975-ac868d8a67af"
   },
   "outputs": [
    {
     "data": {
      "text/plain": [
       "Unnamed: 0                      int64\n",
       "business_id                    object\n",
       "name                           object\n",
       "address                        object\n",
       "city                           object\n",
       "state                          object\n",
       "stars                         float64\n",
       "RestaurantsDelivery            object\n",
       "OutdoorSeating                 object\n",
       "BusinessAcceptsCreditCards     object\n",
       "BikeParking                    object\n",
       "RestaurantsPriceRange2         object\n",
       "RestaurantsTakeOut             object\n",
       "ByAppointmentOnly              object\n",
       "WiFi                           object\n",
       "Alcohol                        object\n",
       "Caters                         object\n",
       "RestaurantsAttire              object\n",
       "GoodForKids                    object\n",
       "DogsAllowed                    object\n",
       "RestaurantsTableService        object\n",
       "WheelchairAccessible           object\n",
       "DriveThru                      object\n",
       "Smoking                        object\n",
       "Open24Hours                    object\n",
       "dtype: object"
      ]
     },
     "execution_count": 7,
     "metadata": {},
     "output_type": "execute_result"
    }
   ],
   "source": [
    "#Check columns' datatype\n",
    "df.dtypes"
   ]
  },
  {
   "cell_type": "code",
   "execution_count": 8,
   "metadata": {
    "colab": {
     "base_uri": "https://localhost:8080/"
    },
    "id": "n7YYTUWp72XG",
    "outputId": "19b4e792-71b0-461f-d5a7-a4439d0836ad"
   },
   "outputs": [
    {
     "data": {
      "text/plain": [
       "Unnamed: 0                    44594\n",
       "business_id                   44594\n",
       "name                          44594\n",
       "address                       44031\n",
       "city                          44594\n",
       "state                         44594\n",
       "stars                         44594\n",
       "RestaurantsDelivery           44594\n",
       "OutdoorSeating                44594\n",
       "BusinessAcceptsCreditCards    44594\n",
       "BikeParking                   44594\n",
       "RestaurantsPriceRange2        44594\n",
       "RestaurantsTakeOut            44594\n",
       "ByAppointmentOnly             44594\n",
       "WiFi                          44594\n",
       "Alcohol                       44594\n",
       "Caters                        44594\n",
       "RestaurantsAttire             44594\n",
       "GoodForKids                   44594\n",
       "DogsAllowed                   44594\n",
       "RestaurantsTableService       44594\n",
       "WheelchairAccessible          44594\n",
       "DriveThru                     44594\n",
       "Smoking                       44594\n",
       "Open24Hours                   44594\n",
       "dtype: int64"
      ]
     },
     "execution_count": 8,
     "metadata": {},
     "output_type": "execute_result"
    }
   ],
   "source": [
    "df.count()"
   ]
  },
  {
   "cell_type": "code",
   "execution_count": 9,
   "metadata": {
    "colab": {
     "base_uri": "https://localhost:8080/",
     "height": 421
    },
    "id": "aBiyntagtw-v",
    "outputId": "0c0633d4-5acf-456d-e83b-2c68f604c51f"
   },
   "outputs": [
    {
     "data": {
      "text/html": [
       "<div>\n",
       "<style scoped>\n",
       "    .dataframe tbody tr th:only-of-type {\n",
       "        vertical-align: middle;\n",
       "    }\n",
       "\n",
       "    .dataframe tbody tr th {\n",
       "        vertical-align: top;\n",
       "    }\n",
       "\n",
       "    .dataframe thead th {\n",
       "        text-align: right;\n",
       "    }\n",
       "</style>\n",
       "<table border=\"1\" class=\"dataframe\">\n",
       "  <thead>\n",
       "    <tr style=\"text-align: right;\">\n",
       "      <th></th>\n",
       "      <th>Unnamed: 0</th>\n",
       "      <th>business_id</th>\n",
       "      <th>name</th>\n",
       "      <th>address</th>\n",
       "      <th>city</th>\n",
       "      <th>state</th>\n",
       "      <th>stars</th>\n",
       "      <th>RestaurantsDelivery</th>\n",
       "      <th>OutdoorSeating</th>\n",
       "      <th>BusinessAcceptsCreditCards</th>\n",
       "      <th>...</th>\n",
       "      <th>Alcohol</th>\n",
       "      <th>Caters</th>\n",
       "      <th>RestaurantsAttire</th>\n",
       "      <th>GoodForKids</th>\n",
       "      <th>DogsAllowed</th>\n",
       "      <th>RestaurantsTableService</th>\n",
       "      <th>WheelchairAccessible</th>\n",
       "      <th>DriveThru</th>\n",
       "      <th>Smoking</th>\n",
       "      <th>Open24Hours</th>\n",
       "    </tr>\n",
       "  </thead>\n",
       "  <tbody>\n",
       "    <tr>\n",
       "      <th>0</th>\n",
       "      <td>3</td>\n",
       "      <td>MTSW4McQd7CbVtyjqoe9mw</td>\n",
       "      <td>St Honore Pastries</td>\n",
       "      <td>935 Race St</td>\n",
       "      <td>Philadelphia</td>\n",
       "      <td>PA</td>\n",
       "      <td>4.0</td>\n",
       "      <td>False</td>\n",
       "      <td>False</td>\n",
       "      <td>False</td>\n",
       "      <td>...</td>\n",
       "      <td>no</td>\n",
       "      <td>True</td>\n",
       "      <td>U</td>\n",
       "      <td>U</td>\n",
       "      <td>U</td>\n",
       "      <td>U</td>\n",
       "      <td>U</td>\n",
       "      <td>U</td>\n",
       "      <td>U</td>\n",
       "      <td>U</td>\n",
       "    </tr>\n",
       "    <tr>\n",
       "      <th>1</th>\n",
       "      <td>5</td>\n",
       "      <td>CF33F8-E6oudUQ46HnavjQ</td>\n",
       "      <td>Sonic Drive-In</td>\n",
       "      <td>615 S Main St</td>\n",
       "      <td>Ashland City</td>\n",
       "      <td>TN</td>\n",
       "      <td>2.0</td>\n",
       "      <td>True</td>\n",
       "      <td>True</td>\n",
       "      <td>True</td>\n",
       "      <td>...</td>\n",
       "      <td>no</td>\n",
       "      <td>False</td>\n",
       "      <td>'casual'</td>\n",
       "      <td>True</td>\n",
       "      <td>False</td>\n",
       "      <td>False</td>\n",
       "      <td>True</td>\n",
       "      <td>True</td>\n",
       "      <td>U</td>\n",
       "      <td>U</td>\n",
       "    </tr>\n",
       "    <tr>\n",
       "      <th>2</th>\n",
       "      <td>9</td>\n",
       "      <td>bBDDEgkFA1Otx9Lfe7BZUQ</td>\n",
       "      <td>Sonic Drive-In</td>\n",
       "      <td>2312 Dickerson Pike</td>\n",
       "      <td>Nashville</td>\n",
       "      <td>TN</td>\n",
       "      <td>1.5</td>\n",
       "      <td>True</td>\n",
       "      <td>True</td>\n",
       "      <td>True</td>\n",
       "      <td>...</td>\n",
       "      <td>no</td>\n",
       "      <td>False</td>\n",
       "      <td>'casual'</td>\n",
       "      <td>True</td>\n",
       "      <td>False</td>\n",
       "      <td>False</td>\n",
       "      <td>True</td>\n",
       "      <td>True</td>\n",
       "      <td>U</td>\n",
       "      <td>U</td>\n",
       "    </tr>\n",
       "    <tr>\n",
       "      <th>3</th>\n",
       "      <td>11</td>\n",
       "      <td>eEOYSgkmpB90uNA7lDOMRA</td>\n",
       "      <td>Vietnamese Food Truck</td>\n",
       "      <td>NaN</td>\n",
       "      <td>Tampa Bay</td>\n",
       "      <td>FL</td>\n",
       "      <td>4.0</td>\n",
       "      <td>U</td>\n",
       "      <td>False</td>\n",
       "      <td>U</td>\n",
       "      <td>...</td>\n",
       "      <td>U</td>\n",
       "      <td>U</td>\n",
       "      <td>U</td>\n",
       "      <td>U</td>\n",
       "      <td>U</td>\n",
       "      <td>U</td>\n",
       "      <td>U</td>\n",
       "      <td>U</td>\n",
       "      <td>U</td>\n",
       "      <td>U</td>\n",
       "    </tr>\n",
       "    <tr>\n",
       "      <th>4</th>\n",
       "      <td>12</td>\n",
       "      <td>il_Ro8jwPlHresjw9EGmBg</td>\n",
       "      <td>Denny's</td>\n",
       "      <td>8901 US 31 S</td>\n",
       "      <td>Indianapolis</td>\n",
       "      <td>IN</td>\n",
       "      <td>2.5</td>\n",
       "      <td>True</td>\n",
       "      <td>False</td>\n",
       "      <td>True</td>\n",
       "      <td>...</td>\n",
       "      <td>U</td>\n",
       "      <td>U</td>\n",
       "      <td>'casual'</td>\n",
       "      <td>True</td>\n",
       "      <td>U</td>\n",
       "      <td>U</td>\n",
       "      <td>U</td>\n",
       "      <td>U</td>\n",
       "      <td>U</td>\n",
       "      <td>U</td>\n",
       "    </tr>\n",
       "  </tbody>\n",
       "</table>\n",
       "<p>5 rows × 25 columns</p>\n",
       "</div>"
      ],
      "text/plain": [
       "   Unnamed: 0             business_id                   name  \\\n",
       "0           3  MTSW4McQd7CbVtyjqoe9mw     St Honore Pastries   \n",
       "1           5  CF33F8-E6oudUQ46HnavjQ         Sonic Drive-In   \n",
       "2           9  bBDDEgkFA1Otx9Lfe7BZUQ         Sonic Drive-In   \n",
       "3          11  eEOYSgkmpB90uNA7lDOMRA  Vietnamese Food Truck   \n",
       "4          12  il_Ro8jwPlHresjw9EGmBg                Denny's   \n",
       "\n",
       "               address          city state  stars RestaurantsDelivery  \\\n",
       "0          935 Race St  Philadelphia    PA    4.0               False   \n",
       "1        615 S Main St  Ashland City    TN    2.0                True   \n",
       "2  2312 Dickerson Pike     Nashville    TN    1.5                True   \n",
       "3                  NaN     Tampa Bay    FL    4.0                   U   \n",
       "4         8901 US 31 S  Indianapolis    IN    2.5                True   \n",
       "\n",
       "  OutdoorSeating BusinessAcceptsCreditCards  ... Alcohol Caters  \\\n",
       "0          False                      False  ...      no   True   \n",
       "1           True                       True  ...      no  False   \n",
       "2           True                       True  ...      no  False   \n",
       "3          False                          U  ...       U      U   \n",
       "4          False                       True  ...       U      U   \n",
       "\n",
       "  RestaurantsAttire GoodForKids DogsAllowed RestaurantsTableService  \\\n",
       "0                 U           U           U                       U   \n",
       "1          'casual'        True       False                   False   \n",
       "2          'casual'        True       False                   False   \n",
       "3                 U           U           U                       U   \n",
       "4          'casual'        True           U                       U   \n",
       "\n",
       "  WheelchairAccessible DriveThru Smoking Open24Hours  \n",
       "0                    U         U       U           U  \n",
       "1                 True      True       U           U  \n",
       "2                 True      True       U           U  \n",
       "3                    U         U       U           U  \n",
       "4                    U         U       U           U  \n",
       "\n",
       "[5 rows x 25 columns]"
      ]
     },
     "execution_count": 9,
     "metadata": {},
     "output_type": "execute_result"
    }
   ],
   "source": [
    "df.head(5)"
   ]
  },
  {
   "cell_type": "code",
   "execution_count": 10,
   "metadata": {
    "colab": {
     "base_uri": "https://localhost:8080/"
    },
    "id": "DFt_tcJHuPLn",
    "outputId": "03e96f87-b9ee-4acb-9cfd-665ecc39adb9"
   },
   "outputs": [
    {
     "data": {
      "text/plain": [
       "Index(['Unnamed: 0', 'business_id', 'name', 'address', 'city', 'state',\n",
       "       'stars', 'RestaurantsDelivery', 'OutdoorSeating',\n",
       "       'BusinessAcceptsCreditCards', 'BikeParking', 'RestaurantsPriceRange2',\n",
       "       'RestaurantsTakeOut', 'ByAppointmentOnly', 'WiFi', 'Alcohol', 'Caters',\n",
       "       'RestaurantsAttire', 'GoodForKids', 'DogsAllowed',\n",
       "       'RestaurantsTableService', 'WheelchairAccessible', 'DriveThru',\n",
       "       'Smoking', 'Open24Hours'],\n",
       "      dtype='object')"
      ]
     },
     "execution_count": 10,
     "metadata": {},
     "output_type": "execute_result"
    }
   ],
   "source": [
    "df.columns"
   ]
  },
  {
   "cell_type": "markdown",
   "metadata": {},
   "source": [
    "<hr style=\"border:2px solid black\">"
   ]
  },
  {
   "cell_type": "markdown",
   "metadata": {},
   "source": [
    "# Converting \"stars\" column (Label Column) to binary:\n",
    "- ### 1: Represents stars ranging from 4 and up.\n",
    "- ### 0: Represents stars ranging from 3.5 and below."
   ]
  },
  {
   "cell_type": "code",
   "execution_count": 11,
   "metadata": {
    "colab": {
     "base_uri": "https://localhost:8080/"
    },
    "id": "BddJCPaZs5vn",
    "outputId": "6d3ee0d1-d472-4f97-de9b-7fef691de64d"
   },
   "outputs": [
    {
     "name": "stdout",
     "output_type": "stream",
     "text": [
      "Number of restaurats classified as greater than or equal to 4 stars (1):   21449\n",
      "Number of restaurats classified as less than or equal to 3.5 stars (0):   23145\n"
     ]
    }
   ],
   "source": [
    "# if a restaurant has greater than and equal to 4 stars assign it a value of 1, otherwise 0\n",
    "for i in range(0,len(df)):\n",
    "    if df['stars'][i] >= 4:\n",
    "        df.loc[i,'stars'] = 1\n",
    "    else: \n",
    "        df.loc[i,'stars']=0\n",
    "\n",
    "print(\"Number of restaurats classified as greater than or equal to 4 stars (1):  \",\n",
    "      len(df[(df['stars'] == 1)]))\n",
    "\n",
    "print(\"Number of restaurats classified as less than or equal to 3.5 stars (0):  \",\n",
    "      len(df[(df['stars'] == 0)]))"
   ]
  },
  {
   "cell_type": "code",
   "execution_count": 12,
   "metadata": {
    "colab": {
     "base_uri": "https://localhost:8080/",
     "height": 372
    },
    "id": "Hf553MSj-xzl",
    "outputId": "4ff64a17-7531-41af-d2f0-094c43dee3aa"
   },
   "outputs": [
    {
     "data": {
      "text/html": [
       "<div>\n",
       "<style scoped>\n",
       "    .dataframe tbody tr th:only-of-type {\n",
       "        vertical-align: middle;\n",
       "    }\n",
       "\n",
       "    .dataframe tbody tr th {\n",
       "        vertical-align: top;\n",
       "    }\n",
       "\n",
       "    .dataframe thead th {\n",
       "        text-align: right;\n",
       "    }\n",
       "</style>\n",
       "<table border=\"1\" class=\"dataframe\">\n",
       "  <thead>\n",
       "    <tr style=\"text-align: right;\">\n",
       "      <th></th>\n",
       "      <th>Unnamed: 0</th>\n",
       "      <th>business_id</th>\n",
       "      <th>name</th>\n",
       "      <th>address</th>\n",
       "      <th>city</th>\n",
       "      <th>state</th>\n",
       "      <th>stars</th>\n",
       "      <th>RestaurantsDelivery</th>\n",
       "      <th>OutdoorSeating</th>\n",
       "      <th>BusinessAcceptsCreditCards</th>\n",
       "      <th>...</th>\n",
       "      <th>Alcohol</th>\n",
       "      <th>Caters</th>\n",
       "      <th>RestaurantsAttire</th>\n",
       "      <th>GoodForKids</th>\n",
       "      <th>DogsAllowed</th>\n",
       "      <th>RestaurantsTableService</th>\n",
       "      <th>WheelchairAccessible</th>\n",
       "      <th>DriveThru</th>\n",
       "      <th>Smoking</th>\n",
       "      <th>Open24Hours</th>\n",
       "    </tr>\n",
       "  </thead>\n",
       "  <tbody>\n",
       "    <tr>\n",
       "      <th>0</th>\n",
       "      <td>3</td>\n",
       "      <td>MTSW4McQd7CbVtyjqoe9mw</td>\n",
       "      <td>St Honore Pastries</td>\n",
       "      <td>935 Race St</td>\n",
       "      <td>Philadelphia</td>\n",
       "      <td>PA</td>\n",
       "      <td>1.0</td>\n",
       "      <td>False</td>\n",
       "      <td>False</td>\n",
       "      <td>False</td>\n",
       "      <td>...</td>\n",
       "      <td>no</td>\n",
       "      <td>True</td>\n",
       "      <td>U</td>\n",
       "      <td>U</td>\n",
       "      <td>U</td>\n",
       "      <td>U</td>\n",
       "      <td>U</td>\n",
       "      <td>U</td>\n",
       "      <td>U</td>\n",
       "      <td>U</td>\n",
       "    </tr>\n",
       "    <tr>\n",
       "      <th>1</th>\n",
       "      <td>5</td>\n",
       "      <td>CF33F8-E6oudUQ46HnavjQ</td>\n",
       "      <td>Sonic Drive-In</td>\n",
       "      <td>615 S Main St</td>\n",
       "      <td>Ashland City</td>\n",
       "      <td>TN</td>\n",
       "      <td>0.0</td>\n",
       "      <td>True</td>\n",
       "      <td>True</td>\n",
       "      <td>True</td>\n",
       "      <td>...</td>\n",
       "      <td>no</td>\n",
       "      <td>False</td>\n",
       "      <td>'casual'</td>\n",
       "      <td>True</td>\n",
       "      <td>False</td>\n",
       "      <td>False</td>\n",
       "      <td>True</td>\n",
       "      <td>True</td>\n",
       "      <td>U</td>\n",
       "      <td>U</td>\n",
       "    </tr>\n",
       "    <tr>\n",
       "      <th>2</th>\n",
       "      <td>9</td>\n",
       "      <td>bBDDEgkFA1Otx9Lfe7BZUQ</td>\n",
       "      <td>Sonic Drive-In</td>\n",
       "      <td>2312 Dickerson Pike</td>\n",
       "      <td>Nashville</td>\n",
       "      <td>TN</td>\n",
       "      <td>0.0</td>\n",
       "      <td>True</td>\n",
       "      <td>True</td>\n",
       "      <td>True</td>\n",
       "      <td>...</td>\n",
       "      <td>no</td>\n",
       "      <td>False</td>\n",
       "      <td>'casual'</td>\n",
       "      <td>True</td>\n",
       "      <td>False</td>\n",
       "      <td>False</td>\n",
       "      <td>True</td>\n",
       "      <td>True</td>\n",
       "      <td>U</td>\n",
       "      <td>U</td>\n",
       "    </tr>\n",
       "  </tbody>\n",
       "</table>\n",
       "<p>3 rows × 25 columns</p>\n",
       "</div>"
      ],
      "text/plain": [
       "   Unnamed: 0             business_id                name  \\\n",
       "0           3  MTSW4McQd7CbVtyjqoe9mw  St Honore Pastries   \n",
       "1           5  CF33F8-E6oudUQ46HnavjQ      Sonic Drive-In   \n",
       "2           9  bBDDEgkFA1Otx9Lfe7BZUQ      Sonic Drive-In   \n",
       "\n",
       "               address          city state  stars RestaurantsDelivery  \\\n",
       "0          935 Race St  Philadelphia    PA    1.0               False   \n",
       "1        615 S Main St  Ashland City    TN    0.0                True   \n",
       "2  2312 Dickerson Pike     Nashville    TN    0.0                True   \n",
       "\n",
       "  OutdoorSeating BusinessAcceptsCreditCards  ... Alcohol Caters  \\\n",
       "0          False                      False  ...      no   True   \n",
       "1           True                       True  ...      no  False   \n",
       "2           True                       True  ...      no  False   \n",
       "\n",
       "  RestaurantsAttire GoodForKids DogsAllowed RestaurantsTableService  \\\n",
       "0                 U           U           U                       U   \n",
       "1          'casual'        True       False                   False   \n",
       "2          'casual'        True       False                   False   \n",
       "\n",
       "  WheelchairAccessible DriveThru Smoking Open24Hours  \n",
       "0                    U         U       U           U  \n",
       "1                 True      True       U           U  \n",
       "2                 True      True       U           U  \n",
       "\n",
       "[3 rows x 25 columns]"
      ]
     },
     "execution_count": 12,
     "metadata": {},
     "output_type": "execute_result"
    }
   ],
   "source": [
    "# dataframe with new \"stars\" column edit\n",
    "df.head(3)"
   ]
  },
  {
   "cell_type": "markdown",
   "metadata": {},
   "source": [
    "<hr style=\"border:2px solid black\">"
   ]
  },
  {
   "cell_type": "markdown",
   "metadata": {
    "id": "Nh7EWlzDumBJ"
   },
   "source": [
    "# Create feature matrix (x) and target vector (y):"
   ]
  },
  {
   "cell_type": "code",
   "execution_count": 13,
   "metadata": {
    "colab": {
     "base_uri": "https://localhost:8080/"
    },
    "id": "EHdsBGv18Zkn",
    "outputId": "0f4cb200-baa7-42a0-8e3b-a5a4685a72b0"
   },
   "outputs": [
    {
     "name": "stderr",
     "output_type": "stream",
     "text": [
      "<ipython-input-13-c73b07eb0aa7>:3: FutureWarning: In a future version of pandas all arguments of DataFrame.drop except for the argument 'labels' will be keyword-only.\n",
      "  x = df.drop(['Unnamed: 0','stars', 'business_id', 'name', 'address'], 1)\n"
     ]
    }
   ],
   "source": [
    "# create feature matrix (x) and target vector (y)\n",
    "# separating the dependent and independent variables\n",
    "x = df.drop(['Unnamed: 0','stars', 'business_id', 'name', 'address'], 1)\n",
    "y = df['stars']"
   ]
  },
  {
   "cell_type": "markdown",
   "metadata": {},
   "source": [
    "<hr style=\"border:2px solid black\">"
   ]
  },
  {
   "cell_type": "markdown",
   "metadata": {},
   "source": [
    "# Encode labels:"
   ]
  },
  {
   "cell_type": "code",
   "execution_count": 14,
   "metadata": {
    "id": "KPmW_v_53PML"
   },
   "outputs": [],
   "source": [
    "# Intantiate LabelEncoder\n",
    "le = preprocessing.LabelEncoder()"
   ]
  },
  {
   "cell_type": "code",
   "execution_count": 15,
   "metadata": {
    "id": "nT6mfg133zQk"
   },
   "outputs": [],
   "source": [
    "# applying label encoder to x set which contains categorical values...\n",
    "x = x.apply(le.fit_transform)"
   ]
  },
  {
   "cell_type": "code",
   "execution_count": 16,
   "metadata": {
    "colab": {
     "base_uri": "https://localhost:8080/",
     "height": 239
    },
    "id": "HmgNwKOqHLJu",
    "outputId": "9a9da749-2785-4fb6-b42b-0b665903c2e3"
   },
   "outputs": [
    {
     "data": {
      "text/html": [
       "<div>\n",
       "<style scoped>\n",
       "    .dataframe tbody tr th:only-of-type {\n",
       "        vertical-align: middle;\n",
       "    }\n",
       "\n",
       "    .dataframe tbody tr th {\n",
       "        vertical-align: top;\n",
       "    }\n",
       "\n",
       "    .dataframe thead th {\n",
       "        text-align: right;\n",
       "    }\n",
       "</style>\n",
       "<table border=\"1\" class=\"dataframe\">\n",
       "  <thead>\n",
       "    <tr style=\"text-align: right;\">\n",
       "      <th></th>\n",
       "      <th>city</th>\n",
       "      <th>state</th>\n",
       "      <th>RestaurantsDelivery</th>\n",
       "      <th>OutdoorSeating</th>\n",
       "      <th>BusinessAcceptsCreditCards</th>\n",
       "      <th>BikeParking</th>\n",
       "      <th>RestaurantsPriceRange2</th>\n",
       "      <th>RestaurantsTakeOut</th>\n",
       "      <th>ByAppointmentOnly</th>\n",
       "      <th>WiFi</th>\n",
       "      <th>Alcohol</th>\n",
       "      <th>Caters</th>\n",
       "      <th>RestaurantsAttire</th>\n",
       "      <th>GoodForKids</th>\n",
       "      <th>DogsAllowed</th>\n",
       "      <th>RestaurantsTableService</th>\n",
       "      <th>WheelchairAccessible</th>\n",
       "      <th>DriveThru</th>\n",
       "      <th>Smoking</th>\n",
       "      <th>Open24Hours</th>\n",
       "    </tr>\n",
       "  </thead>\n",
       "  <tbody>\n",
       "    <tr>\n",
       "      <th>0</th>\n",
       "      <td>574</td>\n",
       "      <td>13</td>\n",
       "      <td>0</td>\n",
       "      <td>0</td>\n",
       "      <td>0</td>\n",
       "      <td>1</td>\n",
       "      <td>0</td>\n",
       "      <td>1</td>\n",
       "      <td>0</td>\n",
       "      <td>2</td>\n",
       "      <td>1</td>\n",
       "      <td>1</td>\n",
       "      <td>3</td>\n",
       "      <td>2</td>\n",
       "      <td>2</td>\n",
       "      <td>2</td>\n",
       "      <td>2</td>\n",
       "      <td>2</td>\n",
       "      <td>2</td>\n",
       "      <td>2</td>\n",
       "    </tr>\n",
       "    <tr>\n",
       "      <th>1</th>\n",
       "      <td>16</td>\n",
       "      <td>14</td>\n",
       "      <td>1</td>\n",
       "      <td>1</td>\n",
       "      <td>1</td>\n",
       "      <td>0</td>\n",
       "      <td>0</td>\n",
       "      <td>1</td>\n",
       "      <td>0</td>\n",
       "      <td>1</td>\n",
       "      <td>1</td>\n",
       "      <td>0</td>\n",
       "      <td>0</td>\n",
       "      <td>1</td>\n",
       "      <td>0</td>\n",
       "      <td>0</td>\n",
       "      <td>1</td>\n",
       "      <td>1</td>\n",
       "      <td>2</td>\n",
       "      <td>2</td>\n",
       "    </tr>\n",
       "    <tr>\n",
       "      <th>2</th>\n",
       "      <td>502</td>\n",
       "      <td>14</td>\n",
       "      <td>1</td>\n",
       "      <td>1</td>\n",
       "      <td>1</td>\n",
       "      <td>2</td>\n",
       "      <td>0</td>\n",
       "      <td>1</td>\n",
       "      <td>0</td>\n",
       "      <td>1</td>\n",
       "      <td>1</td>\n",
       "      <td>0</td>\n",
       "      <td>0</td>\n",
       "      <td>1</td>\n",
       "      <td>0</td>\n",
       "      <td>0</td>\n",
       "      <td>1</td>\n",
       "      <td>1</td>\n",
       "      <td>2</td>\n",
       "      <td>2</td>\n",
       "    </tr>\n",
       "  </tbody>\n",
       "</table>\n",
       "</div>"
      ],
      "text/plain": [
       "   city  state  RestaurantsDelivery  OutdoorSeating  \\\n",
       "0   574     13                    0               0   \n",
       "1    16     14                    1               1   \n",
       "2   502     14                    1               1   \n",
       "\n",
       "   BusinessAcceptsCreditCards  BikeParking  RestaurantsPriceRange2  \\\n",
       "0                           0            1                       0   \n",
       "1                           1            0                       0   \n",
       "2                           1            2                       0   \n",
       "\n",
       "   RestaurantsTakeOut  ByAppointmentOnly  WiFi  Alcohol  Caters  \\\n",
       "0                   1                  0     2        1       1   \n",
       "1                   1                  0     1        1       0   \n",
       "2                   1                  0     1        1       0   \n",
       "\n",
       "   RestaurantsAttire  GoodForKids  DogsAllowed  RestaurantsTableService  \\\n",
       "0                  3            2            2                        2   \n",
       "1                  0            1            0                        0   \n",
       "2                  0            1            0                        0   \n",
       "\n",
       "   WheelchairAccessible  DriveThru  Smoking  Open24Hours  \n",
       "0                     2          2        2            2  \n",
       "1                     1          1        2            2  \n",
       "2                     1          1        2            2  "
      ]
     },
     "execution_count": 16,
     "metadata": {},
     "output_type": "execute_result"
    }
   ],
   "source": [
    "x.head(3)"
   ]
  },
  {
   "cell_type": "code",
   "execution_count": 17,
   "metadata": {
    "colab": {
     "base_uri": "https://localhost:8080/"
    },
    "id": "BrGPjC-R3_tm",
    "outputId": "b9f8ac52-2bcc-4d73-fa53-0801b161190e"
   },
   "outputs": [
    {
     "data": {
      "text/plain": [
       "(44594, 20)"
      ]
     },
     "execution_count": 17,
     "metadata": {},
     "output_type": "execute_result"
    }
   ],
   "source": [
    "x.shape"
   ]
  },
  {
   "cell_type": "code",
   "execution_count": 18,
   "metadata": {
    "colab": {
     "base_uri": "https://localhost:8080/"
    },
    "id": "mI4YazGg3_4W",
    "outputId": "8e83033e-902d-464d-b99e-7647e7cd95c2"
   },
   "outputs": [
    {
     "data": {
      "text/plain": [
       "(44594,)"
      ]
     },
     "execution_count": 18,
     "metadata": {},
     "output_type": "execute_result"
    }
   ],
   "source": [
    "y.shape"
   ]
  },
  {
   "cell_type": "markdown",
   "metadata": {},
   "source": [
    "<hr style=\"border:2px solid black\">"
   ]
  },
  {
   "cell_type": "markdown",
   "metadata": {},
   "source": [
    "# Splitting dataset to train and test:"
   ]
  },
  {
   "cell_type": "code",
   "execution_count": 19,
   "metadata": {
    "id": "fh_eE55x8Zpd"
   },
   "outputs": [],
   "source": [
    "# splitting data to training and test set\n",
    "x_train,x_test,y_train,y_test=train_test_split(x,y,test_size=0.20,random_state=7)"
   ]
  },
  {
   "cell_type": "code",
   "execution_count": 20,
   "metadata": {
    "id": "Hat569egqMEf"
   },
   "outputs": [],
   "source": [
    "# scale the training \n",
    "# to equalize the range and/or data variability.\n",
    "scaler = StandardScaler()\n",
    "resTrain_Scaled = scaler.fit_transform(x_train)"
   ]
  },
  {
   "cell_type": "code",
   "execution_count": 21,
   "metadata": {
    "id": "2U8c6azSqaOT"
   },
   "outputs": [],
   "source": [
    "#scale the test data\n",
    "resTest_scaled = scaler.transform(x_test)"
   ]
  },
  {
   "cell_type": "markdown",
   "metadata": {},
   "source": [
    "<hr style=\"border:2px solid black\">"
   ]
  },
  {
   "cell_type": "markdown",
   "metadata": {},
   "source": [
    "# Logistic Regression:"
   ]
  },
  {
   "cell_type": "code",
   "execution_count": 23,
   "metadata": {},
   "outputs": [],
   "source": [
    "#Logistic Regression Classifier Evaluation\n",
    "\n",
    "from sklearn.metrics import confusion_matrix\n",
    "from sklearn.metrics import classification_report\n",
    "from sklearn.metrics import accuracy_score"
   ]
  },
  {
   "cell_type": "markdown",
   "metadata": {},
   "source": [
    "## Model with Hyperparameter Tuning"
   ]
  },
  {
   "cell_type": "code",
   "execution_count": 22,
   "metadata": {},
   "outputs": [],
   "source": [
    "# Hyperparameter Tuning\n",
    "param_grid = [    \n",
    "    {'C':[0.001, 0.01, 0.1, 1, 10, 100],\n",
    "    'solver' : ['lbfgs','newton-cg','liblinear','sag','saga'],\n",
    "    'max_iter' : [100, 1000,2500, 5000]\n",
    "    }\n",
    "]"
   ]
  },
  {
   "cell_type": "code",
   "execution_count": 24,
   "metadata": {},
   "outputs": [],
   "source": [
    "# create instance of Logistic Regression model\n",
    "#Prepairng a Decision Tree Regression\n",
    "logitModel=LogisticRegression()"
   ]
  },
  {
   "cell_type": "code",
   "execution_count": 25,
   "metadata": {},
   "outputs": [],
   "source": [
    "logitModel = GridSearchCV(logitModel, param_grid = param_grid, cv = 5, verbose=True, n_jobs=-1, error_score='raise')"
   ]
  },
  {
   "cell_type": "code",
   "execution_count": 26,
   "metadata": {},
   "outputs": [
    {
     "name": "stdout",
     "output_type": "stream",
     "text": [
      "Fitting 5 folds for each of 120 candidates, totalling 600 fits\n"
     ]
    },
    {
     "data": {
      "text/plain": [
       "GridSearchCV(cv=5, error_score='raise', estimator=LogisticRegression(),\n",
       "             n_jobs=-1,\n",
       "             param_grid=[{'C': [0.001, 0.01, 0.1, 1, 10, 100],\n",
       "                          'max_iter': [100, 1000, 2500, 5000],\n",
       "                          'solver': ['lbfgs', 'newton-cg', 'liblinear', 'sag',\n",
       "                                     'saga']}],\n",
       "             verbose=True)"
      ]
     },
     "execution_count": 26,
     "metadata": {},
     "output_type": "execute_result"
    }
   ],
   "source": [
    "# fit\n",
    "logitModel.fit(resTrain_Scaled,y_train)\n",
    "#logitModel.fit(resTrain_Scaled,y_train)"
   ]
  },
  {
   "cell_type": "code",
   "execution_count": 27,
   "metadata": {},
   "outputs": [
    {
     "name": "stdout",
     "output_type": "stream",
     "text": [
      "{'C': 0.001, 'max_iter': 100, 'solver': 'liblinear'}\n"
     ]
    }
   ],
   "source": [
    "print(logitModel.best_params_)"
   ]
  },
  {
   "cell_type": "code",
   "execution_count": 28,
   "metadata": {
    "id": "M6pBH6qIEaeE"
   },
   "outputs": [],
   "source": [
    "#Predict the response for test dataset\n",
    "y_pred_Logistic = logitModel.predict(resTest_scaled)"
   ]
  },
  {
   "cell_type": "code",
   "execution_count": 29,
   "metadata": {
    "colab": {
     "base_uri": "https://localhost:8080/"
    },
    "id": "4MDOwqvHDuFz",
    "outputId": "a84e0dff-e0d9-4730-d189-e694d5982ec8"
   },
   "outputs": [
    {
     "name": "stdout",
     "output_type": "stream",
     "text": [
      "Logistic Regression Classification Accuracy:  0.650633479089584\n",
      "Logistic Regression Classification Report:\n",
      "               precision    recall  f1-score   support\n",
      "\n",
      "         0.0       0.65      0.70      0.67      4565\n",
      "         1.0       0.66      0.60      0.63      4354\n",
      "\n",
      "    accuracy                           0.65      8919\n",
      "   macro avg       0.65      0.65      0.65      8919\n",
      "weighted avg       0.65      0.65      0.65      8919\n",
      "\n",
      "Logistic Regression Confusion Matrix:\n",
      " [[3205 1360]\n",
      " [1756 2598]]\n"
     ]
    }
   ],
   "source": [
    "# Accuracy score\n",
    "from sklearn.metrics import accuracy_score\n",
    "print('Logistic Regression Classification Accuracy: ',accuracy_score(y_pred_Logistic,y_test))\n",
    "\n",
    "# Summary of the predictions made by the classifier\n",
    "print('Logistic Regression Classification Report:\\n', classification_report(y_test, y_pred_Logistic))\n",
    "print('Logistic Regression Confusion Matrix:\\n', confusion_matrix(y_test, y_pred_Logistic))"
   ]
  },
  {
   "cell_type": "code",
   "execution_count": 30,
   "metadata": {},
   "outputs": [
    {
     "name": "stderr",
     "output_type": "stream",
     "text": [
      "/opt/anaconda3/lib/python3.8/site-packages/sklearn/utils/deprecation.py:87: FutureWarning: Function plot_confusion_matrix is deprecated; Function `plot_confusion_matrix` is deprecated in 1.0 and will be removed in 1.2. Use one of the class methods: ConfusionMatrixDisplay.from_predictions or ConfusionMatrixDisplay.from_estimator.\n",
      "  warnings.warn(msg, category=FutureWarning)\n"
     ]
    },
    {
     "data": {
      "image/png": "[encoded data removed]",
      "text/plain": [
       "<Figure size 432x288 with 2 Axes>"
      ]
     },
     "metadata": {
      "needs_background": "light"
     },
     "output_type": "display_data"
    }
   ],
   "source": [
    "from sklearn.metrics import plot_confusion_matrix\n",
    "plot_confusion_matrix(logitModel, resTest_scaled, y_test)  \n",
    "plt.show()"
   ]
  },
  {
   "cell_type": "markdown",
   "metadata": {},
   "source": [
    "# AUC ROC Score:"
   ]
  },
  {
   "cell_type": "code",
   "execution_count": 31,
   "metadata": {},
   "outputs": [
    {
     "name": "stdout",
     "output_type": "stream",
     "text": [
      "AUC Score:\n",
      "0.6994278278185612\n"
     ]
    }
   ],
   "source": [
    "from sklearn.metrics import roc_auc_score\n",
    "# displays Area Under the Curve (AUC) Values\n",
    "print(\"AUC Score:\")\n",
    "print(roc_auc_score(y_test, logitModel.predict_proba(resTest_scaled)[::, 1]))\n"
   ]
  },
  {
   "cell_type": "markdown",
   "metadata": {},
   "source": [
    "# ROC Curve"
   ]
  },
  {
   "cell_type": "code",
   "execution_count": 32,
   "metadata": {},
   "outputs": [
    {
     "name": "stdout",
     "output_type": "stream",
     "text": [
      "0.6994278278185612\n"
     ]
    },
    {
     "data": {
      "image/png": "[encoded data removed]",
      "text/plain": [
       "<Figure size 432x288 with 1 Axes>"
      ]
     },
     "metadata": {
      "needs_background": "light"
     },
     "output_type": "display_data"
    }
   ],
   "source": [
    "from sklearn.metrics import roc_curve\n",
    "#define metrics\n",
    "y_pred_proba = logitModel.predict_proba(resTest_scaled)[:,1]\n",
    "\n",
    "fpr, tpr, thresholds = metrics.roc_curve(y_test,  y_pred_proba)\n",
    "print(metrics.auc(fpr, tpr))\n",
    "\n",
    "#create ROC curve\n",
    "plt.plot([0,1], [0,1],'k--')\n",
    "plt.plot(fpr,tpr)\n",
    "plt.ylabel('True Positive Rate')\n",
    "plt.xlabel('False Positive Rate')\n",
    "plt.show();\n"
   ]
  },
  {
   "cell_type": "code",
   "execution_count": 33,
   "metadata": {},
   "outputs": [],
   "source": [
    "y_testDict = dict(list(enumerate(y_test.index)))"
   ]
  },
  {
   "cell_type": "code",
   "execution_count": 1,
   "metadata": {},
   "outputs": [],
   "source": [
    "#print(y_testDict)"
   ]
  },
  {
   "cell_type": "code",
   "execution_count": 35,
   "metadata": {},
   "outputs": [
    {
     "name": "stdout",
     "output_type": "stream",
     "text": [
      "8915\n"
     ]
    }
   ],
   "source": [
    "print(y_testDict[409])"
   ]
  },
  {
   "cell_type": "code",
   "execution_count": 36,
   "metadata": {},
   "outputs": [
    {
     "name": "stdout",
     "output_type": "stream",
     "text": [
      "Tableau\n"
     ]
    }
   ],
   "source": [
    "print(df.iloc[8915][\"name\"])"
   ]
  },
  {
   "cell_type": "code",
   "execution_count": 37,
   "metadata": {
    "id": "dQtkkOZN8rws"
   },
   "outputs": [],
   "source": [
    "# create prediction off of trained model by using test set"
   ]
  },
  {
   "cell_type": "code",
   "execution_count": 38,
   "metadata": {
    "id": "BtDu35yX80QV"
   },
   "outputs": [],
   "source": [
    "# compare predicted results with test set label"
   ]
  },
  {
   "cell_type": "code",
   "execution_count": 39,
   "metadata": {
    "colab": {
     "base_uri": "https://localhost:8080/"
    },
    "id": "BcxMAhYD-aAl",
    "outputId": "e072b212-ed82-4fd6-e168-c883c31d8a09"
   },
   "outputs": [
    {
     "data": {
      "text/plain": [
       "1.0"
      ]
     },
     "execution_count": 39,
     "metadata": {},
     "output_type": "execute_result"
    }
   ],
   "source": [
    "y_test.iloc[409]"
   ]
  },
  {
   "cell_type": "code",
   "execution_count": 40,
   "metadata": {
    "colab": {
     "base_uri": "https://localhost:8080/"
    },
    "id": "4NzOAQl45YQN",
    "outputId": "b6142c5a-616e-4cfe-d3a0-0b76a3c8759a"
   },
   "outputs": [
    {
     "data": {
      "text/plain": [
       "array([1.])"
      ]
     },
     "execution_count": 40,
     "metadata": {},
     "output_type": "execute_result"
    }
   ],
   "source": [
    "logitModel.predict(resTest_scaled[[409]])\n",
    "#logisticRegr.predict(x_test[0].reshape(1,-1))"
   ]
  },
  {
   "cell_type": "markdown",
   "metadata": {},
   "source": [
    "<hr style=\"border:2px solid black\">"
   ]
  },
  {
   "cell_type": "markdown",
   "metadata": {},
   "source": [
    "# Decision Tree Classifier:"
   ]
  },
  {
   "cell_type": "code",
   "execution_count": 61,
   "metadata": {},
   "outputs": [],
   "source": [
    "from sklearn.tree import DecisionTreeClassifier # Import Decision Tree Classifier\n",
    "from sklearn.model_selection import train_test_split # Import train_test_split function\n",
    "from sklearn import metrics #Import scikit-learn metrics module for accuracy calculation"
   ]
  },
  {
   "cell_type": "markdown",
   "metadata": {},
   "source": [
    "## Model with Hyperparameter Tuning"
   ]
  },
  {
   "cell_type": "code",
   "execution_count": 41,
   "metadata": {},
   "outputs": [],
   "source": [
    "# Hyperparameter Tuning\n",
    "param_grid = {\n",
    "    'criterion': ['gini', 'entropy'],\n",
    "    'max_depth': [2,4,6,8,10,12],\n",
    "    'min_samples_split': [2, 3, 4],\n",
    "    'max_leaf_nodes': list(range(2, 100))\n",
    "}"
   ]
  },
  {
   "cell_type": "code",
   "execution_count": 42,
   "metadata": {},
   "outputs": [],
   "source": [
    "#MODELLING\n",
    "\n",
    "#Decision Tree\n",
    "\n",
    "# Create Decision Tree classifer object\n",
    "clf = DecisionTreeClassifier()"
   ]
  },
  {
   "cell_type": "code",
   "execution_count": 43,
   "metadata": {},
   "outputs": [],
   "source": [
    "clf = GridSearchCV(clf, param_grid = param_grid, cv = 5, verbose=True, n_jobs=-1, error_score='raise')"
   ]
  },
  {
   "cell_type": "code",
   "execution_count": 44,
   "metadata": {},
   "outputs": [
    {
     "name": "stdout",
     "output_type": "stream",
     "text": [
      "Fitting 5 folds for each of 3528 candidates, totalling 17640 fits\n"
     ]
    },
    {
     "data": {
      "text/plain": [
       "GridSearchCV(cv=5, error_score='raise', estimator=DecisionTreeClassifier(),\n",
       "             n_jobs=-1,\n",
       "             param_grid={'criterion': ['gini', 'entropy'],\n",
       "                         'max_depth': [2, 4, 6, 8, 10, 12],\n",
       "                         'max_leaf_nodes': [2, 3, 4, 5, 6, 7, 8, 9, 10, 11, 12,\n",
       "                                            13, 14, 15, 16, 17, 18, 19, 20, 21,\n",
       "                                            22, 23, 24, 25, 26, 27, 28, 29, 30,\n",
       "                                            31, ...],\n",
       "                         'min_samples_split': [2, 3, 4]},\n",
       "             verbose=True)"
      ]
     },
     "execution_count": 44,
     "metadata": {},
     "output_type": "execute_result"
    }
   ],
   "source": [
    "# Train Decision Tree Classifer\n",
    "clf.fit(resTrain_Scaled,y_train)"
   ]
  },
  {
   "cell_type": "code",
   "execution_count": 45,
   "metadata": {},
   "outputs": [
    {
     "name": "stdout",
     "output_type": "stream",
     "text": [
      "{'criterion': 'gini', 'max_depth': 12, 'max_leaf_nodes': 87, 'min_samples_split': 2}\n"
     ]
    }
   ],
   "source": [
    "print(clf.best_params_)"
   ]
  },
  {
   "cell_type": "code",
   "execution_count": 46,
   "metadata": {
    "id": "4avyE3Ewb28V"
   },
   "outputs": [],
   "source": [
    "#Predict the response for test dataset\n",
    "y_pred_DT = clf.predict(resTest_scaled)"
   ]
  },
  {
   "cell_type": "code",
   "execution_count": 47,
   "metadata": {
    "colab": {
     "base_uri": "https://localhost:8080/"
    },
    "id": "XUGBYnhtcbeX",
    "outputId": "d5ca858b-0215-463e-df29-90ae3a9e9a02"
   },
   "outputs": [
    {
     "name": "stdout",
     "output_type": "stream",
     "text": [
      "Decision Tree Classification Accuracy:  0.6766453638300258\n",
      "Decision Tree Classification Report:\n",
      "               precision    recall  f1-score   support\n",
      "\n",
      "         0.0       0.69      0.68      0.68      4565\n",
      "         1.0       0.67      0.68      0.67      4354\n",
      "\n",
      "    accuracy                           0.68      8919\n",
      "   macro avg       0.68      0.68      0.68      8919\n",
      "weighted avg       0.68      0.68      0.68      8919\n",
      "\n",
      "Decision Tree Confusion Matrix:\n",
      " [[3082 1483]\n",
      " [1401 2953]]\n"
     ]
    }
   ],
   "source": [
    "#Decision Tree Classifier Evaluation\n",
    "\n",
    "\n",
    "# Accuracy score\n",
    "from sklearn.metrics import accuracy_score\n",
    "print('Decision Tree Classification Accuracy: ',accuracy_score(y_pred_DT,y_test))\n",
    "\n",
    "# Summary of the predictions made by the classifier\n",
    "print('Decision Tree Classification Report:\\n', classification_report(y_test, y_pred_DT))\n",
    "print('Decision Tree Confusion Matrix:\\n', confusion_matrix(y_test, y_pred_DT))"
   ]
  },
  {
   "cell_type": "code",
   "execution_count": 48,
   "metadata": {},
   "outputs": [
    {
     "name": "stderr",
     "output_type": "stream",
     "text": [
      "/opt/anaconda3/lib/python3.8/site-packages/sklearn/utils/deprecation.py:87: FutureWarning: Function plot_confusion_matrix is deprecated; Function `plot_confusion_matrix` is deprecated in 1.0 and will be removed in 1.2. Use one of the class methods: ConfusionMatrixDisplay.from_predictions or ConfusionMatrixDisplay.from_estimator.\n",
      "  warnings.warn(msg, category=FutureWarning)\n"
     ]
    },
    {
     "data": {
      "image/png": "[encoded data removed]",
      "text/plain": [
       "<Figure size 432x288 with 2 Axes>"
      ]
     },
     "metadata": {
      "needs_background": "light"
     },
     "output_type": "display_data"
    }
   ],
   "source": [
    "from sklearn.metrics import plot_confusion_matrix\n",
    "plot_confusion_matrix(clf, resTest_scaled, y_test)  \n",
    "plt.show()"
   ]
  },
  {
   "cell_type": "markdown",
   "metadata": {},
   "source": [
    "# AUC ROC Score:"
   ]
  },
  {
   "cell_type": "code",
   "execution_count": 49,
   "metadata": {},
   "outputs": [
    {
     "name": "stdout",
     "output_type": "stream",
     "text": [
      "AUC Score:\n",
      "0.7432804672567583\n"
     ]
    }
   ],
   "source": [
    "# might remove\n",
    "\n",
    "from sklearn.metrics import roc_auc_score\n",
    "print(\"AUC Score:\")\n",
    "print(roc_auc_score(y_test, clf.predict_proba(resTest_scaled)[:,1]))\n"
   ]
  },
  {
   "cell_type": "markdown",
   "metadata": {},
   "source": [
    "# ROC Curve:"
   ]
  },
  {
   "cell_type": "code",
   "execution_count": 50,
   "metadata": {},
   "outputs": [
    {
     "name": "stdout",
     "output_type": "stream",
     "text": [
      "0.7432804672567583\n"
     ]
    },
    {
     "data": {
      "image/png": "[encoded data removed]",
      "text/plain": [
       "<Figure size 432x288 with 1 Axes>"
      ]
     },
     "metadata": {
      "needs_background": "light"
     },
     "output_type": "display_data"
    }
   ],
   "source": [
    "from sklearn.metrics import roc_curve\n",
    "#define metrics\n",
    "y_pred_DT = clf.predict_proba(resTest_scaled)[:,1]\n",
    "\n",
    "fpr, tpr, thresholds = metrics.roc_curve(y_test,  y_pred_DT)\n",
    "print(metrics.auc(fpr, tpr))\n",
    "#create ROC curve\n",
    "plt.plot([0,1], [0,1],'k--')\n",
    "plt.plot(fpr,tpr)\n",
    "plt.ylabel('True Positive Rate')\n",
    "plt.xlabel('False Positive Rate')\n",
    "plt.show();\n",
    "\n"
   ]
  },
  {
   "cell_type": "markdown",
   "metadata": {},
   "source": [
    "<hr style=\"border:2px solid black\">"
   ]
  },
  {
   "cell_type": "markdown",
   "metadata": {},
   "source": [
    "# Random Forest Classifier:"
   ]
  },
  {
   "cell_type": "code",
   "execution_count": 62,
   "metadata": {},
   "outputs": [],
   "source": [
    "from sklearn.ensemble import RandomForestClassifier  #Import Random Forest Model\n",
    "from sklearn.model_selection import train_test_split # Import train_test_split function\n",
    "from sklearn import metrics #Import scikit-learn metrics module for accuracy calculation"
   ]
  },
  {
   "cell_type": "markdown",
   "metadata": {},
   "source": [
    "## Model with Hyperparameter Tuning"
   ]
  },
  {
   "cell_type": "code",
   "execution_count": 51,
   "metadata": {},
   "outputs": [],
   "source": [
    "random_grid = {\n",
    "    'bootstrap': [True],\n",
    "    'max_depth': [80, 90, 100, 110],\n",
    "    'max_features': [2, 3],\n",
    "    'min_samples_leaf': [3, 4, 5],\n",
    "    'min_samples_split': [8, 10, 12],\n",
    "    'n_estimators': [100, 200, 300, 1000]\n",
    "}"
   ]
  },
  {
   "cell_type": "code",
   "execution_count": 52,
   "metadata": {},
   "outputs": [],
   "source": [
    "## Random Forest\n",
    "\n",
    "#Create Random Forest classifer object\n",
    "\n",
    "clf_RF =RandomForestClassifier()"
   ]
  },
  {
   "cell_type": "code",
   "execution_count": 53,
   "metadata": {},
   "outputs": [],
   "source": [
    "clf_RF = RandomizedSearchCV(clf_RF, param_distributions = random_grid, n_iter = 100, cv = 5, random_state=35, verbose=True, n_jobs=-1)"
   ]
  },
  {
   "cell_type": "code",
   "execution_count": 54,
   "metadata": {},
   "outputs": [
    {
     "name": "stdout",
     "output_type": "stream",
     "text": [
      "Fitting 5 folds for each of 100 candidates, totalling 500 fits\n"
     ]
    },
    {
     "data": {
      "text/plain": [
       "RandomizedSearchCV(cv=5, estimator=RandomForestClassifier(), n_iter=100,\n",
       "                   n_jobs=-1,\n",
       "                   param_distributions={'bootstrap': [True],\n",
       "                                        'max_depth': [80, 90, 100, 110],\n",
       "                                        'max_features': [2, 3],\n",
       "                                        'min_samples_leaf': [3, 4, 5],\n",
       "                                        'min_samples_split': [8, 10, 12],\n",
       "                                        'n_estimators': [100, 200, 300, 1000]},\n",
       "                   random_state=35, verbose=True)"
      ]
     },
     "execution_count": 54,
     "metadata": {},
     "output_type": "execute_result"
    }
   ],
   "source": [
    "#Train the model using the training sets y_pred=clf.predict(X_test)\n",
    "clf_RF.fit(resTrain_Scaled,y_train)"
   ]
  },
  {
   "cell_type": "code",
   "execution_count": 55,
   "metadata": {},
   "outputs": [
    {
     "name": "stdout",
     "output_type": "stream",
     "text": [
      "{'n_estimators': 1000, 'min_samples_split': 8, 'min_samples_leaf': 3, 'max_features': 2, 'max_depth': 80, 'bootstrap': True}\n"
     ]
    }
   ],
   "source": [
    "print(clf_RF.best_params_)"
   ]
  },
  {
   "cell_type": "code",
   "execution_count": 56,
   "metadata": {
    "id": "tF7mSejOeLJ-"
   },
   "outputs": [],
   "source": [
    "#Predict the response for test dataset\n",
    "y_pred_RF = clf_RF.predict(resTest_scaled)"
   ]
  },
  {
   "cell_type": "code",
   "execution_count": 57,
   "metadata": {
    "colab": {
     "base_uri": "https://localhost:8080/"
    },
    "id": "F5Z5w2zOeogW",
    "outputId": "3de6ef4a-e9d0-40b9-ae9f-2c56009ddae1"
   },
   "outputs": [
    {
     "name": "stdout",
     "output_type": "stream",
     "text": [
      "Random Forest Classification Accuracy:  0.6930149119856486\n",
      "Random Forest Classification Report:\n",
      "               precision    recall  f1-score   support\n",
      "\n",
      "         0.0       0.70      0.70      0.70      4565\n",
      "         1.0       0.68      0.69      0.69      4354\n",
      "\n",
      "    accuracy                           0.69      8919\n",
      "   macro avg       0.69      0.69      0.69      8919\n",
      "weighted avg       0.69      0.69      0.69      8919\n",
      "\n",
      "Random Forest Confusion Matrix:\n",
      " [[3178 1387]\n",
      " [1351 3003]]\n"
     ]
    }
   ],
   "source": [
    "##Random Forest Classification Evaluation\n",
    "\n",
    "\n",
    "# Accuracy score\n",
    "from sklearn.metrics import accuracy_score\n",
    "print('Random Forest Classification Accuracy: ',accuracy_score(y_pred_RF,y_test))\n",
    "\n",
    "# Summary of the predictions made by the classifier\n",
    "print('Random Forest Classification Report:\\n', classification_report(y_test, y_pred_RF))\n",
    "print('Random Forest Confusion Matrix:\\n', confusion_matrix(y_test, y_pred_RF))"
   ]
  },
  {
   "cell_type": "code",
   "execution_count": 58,
   "metadata": {},
   "outputs": [
    {
     "name": "stderr",
     "output_type": "stream",
     "text": [
      "/opt/anaconda3/lib/python3.8/site-packages/sklearn/utils/deprecation.py:87: FutureWarning: Function plot_confusion_matrix is deprecated; Function `plot_confusion_matrix` is deprecated in 1.0 and will be removed in 1.2. Use one of the class methods: ConfusionMatrixDisplay.from_predictions or ConfusionMatrixDisplay.from_estimator.\n",
      "  warnings.warn(msg, category=FutureWarning)\n"
     ]
    },
    {
     "data": {
      "image/png": "[encoded data removed]",
      "text/plain": [
       "<Figure size 432x288 with 2 Axes>"
      ]
     },
     "metadata": {
      "needs_background": "light"
     },
     "output_type": "display_data"
    }
   ],
   "source": [
    "from sklearn.metrics import plot_confusion_matrix\n",
    "plot_confusion_matrix(clf_RF, resTest_scaled, y_test)  \n",
    "plt.show()"
   ]
  },
  {
   "cell_type": "markdown",
   "metadata": {},
   "source": [
    "# AUC ROC Score:"
   ]
  },
  {
   "cell_type": "code",
   "execution_count": 59,
   "metadata": {},
   "outputs": [
    {
     "name": "stdout",
     "output_type": "stream",
     "text": [
      "AUC Score:\n",
      "0.7644460583386705\n"
     ]
    }
   ],
   "source": [
    "# might remove\n",
    "\n",
    "from sklearn.metrics import roc_auc_score\n",
    "print(\"AUC Score:\")\n",
    "print(roc_auc_score(y_test, clf_RF.predict_proba(resTest_scaled)[:,1]))\n"
   ]
  },
  {
   "cell_type": "markdown",
   "metadata": {},
   "source": [
    "# ROC Curve:"
   ]
  },
  {
   "cell_type": "code",
   "execution_count": 60,
   "metadata": {
    "id": "qsU36uMWCU22"
   },
   "outputs": [
    {
     "name": "stdout",
     "output_type": "stream",
     "text": [
      "0.7644460583386705\n"
     ]
    },
    {
     "data": {
      "image/png": "[encoded data removed]",
      "text/plain": [
       "<Figure size 432x288 with 1 Axes>"
      ]
     },
     "metadata": {
      "needs_background": "light"
     },
     "output_type": "display_data"
    }
   ],
   "source": [
    "from sklearn.metrics import roc_curve\n",
    "#define metrics\n",
    "y_pred_RF = clf_RF.predict_proba(resTest_scaled)[:,1]\n",
    "\n",
    "fpr, tpr, thresholds = metrics.roc_curve(y_test,  y_pred_RF)\n",
    "print(metrics.auc(fpr, tpr))\n",
    "#create ROC curve\n",
    "plt.plot([0,1], [0,1],'k--')\n",
    "plt.plot(fpr,tpr)\n",
    "plt.ylabel('True Positive Rate')\n",
    "plt.xlabel('False Positive Rate')\n",
    "plt.show();\n"
   ]
  },
  {
   "cell_type": "code",
   "execution_count": null,
   "metadata": {},
   "outputs": [],
   "source": []
  }
 ],
 "metadata": {
  "colab": {
   "collapsed_sections": [],
   "name": "INFO-442: Final Project.ipynb",
   "provenance": []
  },
  "kernelspec": {
   "display_name": "Python 3",
   "language": "python",
   "name": "python3"
  },
  "language_info": {
   "codemirror_mode": {
    "name": "ipython",
    "version": 3
   },
   "file_extension": ".py",
   "mimetype": "text/x-python",
   "name": "python",
   "nbconvert_exporter": "python",
   "pygments_lexer": "ipython3",
   "version": "3.8.5"
  }
 },
 "nbformat": 4,
 "nbformat_minor": 1
}
