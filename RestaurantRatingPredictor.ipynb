{
 "cells": [
  {
   "cell_type": "markdown",
   "metadata": {},
   "source": [
    "## Project Title: Restaurant Rating Predictor\n",
    "\n",
    "## Student(s): Abdullah Shah, Ayesha Mubashir, Giang Do\n",
    "\n",
    "#### Date: June 05, 2022\n",
    "---"
   ]
  },
  {
   "cell_type": "markdown",
   "metadata": {},
   "source": [
    "# Import modules:"
   ]
  },
  {
   "cell_type": "code",
   "execution_count": 1,
   "metadata": {
    "id": "NO_Q2Xar6p0j"
   },
   "outputs": [],
   "source": [
    "import pandas as pd\n",
    "import numpy as np\n",
    "import math\n",
    "from matplotlib import pyplot as plt\n",
    "from sklearn.metrics import RocCurveDisplay"
   ]
  },
  {
   "cell_type": "code",
   "execution_count": 2,
   "metadata": {
    "id": "PX42j-lz7vxM"
   },
   "outputs": [],
   "source": [
    "from sklearn.linear_model import LogisticRegression\n",
    "from sklearn.metrics import accuracy_score\n",
    "from sklearn.model_selection import train_test_split"
   ]
  },
  {
   "cell_type": "code",
   "execution_count": 3,
   "metadata": {
    "id": "3xWzmrfa-LCG"
   },
   "outputs": [],
   "source": [
    "from sklearn.tree import DecisionTreeClassifier"
   ]
  },
  {
   "cell_type": "code",
   "execution_count": 4,
   "metadata": {
    "id": "kaflYYjT3U1l"
   },
   "outputs": [],
   "source": [
    "# import preprocessing from sklearn\n",
    "from sklearn import preprocessing"
   ]
  },
  {
   "cell_type": "code",
   "execution_count": 5,
   "metadata": {
    "id": "Z9M5N5z8qdSs"
   },
   "outputs": [],
   "source": [
    "from sklearn.model_selection import GridSearchCV # used for hypertuning the parameters\n",
    "from sklearn.preprocessing import scale, StandardScaler\n",
    "from sklearn.model_selection import GridSearchCV\n",
    "from sklearn import metrics\n",
    "from sklearn.model_selection import RandomizedSearchCV"
   ]
  },
  {
   "cell_type": "markdown",
   "metadata": {},
   "source": [
    "<hr style=\"border:2px solid black\">"
   ]
  },
  {
   "cell_type": "markdown",
   "metadata": {
    "id": "si5IAJgY7ylX"
   },
   "source": [
    "# Data loading:"
   ]
  },
  {
   "cell_type": "code",
   "execution_count": 6,
   "metadata": {
    "id": "S1Kf878qIaS7"
   },
   "outputs": [],
   "source": [
    "df= pd.read_csv('fileDataFrame.csv')"
   ]
  },
  {
   "cell_type": "code",
   "execution_count": 7,
   "metadata": {
    "colab": {
     "base_uri": "https://localhost:8080/"
    },
    "id": "4Js0iZiPYHuS",
    "outputId": "c5ce4da8-84b5-4e3c-e975-ac868d8a67af"
   },
   "outputs": [
    {
     "data": {
      "text/plain": [
       "Unnamed: 0                      int64\n",
       "business_id                    object\n",
       "name                           object\n",
       "address                        object\n",
       "city                           object\n",
       "state                          object\n",
       "stars                         float64\n",
       "RestaurantsDelivery            object\n",
       "OutdoorSeating                 object\n",
       "BusinessAcceptsCreditCards     object\n",
       "BikeParking                    object\n",
       "RestaurantsPriceRange2         object\n",
       "RestaurantsTakeOut             object\n",
       "ByAppointmentOnly              object\n",
       "WiFi                           object\n",
       "Alcohol                        object\n",
       "Caters                         object\n",
       "RestaurantsAttire              object\n",
       "GoodForKids                    object\n",
       "DogsAllowed                    object\n",
       "RestaurantsTableService        object\n",
       "WheelchairAccessible           object\n",
       "DriveThru                      object\n",
       "Smoking                        object\n",
       "Open24Hours                    object\n",
       "dtype: object"
      ]
     },
     "execution_count": 7,
     "metadata": {},
     "output_type": "execute_result"
    }
   ],
   "source": [
    "#Check columns' datatype\n",
    "df.dtypes"
   ]
  },
  {
   "cell_type": "code",
   "execution_count": 8,
   "metadata": {
    "colab": {
     "base_uri": "https://localhost:8080/"
    },
    "id": "n7YYTUWp72XG",
    "outputId": "19b4e792-71b0-461f-d5a7-a4439d0836ad"
   },
   "outputs": [
    {
     "data": {
      "text/plain": [
       "Unnamed: 0                    44594\n",
       "business_id                   44594\n",
       "name                          44594\n",
       "address                       44031\n",
       "city                          44594\n",
       "state                         44594\n",
       "stars                         44594\n",
       "RestaurantsDelivery           44594\n",
       "OutdoorSeating                44594\n",
       "BusinessAcceptsCreditCards    44594\n",
       "BikeParking                   44594\n",
       "RestaurantsPriceRange2        44594\n",
       "RestaurantsTakeOut            44594\n",
       "ByAppointmentOnly             44594\n",
       "WiFi                          44594\n",
       "Alcohol                       44594\n",
       "Caters                        44594\n",
       "RestaurantsAttire             44594\n",
       "GoodForKids                   44594\n",
       "DogsAllowed                   44594\n",
       "RestaurantsTableService       44594\n",
       "WheelchairAccessible          44594\n",
       "DriveThru                     44594\n",
       "Smoking                       44594\n",
       "Open24Hours                   44594\n",
       "dtype: int64"
      ]
     },
     "execution_count": 8,
     "metadata": {},
     "output_type": "execute_result"
    }
   ],
   "source": [
    "df.count()"
   ]
  },
  {
   "cell_type": "code",
   "execution_count": 9,
   "metadata": {
    "colab": {
     "base_uri": "https://localhost:8080/",
     "height": 421
    },
    "id": "aBiyntagtw-v",
    "outputId": "0c0633d4-5acf-456d-e83b-2c68f604c51f"
   },
   "outputs": [
    {
     "data": {
      "text/html": [
       "<div>\n",
       "<style scoped>\n",
       "    .dataframe tbody tr th:only-of-type {\n",
       "        vertical-align: middle;\n",
       "    }\n",
       "\n",
       "    .dataframe tbody tr th {\n",
       "        vertical-align: top;\n",
       "    }\n",
       "\n",
       "    .dataframe thead th {\n",
       "        text-align: right;\n",
       "    }\n",
       "</style>\n",
       "<table border=\"1\" class=\"dataframe\">\n",
       "  <thead>\n",
       "    <tr style=\"text-align: right;\">\n",
       "      <th></th>\n",
       "      <th>Unnamed: 0</th>\n",
       "      <th>business_id</th>\n",
       "      <th>name</th>\n",
       "      <th>address</th>\n",
       "      <th>city</th>\n",
       "      <th>state</th>\n",
       "      <th>stars</th>\n",
       "      <th>RestaurantsDelivery</th>\n",
       "      <th>OutdoorSeating</th>\n",
       "      <th>BusinessAcceptsCreditCards</th>\n",
       "      <th>...</th>\n",
       "      <th>Alcohol</th>\n",
       "      <th>Caters</th>\n",
       "      <th>RestaurantsAttire</th>\n",
       "      <th>GoodForKids</th>\n",
       "      <th>DogsAllowed</th>\n",
       "      <th>RestaurantsTableService</th>\n",
       "      <th>WheelchairAccessible</th>\n",
       "      <th>DriveThru</th>\n",
       "      <th>Smoking</th>\n",
       "      <th>Open24Hours</th>\n",
       "    </tr>\n",
       "  </thead>\n",
       "  <tbody>\n",
       "    <tr>\n",
       "      <th>0</th>\n",
       "      <td>3</td>\n",
       "      <td>MTSW4McQd7CbVtyjqoe9mw</td>\n",
       "      <td>St Honore Pastries</td>\n",
       "      <td>935 Race St</td>\n",
       "      <td>Philadelphia</td>\n",
       "      <td>PA</td>\n",
       "      <td>4.0</td>\n",
       "      <td>False</td>\n",
       "      <td>False</td>\n",
       "      <td>False</td>\n",
       "      <td>...</td>\n",
       "      <td>no</td>\n",
       "      <td>True</td>\n",
       "      <td>U</td>\n",
       "      <td>U</td>\n",
       "      <td>U</td>\n",
       "      <td>U</td>\n",
       "      <td>U</td>\n",
       "      <td>U</td>\n",
       "      <td>U</td>\n",
       "      <td>U</td>\n",
       "    </tr>\n",
       "    <tr>\n",
       "      <th>1</th>\n",
       "      <td>5</td>\n",
       "      <td>CF33F8-E6oudUQ46HnavjQ</td>\n",
       "      <td>Sonic Drive-In</td>\n",
       "      <td>615 S Main St</td>\n",
       "      <td>Ashland City</td>\n",
       "      <td>TN</td>\n",
       "      <td>2.0</td>\n",
       "      <td>True</td>\n",
       "      <td>True</td>\n",
       "      <td>True</td>\n",
       "      <td>...</td>\n",
       "      <td>no</td>\n",
       "      <td>False</td>\n",
       "      <td>'casual'</td>\n",
       "      <td>True</td>\n",
       "      <td>False</td>\n",
       "      <td>False</td>\n",
       "      <td>True</td>\n",
       "      <td>True</td>\n",
       "      <td>U</td>\n",
       "      <td>U</td>\n",
       "    </tr>\n",
       "    <tr>\n",
       "      <th>2</th>\n",
       "      <td>9</td>\n",
       "      <td>bBDDEgkFA1Otx9Lfe7BZUQ</td>\n",
       "      <td>Sonic Drive-In</td>\n",
       "      <td>2312 Dickerson Pike</td>\n",
       "      <td>Nashville</td>\n",
       "      <td>TN</td>\n",
       "      <td>1.5</td>\n",
       "      <td>True</td>\n",
       "      <td>True</td>\n",
       "      <td>True</td>\n",
       "      <td>...</td>\n",
       "      <td>no</td>\n",
       "      <td>False</td>\n",
       "      <td>'casual'</td>\n",
       "      <td>True</td>\n",
       "      <td>False</td>\n",
       "      <td>False</td>\n",
       "      <td>True</td>\n",
       "      <td>True</td>\n",
       "      <td>U</td>\n",
       "      <td>U</td>\n",
       "    </tr>\n",
       "    <tr>\n",
       "      <th>3</th>\n",
       "      <td>11</td>\n",
       "      <td>eEOYSgkmpB90uNA7lDOMRA</td>\n",
       "      <td>Vietnamese Food Truck</td>\n",
       "      <td>NaN</td>\n",
       "      <td>Tampa Bay</td>\n",
       "      <td>FL</td>\n",
       "      <td>4.0</td>\n",
       "      <td>U</td>\n",
       "      <td>False</td>\n",
       "      <td>U</td>\n",
       "      <td>...</td>\n",
       "      <td>U</td>\n",
       "      <td>U</td>\n",
       "      <td>U</td>\n",
       "      <td>U</td>\n",
       "      <td>U</td>\n",
       "      <td>U</td>\n",
       "      <td>U</td>\n",
       "      <td>U</td>\n",
       "      <td>U</td>\n",
       "      <td>U</td>\n",
       "    </tr>\n",
       "    <tr>\n",
       "      <th>4</th>\n",
       "      <td>12</td>\n",
       "      <td>il_Ro8jwPlHresjw9EGmBg</td>\n",
       "      <td>Denny's</td>\n",
       "      <td>8901 US 31 S</td>\n",
       "      <td>Indianapolis</td>\n",
       "      <td>IN</td>\n",
       "      <td>2.5</td>\n",
       "      <td>True</td>\n",
       "      <td>False</td>\n",
       "      <td>True</td>\n",
       "      <td>...</td>\n",
       "      <td>U</td>\n",
       "      <td>U</td>\n",
       "      <td>'casual'</td>\n",
       "      <td>True</td>\n",
       "      <td>U</td>\n",
       "      <td>U</td>\n",
       "      <td>U</td>\n",
       "      <td>U</td>\n",
       "      <td>U</td>\n",
       "      <td>U</td>\n",
       "    </tr>\n",
       "  </tbody>\n",
       "</table>\n",
       "<p>5 rows × 25 columns</p>\n",
       "</div>"
      ],
      "text/plain": [
       "   Unnamed: 0             business_id                   name  \\\n",
       "0           3  MTSW4McQd7CbVtyjqoe9mw     St Honore Pastries   \n",
       "1           5  CF33F8-E6oudUQ46HnavjQ         Sonic Drive-In   \n",
       "2           9  bBDDEgkFA1Otx9Lfe7BZUQ         Sonic Drive-In   \n",
       "3          11  eEOYSgkmpB90uNA7lDOMRA  Vietnamese Food Truck   \n",
       "4          12  il_Ro8jwPlHresjw9EGmBg                Denny's   \n",
       "\n",
       "               address          city state  stars RestaurantsDelivery  \\\n",
       "0          935 Race St  Philadelphia    PA    4.0               False   \n",
       "1        615 S Main St  Ashland City    TN    2.0                True   \n",
       "2  2312 Dickerson Pike     Nashville    TN    1.5                True   \n",
       "3                  NaN     Tampa Bay    FL    4.0                   U   \n",
       "4         8901 US 31 S  Indianapolis    IN    2.5                True   \n",
       "\n",
       "  OutdoorSeating BusinessAcceptsCreditCards  ... Alcohol Caters  \\\n",
       "0          False                      False  ...      no   True   \n",
       "1           True                       True  ...      no  False   \n",
       "2           True                       True  ...      no  False   \n",
       "3          False                          U  ...       U      U   \n",
       "4          False                       True  ...       U      U   \n",
       "\n",
       "  RestaurantsAttire GoodForKids DogsAllowed RestaurantsTableService  \\\n",
       "0                 U           U           U                       U   \n",
       "1          'casual'        True       False                   False   \n",
       "2          'casual'        True       False                   False   \n",
       "3                 U           U           U                       U   \n",
       "4          'casual'        True           U                       U   \n",
       "\n",
       "  WheelchairAccessible DriveThru Smoking Open24Hours  \n",
       "0                    U         U       U           U  \n",
       "1                 True      True       U           U  \n",
       "2                 True      True       U           U  \n",
       "3                    U         U       U           U  \n",
       "4                    U         U       U           U  \n",
       "\n",
       "[5 rows x 25 columns]"
      ]
     },
     "execution_count": 9,
     "metadata": {},
     "output_type": "execute_result"
    }
   ],
   "source": [
    "df.head(5)"
   ]
  },
  {
   "cell_type": "code",
   "execution_count": 10,
   "metadata": {
    "colab": {
     "base_uri": "https://localhost:8080/"
    },
    "id": "DFt_tcJHuPLn",
    "outputId": "03e96f87-b9ee-4acb-9cfd-665ecc39adb9"
   },
   "outputs": [
    {
     "data": {
      "text/plain": [
       "Index(['Unnamed: 0', 'business_id', 'name', 'address', 'city', 'state',\n",
       "       'stars', 'RestaurantsDelivery', 'OutdoorSeating',\n",
       "       'BusinessAcceptsCreditCards', 'BikeParking', 'RestaurantsPriceRange2',\n",
       "       'RestaurantsTakeOut', 'ByAppointmentOnly', 'WiFi', 'Alcohol', 'Caters',\n",
       "       'RestaurantsAttire', 'GoodForKids', 'DogsAllowed',\n",
       "       'RestaurantsTableService', 'WheelchairAccessible', 'DriveThru',\n",
       "       'Smoking', 'Open24Hours'],\n",
       "      dtype='object')"
      ]
     },
     "execution_count": 10,
     "metadata": {},
     "output_type": "execute_result"
    }
   ],
   "source": [
    "df.columns"
   ]
  },
  {
   "cell_type": "markdown",
   "metadata": {},
   "source": [
    "<hr style=\"border:2px solid black\">"
   ]
  },
  {
   "cell_type": "markdown",
   "metadata": {},
   "source": [
    "# Converting \"stars\" column (Label Column) to binary:\n",
    "- ### 1: Represents stars ranging from 4 and up.\n",
    "- ### 0: Represents stars ranging from 3.5 and below."
   ]
  },
  {
   "cell_type": "code",
   "execution_count": 11,
   "metadata": {
    "colab": {
     "base_uri": "https://localhost:8080/"
    },
    "id": "BddJCPaZs5vn",
    "outputId": "6d3ee0d1-d472-4f97-de9b-7fef691de64d"
   },
   "outputs": [
    {
     "name": "stdout",
     "output_type": "stream",
     "text": [
      "Number of restaurats classified as greater than or equal to 4 stars (1):   21449\n",
      "Number of restaurats classified as less than or equal to 3.5 stars (0):   23145\n"
     ]
    }
   ],
   "source": [
    "# if a restaurant has greater than and equal to 4 stars assign it a value of 1, otherwise 0\n",
    "for i in range(0,len(df)):\n",
    "    if df['stars'][i] >= 4:\n",
    "        df.loc[i,'stars'] = 1\n",
    "    else: \n",
    "        df.loc[i,'stars']=0\n",
    "\n",
    "print(\"Number of restaurats classified as greater than or equal to 4 stars (1):  \",\n",
    "      len(df[(df['stars'] == 1)]))\n",
    "\n",
    "print(\"Number of restaurats classified as less than or equal to 3.5 stars (0):  \",\n",
    "      len(df[(df['stars'] == 0)]))"
   ]
  },
  {
   "cell_type": "code",
   "execution_count": 12,
   "metadata": {
    "colab": {
     "base_uri": "https://localhost:8080/",
     "height": 372
    },
    "id": "Hf553MSj-xzl",
    "outputId": "4ff64a17-7531-41af-d2f0-094c43dee3aa"
   },
   "outputs": [
    {
     "data": {
      "text/html": [
       "<div>\n",
       "<style scoped>\n",
       "    .dataframe tbody tr th:only-of-type {\n",
       "        vertical-align: middle;\n",
       "    }\n",
       "\n",
       "    .dataframe tbody tr th {\n",
       "        vertical-align: top;\n",
       "    }\n",
       "\n",
       "    .dataframe thead th {\n",
       "        text-align: right;\n",
       "    }\n",
       "</style>\n",
       "<table border=\"1\" class=\"dataframe\">\n",
       "  <thead>\n",
       "    <tr style=\"text-align: right;\">\n",
       "      <th></th>\n",
       "      <th>Unnamed: 0</th>\n",
       "      <th>business_id</th>\n",
       "      <th>name</th>\n",
       "      <th>address</th>\n",
       "      <th>city</th>\n",
       "      <th>state</th>\n",
       "      <th>stars</th>\n",
       "      <th>RestaurantsDelivery</th>\n",
       "      <th>OutdoorSeating</th>\n",
       "      <th>BusinessAcceptsCreditCards</th>\n",
       "      <th>...</th>\n",
       "      <th>Alcohol</th>\n",
       "      <th>Caters</th>\n",
       "      <th>RestaurantsAttire</th>\n",
       "      <th>GoodForKids</th>\n",
       "      <th>DogsAllowed</th>\n",
       "      <th>RestaurantsTableService</th>\n",
       "      <th>WheelchairAccessible</th>\n",
       "      <th>DriveThru</th>\n",
       "      <th>Smoking</th>\n",
       "      <th>Open24Hours</th>\n",
       "    </tr>\n",
       "  </thead>\n",
       "  <tbody>\n",
       "    <tr>\n",
       "      <th>0</th>\n",
       "      <td>3</td>\n",
       "      <td>MTSW4McQd7CbVtyjqoe9mw</td>\n",
       "      <td>St Honore Pastries</td>\n",
       "      <td>935 Race St</td>\n",
       "      <td>Philadelphia</td>\n",
       "      <td>PA</td>\n",
       "      <td>1.0</td>\n",
       "      <td>False</td>\n",
       "      <td>False</td>\n",
       "      <td>False</td>\n",
       "      <td>...</td>\n",
       "      <td>no</td>\n",
       "      <td>True</td>\n",
       "      <td>U</td>\n",
       "      <td>U</td>\n",
       "      <td>U</td>\n",
       "      <td>U</td>\n",
       "      <td>U</td>\n",
       "      <td>U</td>\n",
       "      <td>U</td>\n",
       "      <td>U</td>\n",
       "    </tr>\n",
       "    <tr>\n",
       "      <th>1</th>\n",
       "      <td>5</td>\n",
       "      <td>CF33F8-E6oudUQ46HnavjQ</td>\n",
       "      <td>Sonic Drive-In</td>\n",
       "      <td>615 S Main St</td>\n",
       "      <td>Ashland City</td>\n",
       "      <td>TN</td>\n",
       "      <td>0.0</td>\n",
       "      <td>True</td>\n",
       "      <td>True</td>\n",
       "      <td>True</td>\n",
       "      <td>...</td>\n",
       "      <td>no</td>\n",
       "      <td>False</td>\n",
       "      <td>'casual'</td>\n",
       "      <td>True</td>\n",
       "      <td>False</td>\n",
       "      <td>False</td>\n",
       "      <td>True</td>\n",
       "      <td>True</td>\n",
       "      <td>U</td>\n",
       "      <td>U</td>\n",
       "    </tr>\n",
       "    <tr>\n",
       "      <th>2</th>\n",
       "      <td>9</td>\n",
       "      <td>bBDDEgkFA1Otx9Lfe7BZUQ</td>\n",
       "      <td>Sonic Drive-In</td>\n",
       "      <td>2312 Dickerson Pike</td>\n",
       "      <td>Nashville</td>\n",
       "      <td>TN</td>\n",
       "      <td>0.0</td>\n",
       "      <td>True</td>\n",
       "      <td>True</td>\n",
       "      <td>True</td>\n",
       "      <td>...</td>\n",
       "      <td>no</td>\n",
       "      <td>False</td>\n",
       "      <td>'casual'</td>\n",
       "      <td>True</td>\n",
       "      <td>False</td>\n",
       "      <td>False</td>\n",
       "      <td>True</td>\n",
       "      <td>True</td>\n",
       "      <td>U</td>\n",
       "      <td>U</td>\n",
       "    </tr>\n",
       "  </tbody>\n",
       "</table>\n",
       "<p>3 rows × 25 columns</p>\n",
       "</div>"
      ],
      "text/plain": [
       "   Unnamed: 0             business_id                name  \\\n",
       "0           3  MTSW4McQd7CbVtyjqoe9mw  St Honore Pastries   \n",
       "1           5  CF33F8-E6oudUQ46HnavjQ      Sonic Drive-In   \n",
       "2           9  bBDDEgkFA1Otx9Lfe7BZUQ      Sonic Drive-In   \n",
       "\n",
       "               address          city state  stars RestaurantsDelivery  \\\n",
       "0          935 Race St  Philadelphia    PA    1.0               False   \n",
       "1        615 S Main St  Ashland City    TN    0.0                True   \n",
       "2  2312 Dickerson Pike     Nashville    TN    0.0                True   \n",
       "\n",
       "  OutdoorSeating BusinessAcceptsCreditCards  ... Alcohol Caters  \\\n",
       "0          False                      False  ...      no   True   \n",
       "1           True                       True  ...      no  False   \n",
       "2           True                       True  ...      no  False   \n",
       "\n",
       "  RestaurantsAttire GoodForKids DogsAllowed RestaurantsTableService  \\\n",
       "0                 U           U           U                       U   \n",
       "1          'casual'        True       False                   False   \n",
       "2          'casual'        True       False                   False   \n",
       "\n",
       "  WheelchairAccessible DriveThru Smoking Open24Hours  \n",
       "0                    U         U       U           U  \n",
       "1                 True      True       U           U  \n",
       "2                 True      True       U           U  \n",
       "\n",
       "[3 rows x 25 columns]"
      ]
     },
     "execution_count": 12,
     "metadata": {},
     "output_type": "execute_result"
    }
   ],
   "source": [
    "# dataframe with new \"stars\" column edit\n",
    "df.head(3)"
   ]
  },
  {
   "cell_type": "markdown",
   "metadata": {},
   "source": [
    "<hr style=\"border:2px solid black\">"
   ]
  },
  {
   "cell_type": "markdown",
   "metadata": {
    "id": "Nh7EWlzDumBJ"
   },
   "source": [
    "# Create feature matrix (x) and target vector (y):"
   ]
  },
  {
   "cell_type": "code",
   "execution_count": 13,
   "metadata": {
    "colab": {
     "base_uri": "https://localhost:8080/"
    },
    "id": "EHdsBGv18Zkn",
    "outputId": "0f4cb200-baa7-42a0-8e3b-a5a4685a72b0"
   },
   "outputs": [
    {
     "name": "stderr",
     "output_type": "stream",
     "text": [
      "<ipython-input-13-c73b07eb0aa7>:3: FutureWarning: In a future version of pandas all arguments of DataFrame.drop except for the argument 'labels' will be keyword-only.\n",
      "  x = df.drop(['Unnamed: 0','stars', 'business_id', 'name', 'address'], 1)\n"
     ]
    }
   ],
   "source": [
    "# create feature matrix (x) and target vector (y)\n",
    "# separating the dependent and independent variables\n",
    "x = df.drop(['Unnamed: 0','stars', 'business_id', 'name', 'address'], 1)\n",
    "y = df['stars']"
   ]
  },
  {
   "cell_type": "markdown",
   "metadata": {},
   "source": [
    "<hr style=\"border:2px solid black\">"
   ]
  },
  {
   "cell_type": "markdown",
   "metadata": {},
   "source": [
    "# Encode labels:"
   ]
  },
  {
   "cell_type": "code",
   "execution_count": 14,
   "metadata": {
    "id": "KPmW_v_53PML"
   },
   "outputs": [],
   "source": [
    "# Intantiate LabelEncoder\n",
    "le = preprocessing.LabelEncoder()"
   ]
  },
  {
   "cell_type": "code",
   "execution_count": 15,
   "metadata": {
    "id": "nT6mfg133zQk"
   },
   "outputs": [],
   "source": [
    "# applying label encoder to x set which contains categorical values...\n",
    "x = x.apply(le.fit_transform)"
   ]
  },
  {
   "cell_type": "code",
   "execution_count": 16,
   "metadata": {
    "colab": {
     "base_uri": "https://localhost:8080/",
     "height": 239
    },
    "id": "HmgNwKOqHLJu",
    "outputId": "9a9da749-2785-4fb6-b42b-0b665903c2e3"
   },
   "outputs": [
    {
     "data": {
      "text/html": [
       "<div>\n",
       "<style scoped>\n",
       "    .dataframe tbody tr th:only-of-type {\n",
       "        vertical-align: middle;\n",
       "    }\n",
       "\n",
       "    .dataframe tbody tr th {\n",
       "        vertical-align: top;\n",
       "    }\n",
       "\n",
       "    .dataframe thead th {\n",
       "        text-align: right;\n",
       "    }\n",
       "</style>\n",
       "<table border=\"1\" class=\"dataframe\">\n",
       "  <thead>\n",
       "    <tr style=\"text-align: right;\">\n",
       "      <th></th>\n",
       "      <th>city</th>\n",
       "      <th>state</th>\n",
       "      <th>RestaurantsDelivery</th>\n",
       "      <th>OutdoorSeating</th>\n",
       "      <th>BusinessAcceptsCreditCards</th>\n",
       "      <th>BikeParking</th>\n",
       "      <th>RestaurantsPriceRange2</th>\n",
       "      <th>RestaurantsTakeOut</th>\n",
       "      <th>ByAppointmentOnly</th>\n",
       "      <th>WiFi</th>\n",
       "      <th>Alcohol</th>\n",
       "      <th>Caters</th>\n",
       "      <th>RestaurantsAttire</th>\n",
       "      <th>GoodForKids</th>\n",
       "      <th>DogsAllowed</th>\n",
       "      <th>RestaurantsTableService</th>\n",
       "      <th>WheelchairAccessible</th>\n",
       "      <th>DriveThru</th>\n",
       "      <th>Smoking</th>\n",
       "      <th>Open24Hours</th>\n",
       "    </tr>\n",
       "  </thead>\n",
       "  <tbody>\n",
       "    <tr>\n",
       "      <th>0</th>\n",
       "      <td>574</td>\n",
       "      <td>13</td>\n",
       "      <td>0</td>\n",
       "      <td>0</td>\n",
       "      <td>0</td>\n",
       "      <td>1</td>\n",
       "      <td>0</td>\n",
       "      <td>1</td>\n",
       "      <td>0</td>\n",
       "      <td>2</td>\n",
       "      <td>1</td>\n",
       "      <td>1</td>\n",
       "      <td>3</td>\n",
       "      <td>2</td>\n",
       "      <td>2</td>\n",
       "      <td>2</td>\n",
       "      <td>2</td>\n",
       "      <td>2</td>\n",
       "      <td>2</td>\n",
       "      <td>2</td>\n",
       "    </tr>\n",
       "    <tr>\n",
       "      <th>1</th>\n",
       "      <td>16</td>\n",
       "      <td>14</td>\n",
       "      <td>1</td>\n",
       "      <td>1</td>\n",
       "      <td>1</td>\n",
       "      <td>0</td>\n",
       "      <td>0</td>\n",
       "      <td>1</td>\n",
       "      <td>0</td>\n",
       "      <td>1</td>\n",
       "      <td>1</td>\n",
       "      <td>0</td>\n",
       "      <td>0</td>\n",
       "      <td>1</td>\n",
       "      <td>0</td>\n",
       "      <td>0</td>\n",
       "      <td>1</td>\n",
       "      <td>1</td>\n",
       "      <td>2</td>\n",
       "      <td>2</td>\n",
       "    </tr>\n",
       "    <tr>\n",
       "      <th>2</th>\n",
       "      <td>502</td>\n",
       "      <td>14</td>\n",
       "      <td>1</td>\n",
       "      <td>1</td>\n",
       "      <td>1</td>\n",
       "      <td>2</td>\n",
       "      <td>0</td>\n",
       "      <td>1</td>\n",
       "      <td>0</td>\n",
       "      <td>1</td>\n",
       "      <td>1</td>\n",
       "      <td>0</td>\n",
       "      <td>0</td>\n",
       "      <td>1</td>\n",
       "      <td>0</td>\n",
       "      <td>0</td>\n",
       "      <td>1</td>\n",
       "      <td>1</td>\n",
       "      <td>2</td>\n",
       "      <td>2</td>\n",
       "    </tr>\n",
       "  </tbody>\n",
       "</table>\n",
       "</div>"
      ],
      "text/plain": [
       "   city  state  RestaurantsDelivery  OutdoorSeating  \\\n",
       "0   574     13                    0               0   \n",
       "1    16     14                    1               1   \n",
       "2   502     14                    1               1   \n",
       "\n",
       "   BusinessAcceptsCreditCards  BikeParking  RestaurantsPriceRange2  \\\n",
       "0                           0            1                       0   \n",
       "1                           1            0                       0   \n",
       "2                           1            2                       0   \n",
       "\n",
       "   RestaurantsTakeOut  ByAppointmentOnly  WiFi  Alcohol  Caters  \\\n",
       "0                   1                  0     2        1       1   \n",
       "1                   1                  0     1        1       0   \n",
       "2                   1                  0     1        1       0   \n",
       "\n",
       "   RestaurantsAttire  GoodForKids  DogsAllowed  RestaurantsTableService  \\\n",
       "0                  3            2            2                        2   \n",
       "1                  0            1            0                        0   \n",
       "2                  0            1            0                        0   \n",
       "\n",
       "   WheelchairAccessible  DriveThru  Smoking  Open24Hours  \n",
       "0                     2          2        2            2  \n",
       "1                     1          1        2            2  \n",
       "2                     1          1        2            2  "
      ]
     },
     "execution_count": 16,
     "metadata": {},
     "output_type": "execute_result"
    }
   ],
   "source": [
    "x.head(3)"
   ]
  },
  {
   "cell_type": "code",
   "execution_count": 17,
   "metadata": {
    "colab": {
     "base_uri": "https://localhost:8080/"
    },
    "id": "BrGPjC-R3_tm",
    "outputId": "b9f8ac52-2bcc-4d73-fa53-0801b161190e"
   },
   "outputs": [
    {
     "data": {
      "text/plain": [
       "(44594, 20)"
      ]
     },
     "execution_count": 17,
     "metadata": {},
     "output_type": "execute_result"
    }
   ],
   "source": [
    "x.shape"
   ]
  },
  {
   "cell_type": "code",
   "execution_count": 18,
   "metadata": {
    "colab": {
     "base_uri": "https://localhost:8080/"
    },
    "id": "mI4YazGg3_4W",
    "outputId": "8e83033e-902d-464d-b99e-7647e7cd95c2"
   },
   "outputs": [
    {
     "data": {
      "text/plain": [
       "(44594,)"
      ]
     },
     "execution_count": 18,
     "metadata": {},
     "output_type": "execute_result"
    }
   ],
   "source": [
    "y.shape"
   ]
  },
  {
   "cell_type": "markdown",
   "metadata": {},
   "source": [
    "<hr style=\"border:2px solid black\">"
   ]
  },
  {
   "cell_type": "markdown",
   "metadata": {},
   "source": [
    "# Splitting dataset to train and test:"
   ]
  },
  {
   "cell_type": "code",
   "execution_count": 19,
   "metadata": {
    "id": "fh_eE55x8Zpd"
   },
   "outputs": [],
   "source": [
    "# splitting data to training and test set\n",
    "x_train,x_test,y_train,y_test=train_test_split(x,y,test_size=0.20,random_state=7)"
   ]
  },
  {
   "cell_type": "code",
   "execution_count": 20,
   "metadata": {
    "id": "Hat569egqMEf"
   },
   "outputs": [],
   "source": [
    "# scale the training \n",
    "# to equalize the range and/or data variability.\n",
    "scaler = StandardScaler()\n",
    "resTrain_Scaled = scaler.fit_transform(x_train)"
   ]
  },
  {
   "cell_type": "code",
   "execution_count": 21,
   "metadata": {
    "id": "2U8c6azSqaOT"
   },
   "outputs": [],
   "source": [
    "#scale the test data\n",
    "resTest_scaled = scaler.transform(x_test)"
   ]
  },
  {
   "cell_type": "markdown",
   "metadata": {},
   "source": [
    "<hr style=\"border:2px solid black\">"
   ]
  },
  {
   "cell_type": "markdown",
   "metadata": {},
   "source": [
    "# Logistic Regression:"
   ]
  },
  {
   "cell_type": "code",
   "execution_count": 23,
   "metadata": {},
   "outputs": [],
   "source": [
    "#Logistic Regression Classifier Evaluation\n",
    "\n",
    "from sklearn.metrics import confusion_matrix\n",
    "from sklearn.metrics import classification_report\n",
    "from sklearn.metrics import accuracy_score"
   ]
  },
  {
   "cell_type": "markdown",
   "metadata": {},
   "source": [
    "## Model with Hyperparameter Tuning"
   ]
  },
  {
   "cell_type": "code",
   "execution_count": 22,
   "metadata": {},
   "outputs": [],
   "source": [
    "# Hyperparameter Tuning\n",
    "param_grid = [    \n",
    "    {'C':[0.001, 0.01, 0.1, 1, 10, 100],\n",
    "    'solver' : ['lbfgs','newton-cg','liblinear','sag','saga'],\n",
    "    'max_iter' : [100, 1000,2500, 5000]\n",
    "    }\n",
    "]"
   ]
  },
  {
   "cell_type": "code",
   "execution_count": 24,
   "metadata": {},
   "outputs": [],
   "source": [
    "# create instance of Logistic Regression model\n",
    "#Prepairng a Decision Tree Regression\n",
    "logitModel=LogisticRegression()"
   ]
  },
  {
   "cell_type": "code",
   "execution_count": 25,
   "metadata": {},
   "outputs": [],
   "source": [
    "logitModel = GridSearchCV(logitModel, param_grid = param_grid, cv = 5, verbose=True, n_jobs=-1, error_score='raise')"
   ]
  },
  {
   "cell_type": "code",
   "execution_count": 26,
   "metadata": {},
   "outputs": [
    {
     "name": "stdout",
     "output_type": "stream",
     "text": [
      "Fitting 5 folds for each of 120 candidates, totalling 600 fits\n"
     ]
    },
    {
     "data": {
      "text/plain": [
       "GridSearchCV(cv=5, error_score='raise', estimator=LogisticRegression(),\n",
       "             n_jobs=-1,\n",
       "             param_grid=[{'C': [0.001, 0.01, 0.1, 1, 10, 100],\n",
       "                          'max_iter': [100, 1000, 2500, 5000],\n",
       "                          'solver': ['lbfgs', 'newton-cg', 'liblinear', 'sag',\n",
       "                                     'saga']}],\n",
       "             verbose=True)"
      ]
     },
     "execution_count": 26,
     "metadata": {},
     "output_type": "execute_result"
    }
   ],
   "source": [
    "# fit\n",
    "logitModel.fit(resTrain_Scaled,y_train)\n",
    "#logitModel.fit(resTrain_Scaled,y_train)"
   ]
  },
  {
   "cell_type": "code",
   "execution_count": 27,
   "metadata": {},
   "outputs": [
    {
     "name": "stdout",
     "output_type": "stream",
     "text": [
      "{'C': 0.001, 'max_iter': 100, 'solver': 'liblinear'}\n"
     ]
    }
   ],
   "source": [
    "print(logitModel.best_params_)"
   ]
  },
  {
   "cell_type": "code",
   "execution_count": 28,
   "metadata": {
    "id": "M6pBH6qIEaeE"
   },
   "outputs": [],
   "source": [
    "#Predict the response for test dataset\n",
    "y_pred_Logistic = logitModel.predict(resTest_scaled)"
   ]
  },
  {
   "cell_type": "code",
   "execution_count": 29,
   "metadata": {
    "colab": {
     "base_uri": "https://localhost:8080/"
    },
    "id": "4MDOwqvHDuFz",
    "outputId": "a84e0dff-e0d9-4730-d189-e694d5982ec8"
   },
   "outputs": [
    {
     "name": "stdout",
     "output_type": "stream",
     "text": [
      "Logistic Regression Classification Accuracy:  0.650633479089584\n",
      "Logistic Regression Classification Report:\n",
      "               precision    recall  f1-score   support\n",
      "\n",
      "         0.0       0.65      0.70      0.67      4565\n",
      "         1.0       0.66      0.60      0.63      4354\n",
      "\n",
      "    accuracy                           0.65      8919\n",
      "   macro avg       0.65      0.65      0.65      8919\n",
      "weighted avg       0.65      0.65      0.65      8919\n",
      "\n",
      "Logistic Regression Confusion Matrix:\n",
      " [[3205 1360]\n",
      " [1756 2598]]\n"
     ]
    }
   ],
   "source": [
    "# Accuracy score\n",
    "from sklearn.metrics import accuracy_score\n",
    "print('Logistic Regression Classification Accuracy: ',accuracy_score(y_pred_Logistic,y_test))\n",
    "\n",
    "# Summary of the predictions made by the classifier\n",
    "print('Logistic Regression Classification Report:\\n', classification_report(y_test, y_pred_Logistic))\n",
    "print('Logistic Regression Confusion Matrix:\\n', confusion_matrix(y_test, y_pred_Logistic))"
   ]
  },
  {
   "cell_type": "code",
   "execution_count": 30,
   "metadata": {},
   "outputs": [
    {
     "name": "stderr",
     "output_type": "stream",
     "text": [
      "/opt/anaconda3/lib/python3.8/site-packages/sklearn/utils/deprecation.py:87: FutureWarning: Function plot_confusion_matrix is deprecated; Function `plot_confusion_matrix` is deprecated in 1.0 and will be removed in 1.2. Use one of the class methods: ConfusionMatrixDisplay.from_predictions or ConfusionMatrixDisplay.from_estimator.\n",
      "  warnings.warn(msg, category=FutureWarning)\n"
     ]
    },
    {
     "data": {
      "image/png": "[encoded data removed]",
      "text/plain": [
       "<Figure size 432x288 with 2 Axes>"
      ]
     },
     "metadata": {
      "needs_background": "light"
     },
     "output_type": "display_data"
    }
   ],
   "source": [
    "from sklearn.metrics import plot_confusion_matrix\n",
    "plot_confusion_matrix(logitModel, resTest_scaled, y_test)  \n",
    "plt.show()"
   ]
  },
  {
   "cell_type": "markdown",
   "metadata": {},
   "source": [
    "# AUC ROC Score:"
   ]
  },
  {
   "cell_type": "code",
   "execution_count": 31,
   "metadata": {},
   "outputs": [
    {
     "name": "stdout",
     "output_type": "stream",
     "text": [
      "AUC Score:\n",
      "0.6994278278185612\n"
     ]
    }
   ],
   "source": [
    "from sklearn.metrics import roc_auc_score\n",
    "# displays Area Under the Curve (AUC) Values\n",
    "print(\"AUC Score:\")\n",
    "print(roc_auc_score(y_test, logitModel.predict_proba(resTest_scaled)[::, 1]))\n"
   ]
  },
  {
   "cell_type": "markdown",
   "metadata": {},
   "source": [
    "# ROC Curve"
   ]
  },
  {
   "cell_type": "code",
   "execution_count": 32,
   "metadata": {},
   "outputs": [
    {
     "name": "stdout",
     "output_type": "stream",
     "text": [
      "0.6994278278185612\n"
     ]
    },
    {
     "data": {
      "image/png": "[encoded data removed]",
      "text/plain": [
       "<Figure size 432x288 with 1 Axes>"
      ]
     },
     "metadata": {
      "needs_background": "light"
     },
     "output_type": "display_data"
    }
   ],
   "source": [
    "from sklearn.metrics import roc_curve\n",
    "#define metrics\n",
    "y_pred_proba = logitModel.predict_proba(resTest_scaled)[:,1]\n",
    "\n",
    "fpr, tpr, thresholds = metrics.roc_curve(y_test,  y_pred_proba)\n",
    "print(metrics.auc(fpr, tpr))\n",
    "\n",
    "#create ROC curve\n",
    "plt.plot([0,1], [0,1],'k--')\n",
    "plt.plot(fpr,tpr)\n",
    "plt.ylabel('True Positive Rate')\n",
    "plt.xlabel('False Positive Rate')\n",
    "plt.show();\n"
   ]
  },
  {
   "cell_type": "code",
   "execution_count": 33,
   "metadata": {},
   "outputs": [],
   "source": [
    "y_testDict = dict(list(enumerate(y_test.index)))"
   ]
  },
  {
   "cell_type": "code",
   "execution_count": 34,
   "metadata": {},
   "outputs": [
    {
     "name": "stdout",
     "output_type": "stream",
     "text": [
      "{0: 14591, 1: 32513, 2: 26383, 3: 7580, 4: 8559, 5: 24508, 6: 13632, 7: 21872, 8: 19263, 9: 42254, 10: 1305, 11: 25743, 12: 6035, 13: 12347, 14: 35757, 15: 28365, 16: 32586, 17: 17729, 18: 40229, 19: 18363, 20: 37996, 21: 24601, 22: 14481, 23: 25107, 24: 9156, 25: 12087, 26: 26001, 27: 17737, 28: 25165, 29: 27092, 30: 6484, 31: 34110, 32: 32959, 33: 43824, 34: 10216, 35: 1159, 36: 3724, 37: 41830, 38: 8528, 39: 2715, 40: 42431, 41: 6142, 42: 38018, 43: 13887, 44: 5721, 45: 2155, 46: 17759, 47: 14443, 48: 8912, 49: 14069, 50: 4456, 51: 37673, 52: 36120, 53: 3717, 54: 58, 55: 21641, 56: 39117, 57: 5302, 58: 8457, 59: 42497, 60: 38562, 61: 3435, 62: 9354, 63: 33114, 64: 20746, 65: 15048, 66: 31749, 67: 29115, 68: 35448, 69: 24236, 70: 6455, 71: 41353, 72: 21204, 73: 19380, 74: 15669, 75: 16546, 76: 6228, 77: 14640, 78: 44064, 79: 5588, 80: 20135, 81: 542, 82: 27630, 83: 741, 84: 28687, 85: 38624, 86: 16207, 87: 44161, 88: 26771, 89: 37941, 90: 19079, 91: 20149, 92: 7579, 93: 28953, 94: 331, 95: 13896, 96: 42828, 97: 12966, 98: 18815, 99: 27613, 100: 2513, 101: 1142, 102: 6602, 103: 21085, 104: 11124, 105: 21975, 106: 14166, 107: 6699, 108: 5153, 109: 34488, 110: 4602, 111: 30862, 112: 26613, 113: 14917, 114: 6414, 115: 34158, 116: 5753, 117: 9921, 118: 1771, 119: 35189, 120: 21982, 121: 32754, 122: 32227, 123: 7483, 124: 19775, 125: 22173, 126: 34285, 127: 26509, 128: 5030, 129: 44477, 130: 404, 131: 12205, 132: 803, 133: 32069, 134: 40759, 135: 24488, 136: 36578, 137: 8498, 138: 5782, 139: 43838, 140: 19717, 141: 30450, 142: 2279, 143: 42533, 144: 40733, 145: 25195, 146: 36453, 147: 9100, 148: 4461, 149: 15617, 150: 27580, 151: 32728, 152: 23315, 153: 19371, 154: 2986, 155: 3356, 156: 8009, 157: 22517, 158: 38632, 159: 43585, 160: 20619, 161: 25311, 162: 16165, 163: 33586, 164: 14928, 165: 9202, 166: 2592, 167: 27286, 168: 604, 169: 25339, 170: 4280, 171: 4555, 172: 21973, 173: 34377, 174: 17007, 175: 41893, 176: 26544, 177: 37510, 178: 37313, 179: 26229, 180: 18029, 181: 44033, 182: 20273, 183: 1982, 184: 35161, 185: 24784, 186: 9142, 187: 36680, 188: 37668, 189: 7842, 190: 22150, 191: 37219, 192: 39737, 193: 24444, 194: 29901, 195: 4964, 196: 33374, 197: 593, 198: 4214, 199: 32831, 200: 20019, 201: 28337, 202: 43144, 203: 867, 204: 8547, 205: 40688, 206: 34758, 207: 1019, 208: 29136, 209: 5002, 210: 35320, 211: 6241, 212: 13900, 213: 459, 214: 1161, 215: 39349, 216: 37669, 217: 33533, 218: 4328, 219: 8393, 220: 37605, 221: 7031, 222: 13992, 223: 9393, 224: 18242, 225: 10380, 226: 12061, 227: 35239, 228: 11969, 229: 17141, 230: 2980, 231: 14473, 232: 28331, 233: 7212, 234: 38635, 235: 32397, 236: 24301, 237: 36896, 238: 32997, 239: 37394, 240: 43201, 241: 31136, 242: 41862, 243: 40830, 244: 36718, 245: 22677, 246: 18796, 247: 12756, 248: 31976, 249: 43981, 250: 29404, 251: 11562, 252: 41920, 253: 5882, 254: 34348, 255: 35296, 256: 38900, 257: 34380, 258: 32992, 259: 7346, 260: 25550, 261: 2859, 262: 11185, 263: 26999, 264: 5579, 265: 11365, 266: 12108, 267: 22457, 268: 38580, 269: 30469, 270: 40789, 271: 11640, 272: 42692, 273: 18983, 274: 33851, 275: 15626, 276: 15119, 277: 29528, 278: 6641, 279: 6091, 280: 24743, 281: 21212, 282: 32343, 283: 5395, 284: 26035, 285: 34172, 286: 20031, 287: 14120, 288: 36404, 289: 7951, 290: 2525, 291: 15860, 292: 1544, 293: 5718, 294: 13125, 295: 9318, 296: 1545, 297: 36251, 298: 23559, 299: 8555, 300: 11992, 301: 17572, 302: 27169, 303: 26752, 304: 25777, 305: 43089, 306: 17723, 307: 23488, 308: 36909, 309: 36910, 310: 42139, 311: 17179, 312: 7847, 313: 3071, 314: 13174, 315: 36801, 316: 37031, 317: 456, 318: 43150, 319: 3154, 320: 3625, 321: 2224, 322: 30164, 323: 31588, 324: 43435, 325: 22033, 326: 20787, 327: 22181, 328: 24735, 329: 7966, 330: 19625, 331: 3606, 332: 40711, 333: 29196, 334: 7849, 335: 30989, 336: 2858, 337: 4175, 338: 27339, 339: 9906, 340: 20990, 341: 16487, 342: 23049, 343: 12541, 344: 29067, 345: 24221, 346: 4989, 347: 16747, 348: 21205, 349: 27640, 350: 15279, 351: 23760, 352: 16583, 353: 25872, 354: 24802, 355: 26087, 356: 13926, 357: 16674, 358: 9697, 359: 16507, 360: 36138, 361: 15738, 362: 28779, 363: 15309, 364: 511, 365: 23020, 366: 16229, 367: 20620, 368: 4180, 369: 42681, 370: 1210, 371: 6943, 372: 37430, 373: 13638, 374: 26524, 375: 23850, 376: 40389, 377: 18097, 378: 43167, 379: 13654, 380: 8744, 381: 8570, 382: 9278, 383: 36763, 384: 39866, 385: 13173, 386: 14888, 387: 31087, 388: 23495, 389: 20605, 390: 16683, 391: 33570, 392: 191, 393: 36597, 394: 33603, 395: 8205, 396: 39946, 397: 43676, 398: 4933, 399: 22766, 400: 4667, 401: 19187, 402: 1233, 403: 28608, 404: 5959, 405: 16635, 406: 35000, 407: 241, 408: 43935, 409: 8915, 410: 25407, 411: 32363, 412: 12042, 413: 31321, 414: 43497, 415: 34591, 416: 4171, 417: 33937, 418: 13233, 419: 5340, 420: 19325, 421: 14669, 422: 16589, 423: 32931, 424: 31375, 425: 27927, 426: 13996, 427: 16109, 428: 5245, 429: 26867, 430: 6819, 431: 16697, 432: 10054, 433: 18713, 434: 26746, 435: 24028, 436: 36218, 437: 9868, 438: 37108, 439: 3494, 440: 6978, 441: 19167, 442: 12681, 443: 38905, 444: 19954, 445: 43867, 446: 1712, 447: 4388, 448: 37606, 449: 6094, 450: 4031, 451: 26353, 452: 26637, 453: 9392, 454: 23532, 455: 43283, 456: 2719, 457: 34003, 458: 27008, 459: 632, 460: 3982, 461: 24701, 462: 37917, 463: 26367, 464: 22092, 465: 2256, 466: 19304, 467: 11590, 468: 25347, 469: 18335, 470: 34552, 471: 27744, 472: 16015, 473: 15284, 474: 25280, 475: 43035, 476: 42205, 477: 23961, 478: 17622, 479: 16104, 480: 19484, 481: 23457, 482: 38535, 483: 26873, 484: 1631, 485: 9410, 486: 6224, 487: 38788, 488: 13200, 489: 16158, 490: 33486, 491: 38169, 492: 29483, 493: 41649, 494: 4004, 495: 26629, 496: 16629, 497: 40867, 498: 20195, 499: 1768, 500: 14589, 501: 13925, 502: 34175, 503: 34174, 504: 44243, 505: 37937, 506: 1291, 507: 43303, 508: 33242, 509: 16145, 510: 11558, 511: 5362, 512: 24385, 513: 15433, 514: 24621, 515: 371, 516: 5237, 517: 33204, 518: 42178, 519: 26103, 520: 38179, 521: 19939, 522: 19757, 523: 12859, 524: 24121, 525: 10631, 526: 40231, 527: 24128, 528: 32995, 529: 18802, 530: 19206, 531: 22483, 532: 4712, 533: 37386, 534: 11205, 535: 17650, 536: 19480, 537: 41622, 538: 4056, 539: 6887, 540: 14259, 541: 38889, 542: 6050, 543: 34860, 544: 20888, 545: 2058, 546: 31272, 547: 32019, 548: 35243, 549: 6604, 550: 8125, 551: 27021, 552: 23318, 553: 29638, 554: 10169, 555: 40983, 556: 9266, 557: 655, 558: 30718, 559: 30822, 560: 27579, 561: 29585, 562: 12386, 563: 25246, 564: 24190, 565: 15327, 566: 28186, 567: 37289, 568: 22657, 569: 12367, 570: 27365, 571: 40813, 572: 11174, 573: 18850, 574: 43363, 575: 7763, 576: 10861, 577: 4379, 578: 21096, 579: 34946, 580: 31120, 581: 2863, 582: 29348, 583: 233, 584: 13489, 585: 8081, 586: 34414, 587: 8250, 588: 27520, 589: 5752, 590: 18403, 591: 16592, 592: 35293, 593: 28846, 594: 26395, 595: 33187, 596: 32825, 597: 11387, 598: 33522, 599: 22550, 600: 1674, 601: 37077, 602: 2952, 603: 19028, 604: 14608, 605: 7722, 606: 40328, 607: 2990, 608: 20335, 609: 38006, 610: 16660, 611: 41427, 612: 42039, 613: 3763, 614: 38076, 615: 18494, 616: 33572, 617: 17116, 618: 9243, 619: 8052, 620: 40874, 621: 15172, 622: 26299, 623: 2869, 624: 4617, 625: 21479, 626: 21616, 627: 23025, 628: 27943, 629: 8076, 630: 30049, 631: 37142, 632: 30341, 633: 28115, 634: 10913, 635: 5238, 636: 32630, 637: 29997, 638: 4774, 639: 343, 640: 31935, 641: 33424, 642: 29457, 643: 370, 644: 21055, 645: 24968, 646: 21109, 647: 4100, 648: 3555, 649: 5089, 650: 30199, 651: 10085, 652: 14483, 653: 4656, 654: 15676, 655: 300, 656: 19129, 657: 36350, 658: 5026, 659: 8019, 660: 17013, 661: 34910, 662: 34532, 663: 28972, 664: 14145, 665: 33506, 666: 38611, 667: 16558, 668: 1103, 669: 25028, 670: 2485, 671: 32954, 672: 16325, 673: 37177, 674: 30098, 675: 27185, 676: 38350, 677: 35616, 678: 32201, 679: 3673, 680: 19566, 681: 39968, 682: 35406, 683: 16067, 684: 18995, 685: 3893, 686: 16606, 687: 14530, 688: 37389, 689: 9205, 690: 19853, 691: 1742, 692: 38270, 693: 18932, 694: 35513, 695: 22919, 696: 11101, 697: 43029, 698: 7836, 699: 4652, 700: 16288, 701: 23066, 702: 23959, 703: 22442, 704: 26298, 705: 31139, 706: 18392, 707: 5080, 708: 33261, 709: 7141, 710: 27969, 711: 33696, 712: 34772, 713: 25584, 714: 35862, 715: 11074, 716: 6976, 717: 38975, 718: 41690, 719: 13588, 720: 421, 721: 37188, 722: 34402, 723: 9489, 724: 31212, 725: 28446, 726: 234, 727: 36238, 728: 8936, 729: 16780, 730: 39896, 731: 38419, 732: 28648, 733: 7387, 734: 11894, 735: 17136, 736: 35705, 737: 3164, 738: 41838, 739: 27888, 740: 12590, 741: 7505, 742: 43121, 743: 36828, 744: 16378, 745: 43418, 746: 20035, 747: 27369, 748: 20398, 749: 20571, 750: 36095, 751: 2, 752: 7501, 753: 36925, 754: 24945, 755: 42457, 756: 40809, 757: 9406, 758: 5144, 759: 35309, 760: 29660, 761: 40249, 762: 36679, 763: 41742, 764: 17563, 765: 7080, 766: 14118, 767: 17291, 768: 40907, 769: 40275, 770: 38843, 771: 6492, 772: 34999, 773: 3073, 774: 1123, 775: 39282, 776: 10770, 777: 17300, 778: 5898, 779: 38860, 780: 2116, 781: 28326, 782: 39899, 783: 20754, 784: 21743, 785: 28399, 786: 10211, 787: 19942, 788: 6954, 789: 21286, 790: 33393, 791: 10618, 792: 41820, 793: 32183, 794: 26279, 795: 33422, 796: 2363, 797: 24703, 798: 915, 799: 25157, 800: 1798, 801: 29268, 802: 4213, 803: 18858, 804: 30018, 805: 30366, 806: 4152, 807: 9370, 808: 1482, 809: 19967, 810: 22755, 811: 29653, 812: 2057, 813: 17143, 814: 2326, 815: 8898, 816: 16783, 817: 28726, 818: 42551, 819: 3518, 820: 36364, 821: 19438, 822: 31887, 823: 31085, 824: 42246, 825: 8772, 826: 21337, 827: 12880, 828: 33182, 829: 10159, 830: 31004, 831: 30362, 832: 28969, 833: 12830, 834: 32036, 835: 21771, 836: 23518, 837: 8275, 838: 6609, 839: 27129, 840: 34807, 841: 13656, 842: 3290, 843: 11718, 844: 27778, 845: 27127, 846: 22413, 847: 37221, 848: 28882, 849: 6902, 850: 41770, 851: 42076, 852: 24136, 853: 17245, 854: 31449, 855: 8943, 856: 11602, 857: 30196, 858: 30473, 859: 20255, 860: 4133, 861: 454, 862: 9910, 863: 43128, 864: 38680, 865: 39453, 866: 28095, 867: 34862, 868: 44272, 869: 32130, 870: 3236, 871: 20714, 872: 2772, 873: 12949, 874: 42621, 875: 10774, 876: 28355, 877: 35883, 878: 633, 879: 12092, 880: 20121, 881: 10242, 882: 5453, 883: 39145, 884: 35419, 885: 11076, 886: 32038, 887: 2403, 888: 17005, 889: 9418, 890: 1666, 891: 6881, 892: 28665, 893: 6572, 894: 21448, 895: 14550, 896: 3737, 897: 17170, 898: 9581, 899: 1023, 900: 6453, 901: 37676, 902: 12493, 903: 31779, 904: 39676, 905: 14320, 906: 44501, 907: 29914, 908: 31107, 909: 42153, 910: 36487, 911: 32100, 912: 41446, 913: 34390, 914: 29216, 915: 42122, 916: 6935, 917: 23232, 918: 24570, 919: 31470, 920: 3571, 921: 7855, 922: 15876, 923: 22240, 924: 4039, 925: 21518, 926: 12863, 927: 21146, 928: 4647, 929: 31157, 930: 28061, 931: 14736, 932: 40308, 933: 8032, 934: 30206, 935: 24857, 936: 14457, 937: 3643, 938: 35498, 939: 37772, 940: 34658, 941: 32325, 942: 26233, 943: 6990, 944: 27765, 945: 18624, 946: 5691, 947: 11246, 948: 9386, 949: 24339, 950: 28188, 951: 35595, 952: 22846, 953: 17813, 954: 32103, 955: 37775, 956: 10960, 957: 20530, 958: 40492, 959: 37150, 960: 27884, 961: 21030, 962: 22814, 963: 8066, 964: 34011, 965: 5409, 966: 44126, 967: 31726, 968: 5717, 969: 7368, 970: 26677, 971: 40123, 972: 42936, 973: 41922, 974: 16185, 975: 37646, 976: 3828, 977: 23152, 978: 36934, 979: 9607, 980: 8783, 981: 15771, 982: 28064, 983: 30990, 984: 41173, 985: 42002, 986: 18859, 987: 19047, 988: 14688, 989: 30464, 990: 4743, 991: 36446, 992: 12973, 993: 8841, 994: 37235, 995: 37786, 996: 43962, 997: 36360, 998: 18704, 999: 14957, 1000: 41092, 1001: 33132, 1002: 14202, 1003: 26025, 1004: 34506, 1005: 7228, 1006: 21787, 1007: 12789, 1008: 33910, 1009: 41646, 1010: 26253, 1011: 29899, 1012: 10924, 1013: 12691, 1014: 21580, 1015: 33404, 1016: 2278, 1017: 21243, 1018: 18113, 1019: 20287, 1020: 22206, 1021: 4711, 1022: 9120, 1023: 18419, 1024: 24212, 1025: 6603, 1026: 25314, 1027: 2638, 1028: 31723, 1029: 35609, 1030: 16024, 1031: 40966, 1032: 40146, 1033: 9482, 1034: 38893, 1035: 15678, 1036: 41191, 1037: 23148, 1038: 6554, 1039: 9775, 1040: 6832, 1041: 21839, 1042: 7099, 1043: 2268, 1044: 25935, 1045: 15849, 1046: 16991, 1047: 32294, 1048: 38658, 1049: 7649, 1050: 40931, 1051: 20987, 1052: 15888, 1053: 20399, 1054: 25784, 1055: 21335, 1056: 15955, 1057: 6223, 1058: 5817, 1059: 10056, 1060: 30762, 1061: 40463, 1062: 29182, 1063: 38023, 1064: 39695, 1065: 16290, 1066: 9519, 1067: 22314, 1068: 18971, 1069: 7140, 1070: 9346, 1071: 28111, 1072: 41119, 1073: 3943, 1074: 18434, 1075: 18046, 1076: 42456, 1077: 40584, 1078: 30100, 1079: 41775, 1080: 7888, 1081: 2819, 1082: 39362, 1083: 30806, 1084: 31020, 1085: 20382, 1086: 29710, 1087: 5328, 1088: 19178, 1089: 25190, 1090: 24002, 1091: 30067, 1092: 31603, 1093: 16082, 1094: 37356, 1095: 3974, 1096: 37695, 1097: 12031, 1098: 28299, 1099: 36417, 1100: 8615, 1101: 40039, 1102: 2942, 1103: 1805, 1104: 30232, 1105: 25691, 1106: 2187, 1107: 33451, 1108: 20007, 1109: 10651, 1110: 11723, 1111: 3514, 1112: 28860, 1113: 5116, 1114: 31030, 1115: 42423, 1116: 14748, 1117: 27663, 1118: 32779, 1119: 26117, 1120: 36897, 1121: 40396, 1122: 30158, 1123: 189, 1124: 43098, 1125: 34516, 1126: 26037, 1127: 41620, 1128: 10257, 1129: 685, 1130: 27459, 1131: 5788, 1132: 43941, 1133: 23373, 1134: 11216, 1135: 27710, 1136: 28310, 1137: 44562, 1138: 23354, 1139: 12366, 1140: 37725, 1141: 30633, 1142: 16743, 1143: 20902, 1144: 39035, 1145: 37601, 1146: 31718, 1147: 31921, 1148: 22722, 1149: 25491, 1150: 14818, 1151: 13047, 1152: 41911, 1153: 3325, 1154: 20600, 1155: 275, 1156: 939, 1157: 35767, 1158: 5506, 1159: 21822, 1160: 7708, 1161: 29712, 1162: 28523, 1163: 23215, 1164: 15921, 1165: 39731, 1166: 35373, 1167: 36102, 1168: 16499, 1169: 15050, 1170: 29596, 1171: 540, 1172: 28237, 1173: 32254, 1174: 37635, 1175: 22906, 1176: 7806, 1177: 36479, 1178: 5283, 1179: 12151, 1180: 27330, 1181: 20172, 1182: 7839, 1183: 3122, 1184: 13391, 1185: 18485, 1186: 23149, 1187: 40801, 1188: 2744, 1189: 30430, 1190: 30121, 1191: 37995, 1192: 36852, 1193: 11285, 1194: 35493, 1195: 9704, 1196: 40964, 1197: 10305, 1198: 8511, 1199: 23268, 1200: 10069, 1201: 20809, 1202: 19678, 1203: 18653, 1204: 41548, 1205: 39811, 1206: 21767, 1207: 16916, 1208: 3264, 1209: 16230, 1210: 33321, 1211: 19208, 1212: 8871, 1213: 27601, 1214: 32486, 1215: 23844, 1216: 18952, 1217: 34143, 1218: 44194, 1219: 29420, 1220: 16028, 1221: 22324, 1222: 5651, 1223: 41523, 1224: 35035, 1225: 27731, 1226: 36843, 1227: 581, 1228: 14400, 1229: 7799, 1230: 26200, 1231: 26202, 1232: 4202, 1233: 39170, 1234: 25034, 1235: 22152, 1236: 2138, 1237: 31451, 1238: 21099, 1239: 31077, 1240: 175, 1241: 22074, 1242: 36844, 1243: 36419, 1244: 12119, 1245: 39533, 1246: 11947, 1247: 8819, 1248: 287, 1249: 20863, 1250: 24516, 1251: 25537, 1252: 42184, 1253: 34270, 1254: 4404, 1255: 14208, 1256: 28152, 1257: 13092, 1258: 12238, 1259: 29659, 1260: 33156, 1261: 29358, 1262: 3372, 1263: 30587, 1264: 31355, 1265: 18137, 1266: 5780, 1267: 27323, 1268: 7052, 1269: 29998, 1270: 34643, 1271: 7908, 1272: 42319, 1273: 3159, 1274: 25436, 1275: 17549, 1276: 7958, 1277: 18567, 1278: 40480, 1279: 44411, 1280: 30636, 1281: 39014, 1282: 5836, 1283: 13728, 1284: 15087, 1285: 14487, 1286: 21775, 1287: 31411, 1288: 21908, 1289: 13911, 1290: 16426, 1291: 30631, 1292: 8439, 1293: 28123, 1294: 37515, 1295: 25605, 1296: 19027, 1297: 27748, 1298: 44423, 1299: 3813, 1300: 22883, 1301: 39900, 1302: 37307, 1303: 41143, 1304: 7069, 1305: 36541, 1306: 10636, 1307: 347, 1308: 35546, 1309: 24597, 1310: 16737, 1311: 7033, 1312: 843, 1313: 34892, 1314: 40109, 1315: 31452, 1316: 43536, 1317: 32712, 1318: 2105, 1319: 35786, 1320: 19455, 1321: 38748, 1322: 13784, 1323: 41581, 1324: 23743, 1325: 35350, 1326: 780, 1327: 3965, 1328: 7852, 1329: 42171, 1330: 21879, 1331: 18255, 1332: 30491, 1333: 28092, 1334: 41870, 1335: 42000, 1336: 173, 1337: 21048, 1338: 2081, 1339: 26340, 1340: 16061, 1341: 38614, 1342: 15959, 1343: 37630, 1344: 22940, 1345: 28841, 1346: 5624, 1347: 20137, 1348: 26759, 1349: 8539, 1350: 25844, 1351: 21705, 1352: 32956, 1353: 5726, 1354: 20189, 1355: 29109, 1356: 39970, 1357: 16277, 1358: 4829, 1359: 5631, 1360: 7782, 1361: 13814, 1362: 38353, 1363: 39071, 1364: 36966, 1365: 27090, 1366: 25685, 1367: 36476, 1368: 31023, 1369: 29589, 1370: 9894, 1371: 2417, 1372: 20484, 1373: 36301, 1374: 3380, 1375: 34948, 1376: 13759, 1377: 38192, 1378: 22967, 1379: 34445, 1380: 30574, 1381: 12202, 1382: 19355, 1383: 9793, 1384: 25710, 1385: 36612, 1386: 38187, 1387: 28799, 1388: 23754, 1389: 28308, 1390: 15253, 1391: 43352, 1392: 14661, 1393: 12677, 1394: 35021, 1395: 40076, 1396: 358, 1397: 15535, 1398: 6509, 1399: 14695, 1400: 15585, 1401: 25455, 1402: 27600, 1403: 32793, 1404: 10747, 1405: 8934, 1406: 12372, 1407: 18368, 1408: 15314, 1409: 41055, 1410: 19324, 1411: 5096, 1412: 44373, 1413: 17308, 1414: 22276, 1415: 523, 1416: 9171, 1417: 30787, 1418: 34199, 1419: 27130, 1420: 33264, 1421: 20993, 1422: 22941, 1423: 18198, 1424: 1694, 1425: 25481, 1426: 5171, 1427: 31912, 1428: 21290, 1429: 28675, 1430: 33947, 1431: 8086, 1432: 24847, 1433: 12751, 1434: 30165, 1435: 16448, 1436: 14302, 1437: 27430, 1438: 10912, 1439: 41609, 1440: 39136, 1441: 41957, 1442: 8369, 1443: 30354, 1444: 42044, 1445: 20722, 1446: 24095, 1447: 37592, 1448: 26844, 1449: 14932, 1450: 2470, 1451: 31799, 1452: 27053, 1453: 14702, 1454: 43394, 1455: 24889, 1456: 20219, 1457: 12161, 1458: 30639, 1459: 9477, 1460: 9522, 1461: 8108, 1462: 22997, 1463: 43606, 1464: 3635, 1465: 10807, 1466: 30523, 1467: 27311, 1468: 34534, 1469: 11870, 1470: 34454, 1471: 42922, 1472: 20455, 1473: 38667, 1474: 42249, 1475: 8889, 1476: 34623, 1477: 24440, 1478: 27455, 1479: 40331, 1480: 19833, 1481: 4026, 1482: 42320, 1483: 28187, 1484: 9087, 1485: 24755, 1486: 26271, 1487: 6488, 1488: 22076, 1489: 21611, 1490: 20300, 1491: 10911, 1492: 15613, 1493: 22201, 1494: 8294, 1495: 4520, 1496: 21053, 1497: 4810, 1498: 9045, 1499: 24990, 1500: 13577, 1501: 927, 1502: 30638, 1503: 18170, 1504: 8726, 1505: 21402, 1506: 23522, 1507: 18007, 1508: 36359, 1509: 22501, 1510: 3776, 1511: 35575, 1512: 4597, 1513: 28754, 1514: 30783, 1515: 19832, 1516: 26261, 1517: 31473, 1518: 3153, 1519: 36561, 1520: 901, 1521: 35345, 1522: 5634, 1523: 35495, 1524: 19204, 1525: 23917, 1526: 3573, 1527: 24689, 1528: 449, 1529: 29244, 1530: 10835, 1531: 25089, 1532: 23273, 1533: 23369, 1534: 41170, 1535: 40585, 1536: 44592, 1537: 1290, 1538: 13985, 1539: 2190, 1540: 18035, 1541: 22805, 1542: 13876, 1543: 13919, 1544: 24289, 1545: 41504, 1546: 24145, 1547: 13333, 1548: 34463, 1549: 16689, 1550: 20578, 1551: 14265, 1552: 18665, 1553: 9977, 1554: 44053, 1555: 13690, 1556: 10195, 1557: 19450, 1558: 8533, 1559: 37137, 1560: 2976, 1561: 7448, 1562: 27609, 1563: 36365, 1564: 19197, 1565: 36326, 1566: 1158, 1567: 33396, 1568: 6132, 1569: 21759, 1570: 33511, 1571: 37968, 1572: 26609, 1573: 23261, 1574: 38962, 1575: 18439, 1576: 9666, 1577: 31607, 1578: 3722, 1579: 32295, 1580: 27979, 1581: 44414, 1582: 14496, 1583: 22523, 1584: 38927, 1585: 34926, 1586: 39416, 1587: 25804, 1588: 1487, 1589: 31440, 1590: 16613, 1591: 30394, 1592: 25775, 1593: 16110, 1594: 10023, 1595: 16283, 1596: 24974, 1597: 36372, 1598: 30145, 1599: 40305, 1600: 27506, 1601: 34555, 1602: 15110, 1603: 1547, 1604: 40318, 1605: 1863, 1606: 6928, 1607: 8220, 1608: 5303, 1609: 19104, 1610: 16447, 1611: 29135, 1612: 7991, 1613: 133, 1614: 31529, 1615: 6618, 1616: 21477, 1617: 20855, 1618: 17402, 1619: 16463, 1620: 9313, 1621: 12901, 1622: 41876, 1623: 10546, 1624: 12005, 1625: 44183, 1626: 3441, 1627: 5087, 1628: 25878, 1629: 4312, 1630: 35804, 1631: 3335, 1632: 29707, 1633: 37712, 1634: 28482, 1635: 7477, 1636: 33914, 1637: 5547, 1638: 794, 1639: 18266, 1640: 37959, 1641: 33863, 1642: 13754, 1643: 10507, 1644: 10018, 1645: 15037, 1646: 5675, 1647: 39224, 1648: 44088, 1649: 7616, 1650: 11849, 1651: 249, 1652: 36018, 1653: 30917, 1654: 33630, 1655: 20494, 1656: 10498, 1657: 37279, 1658: 36746, 1659: 13953, 1660: 28576, 1661: 7713, 1662: 26163, 1663: 14584, 1664: 9505, 1665: 40038, 1666: 29065, 1667: 40095, 1668: 36975, 1669: 1384, 1670: 9707, 1671: 1414, 1672: 1587, 1673: 30724, 1674: 43617, 1675: 26648, 1676: 14222, 1677: 32718, 1678: 28748, 1679: 24114, 1680: 36776, 1681: 38858, 1682: 17687, 1683: 3599, 1684: 4532, 1685: 8672, 1686: 28684, 1687: 23622, 1688: 25983, 1689: 43255, 1690: 16461, 1691: 12428, 1692: 6469, 1693: 34579, 1694: 15017, 1695: 26054, 1696: 3591, 1697: 638, 1698: 26422, 1699: 19109, 1700: 40781, 1701: 33727, 1702: 37618, 1703: 10095, 1704: 39258, 1705: 8627, 1706: 8361, 1707: 37257, 1708: 40699, 1709: 18961, 1710: 38554, 1711: 5580, 1712: 44443, 1713: 39507, 1714: 10304, 1715: 42899, 1716: 31043, 1717: 36886, 1718: 31948, 1719: 26994, 1720: 25951, 1721: 26582, 1722: 20775, 1723: 24845, 1724: 4075, 1725: 5010, 1726: 33494, 1727: 33973, 1728: 22405, 1729: 1680, 1730: 27957, 1731: 38760, 1732: 42689, 1733: 20438, 1734: 14179, 1735: 40926, 1736: 9732, 1737: 7993, 1738: 17544, 1739: 17085, 1740: 8866, 1741: 3415, 1742: 18972, 1743: 30823, 1744: 24525, 1745: 43944, 1746: 24451, 1747: 17941, 1748: 24201, 1749: 24059, 1750: 23184, 1751: 11009, 1752: 9619, 1753: 3143, 1754: 1267, 1755: 39875, 1756: 30830, 1757: 41971, 1758: 28856, 1759: 28936, 1760: 17254, 1761: 32117, 1762: 40421, 1763: 18499, 1764: 24389, 1765: 34986, 1766: 19353, 1767: 3922, 1768: 41266, 1769: 32603, 1770: 40854, 1771: 20841, 1772: 24214, 1773: 2467, 1774: 10424, 1775: 43462, 1776: 36482, 1777: 37893, 1778: 24350, 1779: 733, 1780: 44543, 1781: 35025, 1782: 17355, 1783: 36885, 1784: 8896, 1785: 14886, 1786: 27458, 1787: 35262, 1788: 39209, 1789: 29269, 1790: 15665, 1791: 26625, 1792: 20036, 1793: 38861, 1794: 22576, 1795: 31985, 1796: 25661, 1797: 17945, 1798: 22809, 1799: 41824, 1800: 38715, 1801: 28259, 1802: 9524, 1803: 12194, 1804: 36362, 1805: 2296, 1806: 32617, 1807: 29050, 1808: 12510, 1809: 20627, 1810: 11498, 1811: 4037, 1812: 26250, 1813: 25170, 1814: 4350, 1815: 10332, 1816: 21680, 1817: 24838, 1818: 18890, 1819: 31392, 1820: 8855, 1821: 34563, 1822: 14912, 1823: 9725, 1824: 43727, 1825: 1339, 1826: 14153, 1827: 16599, 1828: 2459, 1829: 14512, 1830: 14515, 1831: 10183, 1832: 24616, 1833: 41800, 1834: 5125, 1835: 18561, 1836: 5885, 1837: 33611, 1838: 10709, 1839: 36379, 1840: 19657, 1841: 8673, 1842: 29987, 1843: 34262, 1844: 2940, 1845: 13908, 1846: 33143, 1847: 78, 1848: 21831, 1849: 41675, 1850: 8651, 1851: 5017, 1852: 24135, 1853: 9563, 1854: 36077, 1855: 3750, 1856: 67, 1857: 27596, 1858: 44045, 1859: 28215, 1860: 31298, 1861: 38802, 1862: 44304, 1863: 3742, 1864: 19610, 1865: 30244, 1866: 5947, 1867: 38365, 1868: 18554, 1869: 41084, 1870: 6698, 1871: 15682, 1872: 29446, 1873: 933, 1874: 24101, 1875: 19619, 1876: 12591, 1877: 35731, 1878: 1265, 1879: 13568, 1880: 29341, 1881: 35654, 1882: 15834, 1883: 13689, 1884: 25059, 1885: 31297, 1886: 6031, 1887: 40191, 1888: 40453, 1889: 24513, 1890: 16240, 1891: 27946, 1892: 7129, 1893: 7393, 1894: 28088, 1895: 15569, 1896: 21699, 1897: 15086, 1898: 26537, 1899: 7437, 1900: 5416, 1901: 29373, 1902: 2727, 1903: 9647, 1904: 31725, 1905: 5846, 1906: 23651, 1907: 162, 1908: 16915, 1909: 40682, 1910: 42281, 1911: 31883, 1912: 16820, 1913: 31228, 1914: 13461, 1915: 39988, 1916: 23866, 1917: 6445, 1918: 4444, 1919: 27598, 1920: 43991, 1921: 28805, 1922: 24248, 1923: 39909, 1924: 14190, 1925: 14951, 1926: 10562, 1927: 8990, 1928: 36988, 1929: 33273, 1930: 35422, 1931: 5474, 1932: 32677, 1933: 10141, 1934: 7912, 1935: 9127, 1936: 33677, 1937: 1813, 1938: 41900, 1939: 27342, 1940: 27105, 1941: 8681, 1942: 21356, 1943: 2668, 1944: 39175, 1945: 22903, 1946: 43271, 1947: 37838, 1948: 37165, 1949: 10785, 1950: 40338, 1951: 3063, 1952: 39010, 1953: 28514, 1954: 16778, 1955: 23937, 1956: 5530, 1957: 6938, 1958: 39705, 1959: 36877, 1960: 31021, 1961: 41176, 1962: 11980, 1963: 30075, 1964: 376, 1965: 11856, 1966: 13449, 1967: 28027, 1968: 31199, 1969: 31853, 1970: 8426, 1971: 14192, 1972: 36036, 1973: 8836, 1974: 6026, 1975: 9137, 1976: 40976, 1977: 3991, 1978: 6474, 1979: 2335, 1980: 23063, 1981: 43721, 1982: 23059, 1983: 39708, 1984: 7818, 1985: 41916, 1986: 15227, 1987: 36514, 1988: 11973, 1989: 42591, 1990: 4372, 1991: 25482, 1992: 6099, 1993: 10620, 1994: 28497, 1995: 10699, 1996: 2792, 1997: 38099, 1998: 27975, 1999: 19025, 2000: 25104, 2001: 16411, 2002: 37461, 2003: 16561, 2004: 19572, 2005: 33943, 2006: 42310, 2007: 16131, 2008: 29933, 2009: 34025, 2010: 37766, 2011: 38296, 2012: 34844, 2013: 31593, 2014: 14684, 2015: 43971, 2016: 42940, 2017: 4306, 2018: 14077, 2019: 42596, 2020: 43109, 2021: 31560, 2022: 35058, 2023: 7759, 2024: 36059, 2025: 11861, 2026: 29471, 2027: 10394, 2028: 16625, 2029: 11656, 2030: 6389, 2031: 13145, 2032: 12014, 2033: 7395, 2034: 3825, 2035: 43526, 2036: 2141, 2037: 27336, 2038: 35109, 2039: 30578, 2040: 35853, 2041: 6208, 2042: 11587, 2043: 23306, 2044: 21857, 2045: 20615, 2046: 17485, 2047: 20062, 2048: 2448, 2049: 30788, 2050: 7203, 2051: 5874, 2052: 40128, 2053: 31269, 2054: 37529, 2055: 36396, 2056: 3926, 2057: 43625, 2058: 5856, 2059: 23233, 2060: 2342, 2061: 33023, 2062: 27233, 2063: 165, 2064: 39916, 2065: 37109, 2066: 40973, 2067: 3764, 2068: 42774, 2069: 3014, 2070: 6407, 2071: 16075, 2072: 19127, 2073: 21617, 2074: 30223, 2075: 9129, 2076: 34851, 2077: 15149, 2078: 7340, 2079: 22264, 2080: 41664, 2081: 34547, 2082: 5641, 2083: 12105, 2084: 19523, 2085: 1628, 2086: 6762, 2087: 32106, 2088: 14588, 2089: 7627, 2090: 29444, 2091: 15938, 2092: 40353, 2093: 21202, 2094: 31565, 2095: 33777, 2096: 17287, 2097: 13944, 2098: 20096, 2099: 914, 2100: 37337, 2101: 16818, 2102: 1021, 2103: 18735, 2104: 10155, 2105: 21321, 2106: 34789, 2107: 33961, 2108: 29279, 2109: 20365, 2110: 42314, 2111: 2786, 2112: 1311, 2113: 30887, 2114: 28859, 2115: 25046, 2116: 38246, 2117: 8263, 2118: 32814, 2119: 18793, 2120: 30649, 2121: 40817, 2122: 42010, 2123: 28222, 2124: 5648, 2125: 24320, 2126: 26770, 2127: 14853, 2128: 35610, 2129: 44085, 2130: 17951, 2131: 35052, 2132: 41749, 2133: 25488, 2134: 27736, 2135: 9324, 2136: 557, 2137: 31944, 2138: 26553, 2139: 12326, 2140: 35295, 2141: 39741, 2142: 31614, 2143: 157, 2144: 43780, 2145: 43205, 2146: 6207, 2147: 8670, 2148: 20377, 2149: 4425, 2150: 5821, 2151: 35118, 2152: 6504, 2153: 33428, 2154: 27149, 2155: 30970, 2156: 2520, 2157: 37382, 2158: 28194, 2159: 14958, 2160: 19501, 2161: 28305, 2162: 7565, 2163: 27122, 2164: 44142, 2165: 16717, 2166: 16892, 2167: 10189, 2168: 16993, 2169: 12583, 2170: 38177, 2171: 36387, 2172: 23573, 2173: 21190, 2174: 40045, 2175: 9890, 2176: 24894, 2177: 2407, 2178: 28159, 2179: 9703, 2180: 9391, 2181: 17466, 2182: 2034, 2183: 4139, 2184: 6693, 2185: 24418, 2186: 1625, 2187: 29158, 2188: 32986, 2189: 16221, 2190: 11555, 2191: 3378, 2192: 17127, 2193: 19434, 2194: 4904, 2195: 10953, 2196: 18033, 2197: 15207, 2198: 39844, 2199: 5499, 2200: 29975, 2201: 23033, 2202: 36047, 2203: 5679, 2204: 24585, 2205: 6256, 2206: 40069, 2207: 206, 2208: 22448, 2209: 11006, 2210: 38698, 2211: 38869, 2212: 4373, 2213: 15180, 2214: 36853, 2215: 44174, 2216: 13883, 2217: 18193, 2218: 21755, 2219: 1946, 2220: 6882, 2221: 27521, 2222: 30086, 2223: 41467, 2224: 29308, 2225: 27547, 2226: 31982, 2227: 10661, 2228: 31363, 2229: 43477, 2230: 30041, 2231: 38688, 2232: 7789, 2233: 29781, 2234: 15963, 2235: 8137, 2236: 34469, 2237: 32771, 2238: 30886, 2239: 40027, 2240: 31206, 2241: 12424, 2242: 28641, 2243: 37182, 2244: 44333, 2245: 32824, 2246: 16335, 2247: 43703, 2248: 34919, 2249: 42352, 2250: 12619, 2251: 32563, 2252: 38727, 2253: 20437, 2254: 25460, 2255: 33524, 2256: 37353, 2257: 26749, 2258: 16696, 2259: 42265, 2260: 20111, 2261: 40577, 2262: 28825, 2263: 9026, 2264: 25573, 2265: 140, 2266: 20023, 2267: 7186, 2268: 8464, 2269: 28050, 2270: 19918, 2271: 42064, 2272: 27855, 2273: 24787, 2274: 37957, 2275: 12305, 2276: 34216, 2277: 28810, 2278: 16748, 2279: 4900, 2280: 6567, 2281: 30555, 2282: 28917, 2283: 17206, 2284: 11838, 2285: 27967, 2286: 31188, 2287: 26968, 2288: 44276, 2289: 25712, 2290: 17387, 2291: 31485, 2292: 2886, 2293: 22316, 2294: 4572, 2295: 3404, 2296: 34590, 2297: 19550, 2298: 38951, 2299: 41060, 2300: 4401, 2301: 38590, 2302: 2596, 2303: 29184, 2304: 44584, 2305: 14475, 2306: 30218, 2307: 30266, 2308: 29676, 2309: 42850, 2310: 24336, 2311: 1599, 2312: 16671, 2313: 36180, 2314: 36575, 2315: 18199, 2316: 20760, 2317: 15625, 2318: 16749, 2319: 24729, 2320: 28126, 2321: 942, 2322: 24540, 2323: 16384, 2324: 25692, 2325: 20391, 2326: 6874, 2327: 27482, 2328: 14210, 2329: 6638, 2330: 23659, 2331: 41882, 2332: 27901, 2333: 4562, 2334: 37326, 2335: 32772, 2336: 10771, 2337: 2833, 2338: 12006, 2339: 35232, 2340: 35325, 2341: 21721, 2342: 15845, 2343: 24401, 2344: 40897, 2345: 27828, 2346: 32650, 2347: 34052, 2348: 34361, 2349: 24279, 2350: 26098, 2351: 43348, 2352: 17262, 2353: 5778, 2354: 9028, 2355: 32637, 2356: 43631, 2357: 15969, 2358: 9988, 2359: 12357, 2360: 19884, 2361: 32461, 2362: 17134, 2363: 18717, 2364: 2506, 2365: 900, 2366: 13477, 2367: 29179, 2368: 32433, 2369: 38534, 2370: 38130, 2371: 42484, 2372: 36614, 2373: 2522, 2374: 35129, 2375: 41647, 2376: 26928, 2377: 40911, 2378: 42001, 2379: 12564, 2380: 10324, 2381: 17673, 2382: 30448, 2383: 40054, 2384: 35855, 2385: 3701, 2386: 19653, 2387: 28869, 2388: 7279, 2389: 4277, 2390: 13487, 2391: 19672, 2392: 29023, 2393: 26450, 2394: 8122, 2395: 16008, 2396: 10638, 2397: 31424, 2398: 28087, 2399: 1999, 2400: 8544, 2401: 37185, 2402: 16339, 2403: 8277, 2404: 28224, 2405: 42972, 2406: 32283, 2407: 43763, 2408: 39887, 2409: 6612, 2410: 36346, 2411: 5732, 2412: 41417, 2413: 5965, 2414: 22676, 2415: 43750, 2416: 28368, 2417: 35382, 2418: 41909, 2419: 7424, 2420: 5598, 2421: 36377, 2422: 43785, 2423: 24829, 2424: 17445, 2425: 43590, 2426: 30220, 2427: 8321, 2428: 26516, 2429: 17397, 2430: 28564, 2431: 14386, 2432: 12346, 2433: 10673, 2434: 31810, 2435: 5596, 2436: 43480, 2437: 33641, 2438: 38774, 2439: 7445, 2440: 26165, 2441: 38678, 2442: 10849, 2443: 34451, 2444: 16582, 2445: 15815, 2446: 26322, 2447: 8879, 2448: 6266, 2449: 44044, 2450: 13298, 2451: 17280, 2452: 5430, 2453: 37155, 2454: 18492, 2455: 33498, 2456: 2938, 2457: 321, 2458: 19168, 2459: 1780, 2460: 10314, 2461: 33577, 2462: 34106, 2463: 13127, 2464: 12101, 2465: 8564, 2466: 27687, 2467: 19588, 2468: 31067, 2469: 19831, 2470: 25453, 2471: 13424, 2472: 28541, 2473: 20983, 2474: 40550, 2475: 39220, 2476: 44517, 2477: 23365, 2478: 40439, 2479: 19420, 2480: 2874, 2481: 33841, 2482: 28612, 2483: 26527, 2484: 1533, 2485: 9736, 2486: 6198, 2487: 44507, 2488: 11069, 2489: 42159, 2490: 15492, 2491: 1138, 2492: 44553, 2493: 6992, 2494: 36426, 2495: 15727, 2496: 42051, 2497: 28532, 2498: 26962, 2499: 16557, 2500: 33320, 2501: 41125, 2502: 25405, 2503: 19617, 2504: 19679, 2505: 3123, 2506: 21111, 2507: 27999, 2508: 15582, 2509: 15694, 2510: 6021, 2511: 39050, 2512: 3758, 2513: 42908, 2514: 22129, 2515: 29649, 2516: 13954, 2517: 21213, 2518: 11516, 2519: 37826, 2520: 41390, 2521: 36527, 2522: 33178, 2523: 15103, 2524: 29609, 2525: 4020, 2526: 22203, 2527: 17512, 2528: 26387, 2529: 1699, 2530: 18949, 2531: 34301, 2532: 5046, 2533: 8206, 2534: 16398, 2535: 9081, 2536: 26303, 2537: 33152, 2538: 33381, 2539: 16172, 2540: 35210, 2541: 12064, 2542: 7125, 2543: 14762, 2544: 24415, 2545: 32216, 2546: 39690, 2547: 26344, 2548: 9821, 2549: 10936, 2550: 4824, 2551: 8491, 2552: 30000, 2553: 20980, 2554: 17345, 2555: 30332, 2556: 16923, 2557: 34662, 2558: 13630, 2559: 22507, 2560: 23831, 2561: 6354, 2562: 17257, 2563: 40772, 2564: 15671, 2565: 6848, 2566: 41491, 2567: 30324, 2568: 19760, 2569: 34113, 2570: 37905, 2571: 42228, 2572: 3759, 2573: 20994, 2574: 7446, 2575: 22133, 2576: 6890, 2577: 25118, 2578: 12266, 2579: 38955, 2580: 15112, 2581: 12044, 2582: 4714, 2583: 32963, 2584: 34098, 2585: 15748, 2586: 27558, 2587: 41814, 2588: 34873, 2589: 20506, 2590: 21382, 2591: 4745, 2592: 6622, 2593: 17180, 2594: 40892, 2595: 22220, 2596: 22159, 2597: 2926, 2598: 25139, 2599: 15971, 2600: 11545, 2601: 30715, 2602: 27257, 2603: 32504, 2604: 15998, 2605: 29055, 2606: 41629, 2607: 1922, 2608: 32244, 2609: 21276, 2610: 39456, 2611: 15926, 2612: 19727, 2613: 17161, 2614: 28654, 2615: 42592, 2616: 22085, 2617: 25032, 2618: 40610, 2619: 33427, 2620: 20313, 2621: 32287, 2622: 38024, 2623: 3205, 2624: 38394, 2625: 17647, 2626: 18050, 2627: 3202, 2628: 32146, 2629: 39446, 2630: 30495, 2631: 15235, 2632: 8420, 2633: 12144, 2634: 44389, 2635: 8092, 2636: 35913, 2637: 20460, 2638: 37524, 2639: 26695, 2640: 12532, 2641: 23758, 2642: 5378, 2643: 12239, 2644: 24436, 2645: 33503, 2646: 42401, 2647: 25840, 2648: 30757, 2649: 8756, 2650: 23475, 2651: 16217, 2652: 39618, 2653: 44128, 2654: 35123, 2655: 37518, 2656: 33828, 2657: 39700, 2658: 11023, 2659: 35545, 2660: 35684, 2661: 33825, 2662: 37490, 2663: 11492, 2664: 16969, 2665: 12245, 2666: 39202, 2667: 6209, 2668: 2156, 2669: 13458, 2670: 13636, 2671: 38793, 2672: 2684, 2673: 28474, 2674: 25333, 2675: 19937, 2676: 22654, 2677: 14292, 2678: 13917, 2679: 20548, 2680: 4321, 2681: 27478, 2682: 7327, 2683: 17696, 2684: 16528, 2685: 26226, 2686: 37707, 2687: 40454, 2688: 9155, 2689: 15644, 2690: 16469, 2691: 15909, 2692: 41352, 2693: 17212, 2694: 41717, 2695: 23712, 2696: 27159, 2697: 24983, 2698: 14846, 2699: 12325, 2700: 11195, 2701: 3265, 2702: 177, 2703: 44215, 2704: 8011, 2705: 22286, 2706: 43117, 2707: 44255, 2708: 10623, 2709: 9287, 2710: 36865, 2711: 42901, 2712: 30799, 2713: 25078, 2714: 37830, 2715: 3060, 2716: 184, 2717: 7637, 2718: 26910, 2719: 17281, 2720: 29247, 2721: 25419, 2722: 14525, 2723: 6770, 2724: 23922, 2725: 14689, 2726: 11917, 2727: 26990, 2728: 29225, 2729: 26010, 2730: 26896, 2731: 402, 2732: 39691, 2733: 21793, 2734: 34153, 2735: 15844, 2736: 38010, 2737: 1567, 2738: 11338, 2739: 1190, 2740: 41790, 2741: 39295, 2742: 33929, 2743: 16274, 2744: 36710, 2745: 21365, 2746: 36724, 2747: 6530, 2748: 41448, 2749: 38232, 2750: 31434, 2751: 14623, 2752: 26262, 2753: 20489, 2754: 37071, 2755: 20572, 2756: 1764, 2757: 29590, 2758: 20101, 2759: 36903, 2760: 36201, 2761: 34619, 2762: 14562, 2763: 42661, 2764: 32607, 2765: 37715, 2766: 39644, 2767: 40172, 2768: 44019, 2769: 31148, 2770: 718, 2771: 19865, 2772: 40108, 2773: 37961, 2774: 16327, 2775: 11692, 2776: 29586, 2777: 29491, 2778: 6566, 2779: 14507, 2780: 37250, 2781: 35470, 2782: 27373, 2783: 35709, 2784: 30238, 2785: 20256, 2786: 42693, 2787: 35231, 2788: 279, 2789: 2339, 2790: 41420, 2791: 30141, 2792: 25191, 2793: 36905, 2794: 33625, 2795: 770, 2796: 28307, 2797: 17564, 2798: 14741, 2799: 4063, 2800: 19901, 2801: 1975, 2802: 16626, 2803: 21463, 2804: 9857, 2805: 19471, 2806: 21010, 2807: 27267, 2808: 9898, 2809: 39331, 2810: 39060, 2811: 2969, 2812: 6777, 2813: 25516, 2814: 3239, 2815: 5980, 2816: 6097, 2817: 42667, 2818: 14504, 2819: 23438, 2820: 9507, 2821: 740, 2822: 6985, 2823: 29479, 2824: 29211, 2825: 32792, 2826: 10541, 2827: 8436, 2828: 43036, 2829: 28874, 2830: 23599, 2831: 28312, 2832: 33228, 2833: 20165, 2834: 7428, 2835: 43972, 2836: 34537, 2837: 31472, 2838: 19512, 2839: 14408, 2840: 27526, 2841: 4008, 2842: 34084, 2843: 28044, 2844: 25705, 2845: 21852, 2846: 13879, 2847: 20132, 2848: 40652, 2849: 28201, 2850: 32301, 2851: 11127, 2852: 2688, 2853: 20371, 2854: 5251, 2855: 17783, 2856: 4420, 2857: 22344, 2858: 7420, 2859: 15084, 2860: 8042, 2861: 32207, 2862: 21501, 2863: 24881, 2864: 41973, 2865: 44293, 2866: 28644, 2867: 41163, 2868: 32940, 2869: 38077, 2870: 38771, 2871: 41951, 2872: 26869, 2873: 17906, 2874: 11554, 2875: 34054, 2876: 41438, 2877: 13767, 2878: 5834, 2879: 232, 2880: 10570, 2881: 22564, 2882: 35234, 2883: 25756, 2884: 39492, 2885: 10607, 2886: 37666, 2887: 2811, 2888: 34533, 2889: 41309, 2890: 16849, 2891: 14703, 2892: 40068, 2893: 20998, 2894: 2528, 2895: 28751, 2896: 28129, 2897: 28269, 2898: 16526, 2899: 19683, 2900: 10635, 2901: 34326, 2902: 38330, 2903: 30562, 2904: 28245, 2905: 27696, 2906: 33454, 2907: 34993, 2908: 42289, 2909: 14397, 2910: 17081, 2911: 36305, 2912: 34311, 2913: 11272, 2914: 2745, 2915: 18628, 2916: 13657, 2917: 20095, 2918: 20056, 2919: 15446, 2920: 2041, 2921: 27770, 2922: 25467, 2923: 3977, 2924: 35515, 2925: 4876, 2926: 24648, 2927: 32022, 2928: 5071, 2929: 20574, 2930: 14701, 2931: 1317, 2932: 4740, 2933: 8875, 2934: 41771, 2935: 37417, 2936: 17671, 2937: 20545, 2938: 6500, 2939: 14971, 2940: 10474, 2941: 18500, 2942: 35668, 2943: 40716, 2944: 28271, 2945: 15157, 2946: 18888, 2947: 25739, 2948: 22557, 2949: 20078, 2950: 40355, 2951: 43620, 2952: 9307, 2953: 23711, 2954: 12464, 2955: 6156, 2956: 26206, 2957: 1179, 2958: 27761, 2959: 19818, 2960: 6659, 2961: 29495, 2962: 39142, 2963: 41062, 2964: 16084, 2965: 6061, 2966: 22300, 2967: 25412, 2968: 672, 2969: 12167, 2970: 14578, 2971: 36659, 2972: 36161, 2973: 37414, 2974: 5621, 2975: 36533, 2976: 16300, 2977: 16092, 2978: 11116, 2979: 44157, 2980: 18069, 2981: 6558, 2982: 18674, 2983: 27747, 2984: 2051, 2985: 15315, 2986: 2927, 2987: 24416, 2988: 29804, 2989: 5652, 2990: 28465, 2991: 28219, 2992: 36324, 2993: 11228, 2994: 8423, 2995: 23570, 2996: 32566, 2997: 13187, 2998: 2334, 2999: 16148, 3000: 37373, 3001: 32897, 3002: 24505, 3003: 42832, 3004: 15246, 3005: 8030, 3006: 22708, 3007: 24636, 3008: 10099, 3009: 28884, 3010: 24996, 3011: 19627, 3012: 21133, 3013: 40248, 3014: 42212, 3015: 1958, 3016: 17252, 3017: 7463, 3018: 25636, 3019: 31037, 3020: 12342, 3021: 13956, 3022: 11705, 3023: 8184, 3024: 33547, 3025: 15819, 3026: 12116, 3027: 2368, 3028: 28885, 3029: 37026, 3030: 35174, 3031: 24733, 3032: 20649, 3033: 9187, 3034: 12442, 3035: 40845, 3036: 9295, 3037: 25860, 3038: 32280, 3039: 39482, 3040: 11770, 3041: 3262, 3042: 39140, 3043: 32114, 3044: 21453, 3045: 7466, 3046: 30420, 3047: 9172, 3048: 12822, 3049: 2253, 3050: 30453, 3051: 41575, 3052: 40335, 3053: 2822, 3054: 34581, 3055: 13469, 3056: 25150, 3057: 31954, 3058: 32845, 3059: 4275, 3060: 33461, 3061: 17530, 3062: 2640, 3063: 11830, 3064: 39796, 3065: 5919, 3066: 19240, 3067: 42527, 3068: 41257, 3069: 32713, 3070: 28213, 3071: 9865, 3072: 37784, 3073: 7176, 3074: 42359, 3075: 12925, 3076: 22613, 3077: 38819, 3078: 30658, 3079: 15992, 3080: 43923, 3081: 36562, 3082: 1717, 3083: 44063, 3084: 2458, 3085: 14394, 3086: 11409, 3087: 42672, 3088: 8750, 3089: 10190, 3090: 11451, 3091: 34406, 3092: 9407, 3093: 11733, 3094: 29584, 3095: 42542, 3096: 11786, 3097: 23672, 3098: 26051, 3099: 42810, 3100: 31743, 3101: 9594, 3102: 40776, 3103: 21965, 3104: 7442, 3105: 32710, 3106: 33203, 3107: 37445, 3108: 27584, 3109: 39461, 3110: 4484, 3111: 8328, 3112: 32508, 3113: 3729, 3114: 30092, 3115: 6040, 3116: 5815, 3117: 31571, 3118: 32185, 3119: 10299, 3120: 28991, 3121: 13573, 3122: 20691, 3123: 23832, 3124: 19899, 3125: 41407, 3126: 33886, 3127: 2161, 3128: 5696, 3129: 6258, 3130: 33323, 3131: 17032, 3132: 34080, 3133: 15601, 3134: 9564, 3135: 9415, 3136: 20160, 3137: 7056, 3138: 27919, 3139: 30226, 3140: 19656, 3141: 9807, 3142: 23228, 3143: 32374, 3144: 35993, 3145: 3549, 3146: 9152, 3147: 17646, 3148: 29574, 3149: 40815, 3150: 6025, 3151: 35023, 3152: 24335, 3153: 526, 3154: 34776, 3155: 1980, 3156: 15645, 3157: 12113, 3158: 19495, 3159: 38652, 3160: 37827, 3161: 23195, 3162: 20297, 3163: 24100, 3164: 21747, 3165: 41272, 3166: 35142, 3167: 9178, 3168: 10446, 3169: 20776, 3170: 34472, 3171: 22824, 3172: 21026, 3173: 18497, 3174: 1083, 3175: 27816, 3176: 30140, 3177: 22052, 3178: 31244, 3179: 25732, 3180: 34586, 3181: 28821, 3182: 14175, 3183: 3081, 3184: 32408, 3185: 769, 3186: 42065, 3187: 5557, 3188: 24044, 3189: 12242, 3190: 36569, 3191: 2421, 3192: 25350, 3193: 7876, 3194: 31923, 3195: 33811, 3196: 12669, 3197: 24043, 3198: 41137, 3199: 43739, 3200: 7604, 3201: 38106, 3202: 6533, 3203: 30459, 3204: 25682, 3205: 1289, 3206: 24047, 3207: 8545, 3208: 6300, 3209: 18421, 3210: 44005, 3211: 32324, 3212: 31929, 3213: 13562, 3214: 38074, 3215: 27920, 3216: 23725, 3217: 27208, 3218: 18225, 3219: 26843, 3220: 35565, 3221: 3185, 3222: 1596, 3223: 14672, 3224: 2529, 3225: 44298, 3226: 32124, 3227: 30782, 3228: 5875, 3229: 9826, 3230: 28380, 3231: 1781, 3232: 18066, 3233: 8251, 3234: 29128, 3235: 28470, 3236: 40184, 3237: 32213, 3238: 43329, 3239: 27602, 3240: 33823, 3241: 29949, 3242: 16329, 3243: 18134, 3244: 30831, 3245: 21716, 3246: 33527, 3247: 42166, 3248: 33789, 3249: 23664, 3250: 37724, 3251: 8843, 3252: 8466, 3253: 20728, 3254: 44229, 3255: 6905, 3256: 27592, 3257: 12889, 3258: 11425, 3259: 17024, 3260: 30047, 3261: 18541, 3262: 31246, 3263: 21706, 3264: 26145, 3265: 38397, 3266: 38465, 3267: 1965, 3268: 9244, 3269: 43723, 3270: 18507, 3271: 23595, 3272: 17584, 3273: 23042, 3274: 41689, 3275: 9328, 3276: 24776, 3277: 44350, 3278: 34661, 3279: 14008, 3280: 40350, 3281: 20024, 3282: 39857, 3283: 6107, 3284: 43795, 3285: 6944, 3286: 15913, 3287: 17679, 3288: 4160, 3289: 39030, 3290: 26407, 3291: 33606, 3292: 13423, 3293: 1580, 3294: 26404, 3295: 42767, 3296: 4434, 3297: 24541, 3298: 39065, 3299: 35433, 3300: 23046, 3301: 24831, 3302: 29830, 3303: 44372, 3304: 30940, 3305: 29314, 3306: 27588, 3307: 33918, 3308: 643, 3309: 13026, 3310: 43347, 3311: 42501, 3312: 17749, 3313: 8767, 3314: 6348, 3315: 12676, 3316: 1848, 3317: 2480, 3318: 25343, 3319: 27987, 3320: 33297, 3321: 21375, 3322: 38880, 3323: 26046, 3324: 38158, 3325: 12471, 3326: 15250, 3327: 20393, 3328: 2195, 3329: 44325, 3330: 39064, 3331: 44516, 3332: 22228, 3333: 16333, 3334: 17933, 3335: 31812, 3336: 9784, 3337: 39310, 3338: 16090, 3339: 9683, 3340: 33275, 3341: 41368, 3342: 2731, 3343: 13585, 3344: 26905, 3345: 21698, 3346: 13140, 3347: 14074, 3348: 10657, 3349: 12980, 3350: 5682, 3351: 15954, 3352: 11732, 3353: 9380, 3354: 35914, 3355: 646, 3356: 36111, 3357: 24405, 3358: 29895, 3359: 42154, 3360: 26064, 3361: 14706, 3362: 24625, 3363: 22510, 3364: 27116, 3365: 41059, 3366: 21542, 3367: 9853, 3368: 12888, 3369: 19912, 3370: 35369, 3371: 23098, 3372: 23477, 3373: 42840, 3374: 506, 3375: 30360, 3376: 14945, 3377: 29478, 3378: 22274, 3379: 39880, 3380: 43661, 3381: 35733, 3382: 16143, 3383: 36520, 3384: 15283, 3385: 11368, 3386: 40751, 3387: 847, 3388: 30619, 3389: 4787, 3390: 21825, 3391: 9286, 3392: 43890, 3393: 18568, 3394: 4678, 3395: 29612, 3396: 16425, 3397: 22636, 3398: 20753, 3399: 39115, 3400: 7810, 3401: 13493, 3402: 35825, 3403: 43376, 3404: 40508, 3405: 30889, 3406: 30, 3407: 44510, 3408: 40771, 3409: 5130, 3410: 40205, 3411: 9316, 3412: 42984, 3413: 36821, 3414: 8380, 3415: 4568, 3416: 40573, 3417: 24914, 3418: 31570, 3419: 44014, 3420: 26043, 3421: 22733, 3422: 23819, 3423: 7414, 3424: 30984, 3425: 12398, 3426: 29228, 3427: 7737, 3428: 19946, 3429: 2080, 3430: 22680, 3431: 28360, 3432: 2854, 3433: 17130, 3434: 3664, 3435: 31165, 3436: 5879, 3437: 30952, 3438: 9934, 3439: 3822, 3440: 39173, 3441: 12563, 3442: 39139, 3443: 33781, 3444: 22690, 3445: 36720, 3446: 27444, 3447: 42292, 3448: 3343, 3449: 10032, 3450: 11846, 3451: 9153, 3452: 33912, 3453: 13472, 3454: 27059, 3455: 28479, 3456: 2286, 3457: 12923, 3458: 18150, 3459: 21274, 3460: 13633, 3461: 5250, 3462: 5650, 3463: 35034, 3464: 25020, 3465: 17634, 3466: 21905, 3467: 4117, 3468: 31309, 3469: 3231, 3470: 816, 3471: 42517, 3472: 14007, 3473: 33698, 3474: 37499, 3475: 13531, 3476: 3075, 3477: 4118, 3478: 10743, 3479: 13414, 3480: 23069, 3481: 14209, 3482: 34245, 3483: 7406, 3484: 24391, 3485: 35339, 3486: 12406, 3487: 39250, 3488: 36626, 3489: 28735, 3490: 13517, 3491: 28513, 3492: 39541, 3493: 2325, 3494: 18637, 3495: 22992, 3496: 35480, 3497: 19549, 3498: 17540, 3499: 13337, 3500: 24855, 3501: 26740, 3502: 4642, 3503: 26837, 3504: 3903, 3505: 28459, 3506: 33081, 3507: 21137, 3508: 41755, 3509: 10753, 3510: 19864, 3511: 23770, 3512: 20167, 3513: 32658, 3514: 6055, 3515: 24480, 3516: 19188, 3517: 761, 3518: 10327, 3519: 13479, 3520: 23171, 3521: 20669, 3522: 6891, 3523: 31436, 3524: 30114, 3525: 11937, 3526: 15391, 3527: 24736, 3528: 34618, 3529: 13932, 3530: 14671, 3531: 37710, 3532: 21619, 3533: 16292, 3534: 38280, 3535: 40895, 3536: 23902, 3537: 38925, 3538: 25596, 3539: 44016, 3540: 29498, 3541: 24972, 3542: 20622, 3543: 37069, 3544: 10559, 3545: 29773, 3546: 33238, 3547: 13994, 3548: 36702, 3549: 30778, 3550: 43773, 3551: 26903, 3552: 14647, 3553: 28973, 3554: 2466, 3555: 13364, 3556: 922, 3557: 22704, 3558: 22396, 3559: 6297, 3560: 32470, 3561: 32494, 3562: 4515, 3563: 33521, 3564: 15094, 3565: 33184, 3566: 18527, 3567: 32052, 3568: 31629, 3569: 32112, 3570: 41855, 3571: 18445, 3572: 9293, 3573: 38248, 3574: 16794, 3575: 27897, 3576: 39829, 3577: 39549, 3578: 1227, 3579: 21846, 3580: 35956, 3581: 43385, 3582: 37930, 3583: 16341, 3584: 38585, 3585: 19277, 3586: 145, 3587: 27241, 3588: 25373, 3589: 19307, 3590: 18580, 3591: 8945, 3592: 25748, 3593: 21059, 3594: 15018, 3595: 29951, 3596: 40934, 3597: 31387, 3598: 38835, 3599: 21686, 3600: 19697, 3601: 3499, 3602: 11348, 3603: 40168, 3604: 23641, 3605: 1920, 3606: 26055, 3607: 1815, 3608: 30601, 3609: 34539, 3610: 11854, 3611: 35562, 3612: 41405, 3613: 14619, 3614: 22817, 3615: 43249, 3616: 27453, 3617: 28161, 3618: 41630, 3619: 4032, 3620: 785, 3621: 12481, 3622: 27392, 3623: 13075, 3624: 27400, 3625: 38542, 3626: 27617, 3627: 11821, 3628: 3027, 3629: 29682, 3630: 21584, 3631: 41961, 3632: 12645, 3633: 39546, 3634: 20755, 3635: 41090, 3636: 43169, 3637: 26417, 3638: 14089, 3639: 25883, 3640: 37658, 3641: 5145, 3642: 11199, 3643: 19725, 3644: 41113, 3645: 32070, 3646: 39373, 3647: 41782, 3648: 18844, 3649: 19374, 3650: 32195, 3651: 5073, 3652: 8643, 3653: 30243, 3654: 16187, 3655: 33137, 3656: 37940, 3657: 10321, 3658: 42553, 3659: 15822, 3660: 15794, 3661: 38414, 3662: 17313, 3663: 35443, 3664: 3713, 3665: 10975, 3666: 33815, 3667: 27069, 3668: 35849, 3669: 2861, 3670: 39860, 3671: 37960, 3672: 12729, 3673: 13060, 3674: 18595, 3675: 18804, 3676: 9743, 3677: 8929, 3678: 12258, 3679: 3334, 3680: 21371, 3681: 29518, 3682: 13378, 3683: 36282, 3684: 34291, 3685: 4780, 3686: 4114, 3687: 42128, 3688: 8656, 3689: 29079, 3690: 37581, 3691: 28014, 3692: 40745, 3693: 18051, 3694: 28084, 3695: 22130, 3696: 31937, 3697: 33504, 3698: 8101, 3699: 37022, 3700: 43383, 3701: 43051, 3702: 6457, 3703: 14102, 3704: 16544, 3705: 9002, 3706: 44540, 3707: 19526, 3708: 27933, 3709: 44239, 3710: 9269, 3711: 7656, 3712: 5809, 3713: 32915, 3714: 8512, 3715: 16823, 3716: 39255, 3717: 38872, 3718: 11363, 3719: 12127, 3720: 644, 3721: 10922, 3722: 961, 3723: 19949, 3724: 5018, 3725: 20652, 3726: 35141, 3727: 7862, 3728: 39752, 3729: 1785, 3730: 20982, 3731: 29537, 3732: 30520, 3733: 39082, 3734: 32273, 3735: 7083, 3736: 39839, 3737: 32015, 3738: 8062, 3739: 35925, 3740: 31293, 3741: 9290, 3742: 10359, 3743: 12641, 3744: 22999, 3745: 43684, 3746: 26380, 3747: 25747, 3748: 36022, 3749: 21400, 3750: 13290, 3751: 10048, 3752: 8354, 3753: 6748, 3754: 32753, 3755: 30117, 3756: 39499, 3757: 14524, 3758: 20860, 3759: 12553, 3760: 6253, 3761: 29003, 3762: 43077, 3763: 392, 3764: 33945, 3765: 13381, 3766: 39770, 3767: 5743, 3768: 13586, 3769: 9981, 3770: 16999, 3771: 30234, 3772: 20986, 3773: 29243, 3774: 41088, 3775: 2328, 3776: 24790, 3777: 997, 3778: 27077, 3779: 38083, 3780: 40855, 3781: 23290, 3782: 17841, 3783: 34160, 3784: 27463, 3785: 28563, 3786: 28950, 3787: 32044, 3788: 39975, 3789: 42294, 3790: 13158, 3791: 34228, 3792: 32282, 3793: 36890, 3794: 34942, 3795: 38039, 3796: 41887, 3797: 3189, 3798: 39024, 3799: 43304, 3800: 30548, 3801: 24329, 3802: 26717, 3803: 25332, 3804: 1514, 3805: 6133, 3806: 3812, 3807: 37446, 3808: 27913, 3809: 26394, 3810: 26248, 3811: 3798, 3812: 13357, 3813: 5146, 3814: 7589, 3815: 39675, 3816: 17239, 3817: 1730, 3818: 1512, 3819: 14786, 3820: 18503, 3821: 15987, 3822: 13202, 3823: 40268, 3824: 17093, 3825: 33873, 3826: 42396, 3827: 15409, 3828: 30064, 3829: 10644, 3830: 163, 3831: 7275, 3832: 9421, 3833: 4223, 3834: 37207, 3835: 1338, 3836: 13819, 3837: 20797, 3838: 25466, 3839: 197, 3840: 40022, 3841: 15767, 3842: 34082, 3843: 1523, 3844: 372, 3845: 41301, 3846: 16362, 3847: 16638, 3848: 31938, 3849: 33723, 3850: 41784, 3851: 14691, 3852: 9734, 3853: 44279, 3854: 30211, 3855: 35397, 3856: 2318, 3857: 21892, 3858: 22224, 3859: 2931, 3860: 1683, 3861: 22849, 3862: 23026, 3863: 12393, 3864: 15775, 3865: 2228, 3866: 30149, 3867: 14897, 3868: 11075, 3869: 39190, 3870: 18119, 3871: 26795, 3872: 5889, 3873: 24065, 3874: 44077, 3875: 21072, 3876: 42280, 3877: 33668, 3878: 22597, 3879: 28780, 3880: 34549, 3881: 3207, 3882: 32770, 3883: 13802, 3884: 7853, 3885: 38459, 3886: 38218, 3887: 40723, 3888: 14188, 3889: 5467, 3890: 24817, 3891: 42244, 3892: 26336, 3893: 27388, 3894: 39883, 3895: 42652, 3896: 9361, 3897: 27608, 3898: 43506, 3899: 3721, 3900: 16197, 3901: 12390, 3902: 41418, 3903: 257, 3904: 20833, 3905: 10375, 3906: 4861, 3907: 41224, 3908: 2718, 3909: 2111, 3910: 12273, 3911: 37033, 3912: 27674, 3913: 13264, 3914: 1773, 3915: 6945, 3916: 43529, 3917: 25008, 3918: 16224, 3919: 11139, 3920: 16605, 3921: 10593, 3922: 8192, 3923: 41923, 3924: 39600, 3925: 20182, 3926: 22097, 3927: 35120, 3928: 32664, 3929: 17458, 3930: 40321, 3931: 28176, 3932: 27654, 3933: 26194, 3934: 35690, 3935: 25086, 3936: 39155, 3937: 40825, 3938: 30644, 3939: 23220, 3940: 27443, 3941: 25039, 3942: 33907, 3943: 10037, 3944: 32777, 3945: 814, 3946: 2523, 3947: 24520, 3948: 21211, 3949: 11022, 3950: 31259, 3951: 31074, 3952: 5897, 3953: 15823, 3954: 43985, 3955: 32627, 3956: 36477, 3957: 32609, 3958: 26018, 3959: 19519, 3960: 26635, 3961: 39191, 3962: 40401, 3963: 34542, 3964: 13044, 3965: 38200, 3966: 468, 3967: 11499, 3968: 34321, 3969: 38552, 3970: 6398, 3971: 23663, 3972: 41285, 3973: 28075, 3974: 44392, 3975: 36311, 3976: 10681, 3977: 32514, 3978: 14824, 3979: 19607, 3980: 42699, 3981: 20919, 3982: 42857, 3983: 30413, 3984: 5291, 3985: 15452, 3986: 44059, 3987: 39794, 3988: 21139, 3989: 22804, 3990: 16661, 3991: 42694, 3992: 38706, 3993: 26437, 3994: 25871, 3995: 19809, 3996: 30564, 3997: 21353, 3998: 33891, 3999: 35670, 4000: 7692, 4001: 21174, 4002: 22542, 4003: 39603, 4004: 31118, 4005: 37286, 4006: 31242, 4007: 20465, 4008: 14065, 4009: 28146, 4010: 23141, 4011: 16350, 4012: 2353, 4013: 28762, 4014: 6792, 4015: 23394, 4016: 14976, 4017: 42462, 4018: 33890, 4019: 35534, 4020: 29205, 4021: 28830, 4022: 31005, 4023: 26218, 4024: 5478, 4025: 15680, 4026: 24816, 4027: 7943, 4028: 27428, 4029: 17437, 4030: 41371, 4031: 30865, 4032: 34836, 4033: 25852, 4034: 2651, 4035: 6590, 4036: 34652, 4037: 37872, 4038: 34879, 4039: 34827, 4040: 25256, 4041: 41306, 4042: 12654, 4043: 27120, 4044: 16175, 4045: 33744, 4046: 44332, 4047: 19093, 4048: 4502, 4049: 13684, 4050: 26848, 4051: 11107, 4052: 32341, 4053: 24548, 4054: 25069, 4055: 1921, 4056: 28306, 4057: 23541, 4058: 24484, 4059: 11043, 4060: 19712, 4061: 22005, 4062: 16041, 4063: 44271, 4064: 3675, 4065: 34940, 4066: 21006, 4067: 9216, 4068: 12606, 4069: 20276, 4070: 30510, 4071: 16705, 4072: 22020, 4073: 7820, 4074: 10019, 4075: 39077, 4076: 21855, 4077: 14571, 4078: 17014, 4079: 18573, 4080: 16945, 4081: 16326, 4082: 22346, 4083: 31996, 4084: 3277, 4085: 17583, 4086: 36394, 4087: 12193, 4088: 18683, 4089: 17380, 4090: 19882, 4091: 32601, 4092: 11848, 4093: 30898, 4094: 32964, 4095: 14856, 4096: 19574, 4097: 32478, 4098: 20053, 4099: 37567, 4100: 5666, 4101: 22921, 4102: 32680, 4103: 19537, 4104: 32553, 4105: 15322, 4106: 39656, 4107: 7263, 4108: 32741, 4109: 1727, 4110: 4932, 4111: 17799, 4112: 40075, 4113: 4522, 4114: 26666, 4115: 14537, 4116: 21569, 4117: 22640, 4118: 17186, 4119: 6668, 4120: 14382, 4121: 7997, 4122: 19554, 4123: 6361, 4124: 33146, 4125: 4937, 4126: 25740, 4127: 23094, 4128: 8324, 4129: 35363, 4130: 23673, 4131: 20388, 4132: 41965, 4133: 3630, 4134: 20515, 4135: 32652, 4136: 448, 4137: 1557, 4138: 1825, 4139: 37538, 4140: 35548, 4141: 810, 4142: 35045, 4143: 12964, 4144: 34971, 4145: 10821, 4146: 36292, 4147: 8240, 4148: 619, 4149: 2845, 4150: 42872, 4151: 35629, 4152: 36957, 4153: 44266, 4154: 14858, 4155: 13385, 4156: 9722, 4157: 12784, 4158: 25112, 4159: 11904, 4160: 22785, 4161: 68, 4162: 4410, 4163: 10760, 4164: 14412, 4165: 17832, 4166: 34881, 4167: 12538, 4168: 8884, 4169: 5411, 4170: 22789, 4171: 19232, 4172: 21071, 4173: 11990, 4174: 33437, 4175: 6663, 4176: 4879, 4177: 31978, 4178: 464, 4179: 4721, 4180: 17816, 4181: 32386, 4182: 26138, 4183: 1143, 4184: 7350, 4185: 16730, 4186: 21692, 4187: 31851, 4188: 19553, 4189: 29084, 4190: 33972, 4191: 40824, 4192: 30616, 4193: 15285, 4194: 24663, 4195: 3011, 4196: 37790, 4197: 36085, 4198: 6833, 4199: 43628, 4200: 3084, 4201: 14332, 4202: 41546, 4203: 6671, 4204: 40298, 4205: 16484, 4206: 91, 4207: 29530, 4208: 24900, 4209: 13942, 4210: 17043, 4211: 17146, 4212: 25469, 4213: 32155, 4214: 9806, 4215: 283, 4216: 28948, 4217: 27554, 4218: 186, 4219: 6679, 4220: 7515, 4221: 22358, 4222: 28525, 4223: 22759, 4224: 36106, 4225: 24387, 4226: 21505, 4227: 30871, 4228: 42975, 4229: 25422, 4230: 42885, 4231: 38785, 4232: 34517, 4233: 17229, 4234: 43710, 4235: 6183, 4236: 17114, 4237: 13416, 4238: 808, 4239: 14938, 4240: 10266, 4241: 28534, 4242: 41968, 4243: 13805, 4244: 30483, 4245: 4574, 4246: 30591, 4247: 26602, 4248: 446, 4249: 33827, 4250: 1993, 4251: 36804, 4252: 9748, 4253: 26772, 4254: 13952, 4255: 33066, 4256: 21709, 4257: 9590, 4258: 13723, 4259: 21643, 4260: 23910, 4261: 44146, 4262: 13861, 4263: 32743, 4264: 12335, 4265: 32665, 4266: 31896, 4267: 41136, 4268: 29450, 4269: 7756, 4270: 27936, 4271: 11150, 4272: 28451, 4273: 9427, 4274: 14058, 4275: 29434, 4276: 9374, 4277: 1971, 4278: 37840, 4279: 28929, 4280: 12381, 4281: 42871, 4282: 22070, 4283: 3411, 4284: 13983, 4285: 22221, 4286: 37709, 4287: 38264, 4288: 10930, 4289: 25687, 4290: 6922, 4291: 32922, 4292: 29408, 4293: 22617, 4294: 22826, 4295: 17255, 4296: 42157, 4297: 18854, 4298: 3085, 4299: 30668, 4300: 23845, 4301: 7669, 4302: 33520, 4303: 7450, 4304: 4869, 4305: 3709, 4306: 3745, 4307: 42520, 4308: 44341, 4309: 16553, 4310: 13895, 4311: 34792, 4312: 43334, 4313: 28888, 4314: 13902, 4315: 24208, 4316: 29070, 4317: 31688, 4318: 15774, 4319: 39371, 4320: 23582, 4321: 11108, 4322: 12476, 4323: 5617, 4324: 29702, 4325: 37209, 4326: 2183, 4327: 36977, 4328: 39267, 4329: 35927, 4330: 43870, 4331: 32859, 4332: 14979, 4333: 37318, 4334: 17112, 4335: 8228, 4336: 31137, 4337: 1931, 4338: 43042, 4339: 11312, 4340: 36469, 4341: 31545, 4342: 13231, 4343: 31824, 4344: 16979, 4345: 29622, 4346: 21316, 4347: 9430, 4348: 40814, 4349: 7532, 4350: 9517, 4351: 14409, 4352: 41032, 4353: 37014, 4354: 44524, 4355: 5964, 4356: 40717, 4357: 30240, 4358: 3479, 4359: 16667, 4360: 4726, 4361: 7182, 4362: 15758, 4363: 10554, 4364: 13523, 4365: 18518, 4366: 14551, 4367: 39604, 4368: 15401, 4369: 10846, 4370: 40026, 4371: 30222, 4372: 41131, 4373: 41280, 4374: 27488, 4375: 22593, 4376: 8176, 4377: 28131, 4378: 17203, 4379: 6863, 4380: 9665, 4381: 3976, 4382: 6372, 4383: 7115, 4384: 42676, 4385: 29086, 4386: 19115, 4387: 29455, 4388: 27313, 4389: 17124, 4390: 4234, 4391: 28494, 4392: 40663, 4393: 35093, 4394: 30046, 4395: 39395, 4396: 29163, 4397: 40481, 4398: 26045, 4399: 32649, 4400: 15026, 4401: 26748, 4402: 31504, 4403: 8017, 4404: 26604, 4405: 43217, 4406: 31410, 4407: 18924, 4408: 18566, 4409: 26566, 4410: 40793, 4411: 7717, 4412: 833, 4413: 17878, 4414: 32828, 4415: 36291, 4416: 24699, 4417: 12897, 4418: 6013, 4419: 9684, 4420: 31335, 4421: 15565, 4422: 8987, 4423: 24138, 4424: 4072, 4425: 9420, 4426: 16178, 4427: 27250, 4428: 3948, 4429: 34955, 4430: 39041, 4431: 36504, 4432: 1163, 4433: 37731, 4434: 8143, 4435: 40514, 4436: 20435, 4437: 17767, 4438: 38597, 4439: 9758, 4440: 30807, 4441: 27271, 4442: 34275, 4443: 30195, 4444: 42754, 4445: 38767, 4446: 40707, 4447: 9595, 4448: 24722, 4449: 39742, 4450: 36981, 4451: 38662, 4452: 15813, 4453: 31568, 4454: 44377, 4455: 8161, 4456: 43582, 4457: 37693, 4458: 15512, 4459: 40196, 4460: 22580, 4461: 29120, 4462: 40749, 4463: 21140, 4464: 10721, 4465: 16139, 4466: 1294, 4467: 36355, 4468: 18339, 4469: 18903, 4470: 41072, 4471: 39184, 4472: 26297, 4473: 13943, 4474: 18511, 4475: 18780, 4476: 31168, 4477: 19040, 4478: 31462, 4479: 31463, 4480: 35479, 4481: 9378, 4482: 24281, 4483: 37065, 4484: 4539, 4485: 42747, 4486: 28397, 4487: 44109, 4488: 24583, 4489: 6100, 4490: 27183, 4491: 25948, 4492: 17372, 4493: 37333, 4494: 15881, 4495: 40323, 4496: 28047, 4497: 7523, 4498: 12501, 4499: 43942, 4500: 41696, 4501: 14667, 4502: 3843, 4503: 23575, 4504: 25206, 4505: 30956, 4506: 8569, 4507: 34756, 4508: 364, 4509: 24681, 4510: 30107, 4511: 1728, 4512: 14990, 4513: 26556, 4514: 43994, 4515: 34670, 4516: 25328, 4517: 6212, 4518: 27722, 4519: 21597, 4520: 7964, 4521: 33762, 4522: 22073, 4523: 14435, 4524: 2559, 4525: 36408, 4526: 24812, 4527: 20315, 4528: 35405, 4529: 21583, 4530: 31341, 4531: 22698, 4532: 27042, 4533: 28282, 4534: 1006, 4535: 1537, 4536: 15731, 4537: 3678, 4538: 38401, 4539: 6570, 4540: 17370, 4541: 8333, 4542: 20005, 4543: 42119, 4544: 3870, 4545: 41934, 4546: 3873, 4547: 16622, 4548: 16025, 4549: 15410, 4550: 3168, 4551: 42390, 4552: 6964, 4553: 7486, 4554: 34090, 4555: 32791, 4556: 3536, 4557: 16879, 4558: 42570, 4559: 1636, 4560: 15906, 4561: 10993, 4562: 42544, 4563: 2304, 4564: 14199, 4565: 1094, 4566: 21966, 4567: 39553, 4568: 31609, 4569: 30385, 4570: 30392, 4571: 40796, 4572: 397, 4573: 16828, 4574: 10827, 4575: 19142, 4576: 33232, 4577: 37350, 4578: 18669, 4579: 40091, 4580: 19286, 4581: 2632, 4582: 7077, 4583: 20924, 4584: 9337, 4585: 20704, 4586: 12486, 4587: 39932, 4588: 17711, 4589: 1550, 4590: 16064, 4591: 24069, 4592: 17006, 4593: 7933, 4594: 20617, 4595: 18781, 4596: 4935, 4597: 26577, 4598: 36813, 4599: 12853, 4600: 22880, 4601: 7644, 4602: 35478, 4603: 27431, 4604: 27793, 4605: 288, 4606: 29286, 4607: 17678, 4608: 36131, 4609: 29442, 4610: 4707, 4611: 4985, 4612: 10628, 4613: 43989, 4614: 40689, 4615: 37467, 4616: 5410, 4617: 14239, 4618: 18542, 4619: 160, 4620: 70, 4621: 9317, 4622: 25285, 4623: 28934, 4624: 15994, 4625: 35108, 4626: 1331, 4627: 14811, 4628: 3396, 4629: 7405, 4630: 15504, 4631: 9597, 4632: 112, 4633: 42565, 4634: 8849, 4635: 23798, 4636: 36189, 4637: 4497, 4638: 15792, 4639: 35294, 4640: 23335, 4641: 36038, 4642: 5078, 4643: 18663, 4644: 11730, 4645: 21318, 4646: 4406, 4647: 26494, 4648: 2120, 4649: 38022, 4650: 44475, 4651: 33104, 4652: 10633, 4653: 5434, 4654: 38992, 4655: 43566, 4656: 36235, 4657: 5693, 4658: 1912, 4659: 20874, 4660: 3468, 4661: 2955, 4662: 23556, 4663: 22712, 4664: 38720, 4665: 12452, 4666: 33278, 4667: 17989, 4668: 13811, 4669: 15688, 4670: 11349, 4671: 13528, 4672: 32930, 4673: 9656, 4674: 41206, 4675: 43189, 4676: 20957, 4677: 22638, 4678: 29610, 4679: 33348, 4680: 23061, 4681: 23759, 4682: 12114, 4683: 18346, 4684: 3990, 4685: 4301, 4686: 6350, 4687: 35828, 4688: 5734, 4689: 11735, 4690: 38744, 4691: 32088, 4692: 17835, 4693: 2028, 4694: 30419, 4695: 25036, 4696: 24064, 4697: 26263, 4698: 24031, 4699: 33151, 4700: 17730, 4701: 40900, 4702: 6303, 4703: 36817, 4704: 38639, 4705: 34323, 4706: 9954, 4707: 29383, 4708: 37346, 4709: 10373, 4710: 25552, 4711: 23691, 4712: 24760, 4713: 16972, 4714: 19863, 4715: 3127, 4716: 41228, 4717: 31152, 4718: 16255, 4719: 40695, 4720: 28114, 4721: 15945, 4722: 21108, 4723: 12929, 4724: 12664, 4725: 39478, 4726: 31126, 4727: 20710, 4728: 24098, 4729: 20247, 4730: 8374, 4731: 34667, 4732: 29796, 4733: 7465, 4734: 18486, 4735: 26316, 4736: 37501, 4737: 22154, 4738: 37425, 4739: 25651, 4740: 14025, 4741: 27304, 4742: 15526, 4743: 8788, 4744: 514, 4745: 40568, 4746: 33525, 4747: 13284, 4748: 10012, 4749: 30162, 4750: 40149, 4751: 384, 4752: 22538, 4753: 34193, 4754: 35183, 4755: 5742, 4756: 26315, 4757: 25091, 4758: 18801, 4759: 42641, 4760: 20612, 4761: 21688, 4762: 15605, 4763: 38628, 4764: 9975, 4765: 29604, 4766: 11295, 4767: 37654, 4768: 17074, 4769: 1420, 4770: 18107, 4771: 19291, 4772: 13399, 4773: 10422, 4774: 23003, 4775: 3162, 4776: 329, 4777: 33706, 4778: 27690, 4779: 1849, 4780: 39439, 4781: 23916, 4782: 21821, 4783: 23642, 4784: 34797, 4785: 40245, 4786: 25303, 4787: 10322, 4788: 24600, 4789: 16346, 4790: 9225, 4791: 41138, 4792: 15280, 4793: 6582, 4794: 39799, 4795: 40668, 4796: 25958, 4797: 20392, 4798: 17645, 4799: 14232, 4800: 12581, 4801: 19590, 4802: 12950, 4803: 5914, 4804: 35747, 4805: 34520, 4806: 23885, 4807: 33082, 4808: 14314, 4809: 18465, 4810: 31350, 4811: 21001, 4812: 5042, 4813: 12864, 4814: 39243, 4815: 19747, 4816: 1897, 4817: 33469, 4818: 38519, 4819: 12765, 4820: 28789, 4821: 181, 4822: 34430, 4823: 34460, 4824: 26549, 4825: 12252, 4826: 2317, 4827: 30112, 4828: 9444, 4829: 43004, 4830: 37342, 4831: 11631, 4832: 31521, 4833: 39120, 4834: 20486, 4835: 43496, 4836: 28024, 4837: 29462, 4838: 7882, 4839: 8625, 4840: 652, 4841: 32761, 4842: 1681, 4843: 27112, 4844: 28618, 4845: 38073, 4846: 480, 4847: 26784, 4848: 40735, 4849: 31343, 4850: 28692, 4851: 19754, 4852: 7464, 4853: 1536, 4854: 41117, 4855: 42206, 4856: 16243, 4857: 8878, 4858: 7856, 4859: 18657, 4860: 6939, 4861: 28772, 4862: 4021, 4863: 11525, 4864: 11019, 4865: 30803, 4866: 16478, 4867: 27264, 4868: 41172, 4869: 1218, 4870: 41451, 4871: 33379, 4872: 41698, 4873: 27199, 4874: 23814, 4875: 43301, 4876: 16473, 4877: 15430, 4878: 4375, 4879: 19839, 4880: 21439, 4881: 21964, 4882: 36689, 4883: 39300, 4884: 15276, 4885: 14616, 4886: 6135, 4887: 19597, 4888: 18064, 4889: 12482, 4890: 26584, 4891: 19793, 4892: 16278, 4893: 21389, 4894: 13412, 4895: 17173, 4896: 33876, 4897: 5007, 4898: 44357, 4899: 16051, 4900: 4994, 4901: 29360, 4902: 11432, 4903: 12745, 4904: 24912, 4905: 6057, 4906: 29273, 4907: 10823, 4908: 19561, 4909: 30832, 4910: 1791, 4911: 12215, 4912: 43498, 4913: 18546, 4914: 33904, 4915: 31331, 4916: 30432, 4917: 11919, 4918: 16502, 4919: 9302, 4920: 16085, 4921: 4825, 4922: 11332, 4923: 18188, 4924: 4850, 4925: 8135, 4926: 20264, 4927: 8458, 4928: 3950, 4929: 12110, 4930: 3878, 4931: 21401, 4932: 8015, 4933: 378, 4934: 12308, 4935: 6784, 4936: 13392, 4937: 21782, 4938: 27917, 4939: 5654, 4940: 31499, 4941: 43557, 4942: 30752, 4943: 43960, 4944: 8216, 4945: 13846, 4946: 32869, 4947: 38017, 4948: 40524, 4949: 21994, 4950: 13738, 4951: 16429, 4952: 31048, 4953: 8994, 4954: 4556, 4955: 12546, 4956: 7360, 4957: 7798, 4958: 9372, 4959: 16997, 4960: 31249, 4961: 7256, 4962: 26011, 4963: 40058, 4964: 44185, 4965: 31575, 4966: 13005, 4967: 3733, 4968: 6249, 4969: 19493, 4970: 35878, 4971: 25428, 4972: 7339, 4973: 3106, 4974: 15296, 4975: 7607, 4976: 18881, 4977: 8455, 4978: 41697, 4979: 18559, 4980: 17017, 4981: 37415, 4982: 36697, 4983: 30922, 4984: 4368, 4985: 711, 4986: 18922, 4987: 25349, 4988: 7282, 4989: 398, 4990: 19476, 4991: 13864, 4992: 32585, 4993: 35184, 4994: 717, 4995: 14195, 4996: 41319, 4997: 37030, 4998: 19581, 4999: 30654, 5000: 3385, 5001: 42383, 5002: 35238, 5003: 3723, 5004: 37619, 5005: 35312, 5006: 13076, 5007: 4437, 5008: 1985, 5009: 1581, 5010: 22464, 5011: 36800, 5012: 37541, 5013: 38578, 5014: 44391, 5015: 580, 5016: 6337, 5017: 43010, 5018: 20542, 5019: 42798, 5020: 32286, 5021: 6686, 5022: 21882, 5023: 23717, 5024: 44224, 5025: 24486, 5026: 38705, 5027: 1153, 5028: 16472, 5029: 40741, 5030: 22289, 5031: 44254, 5032: 15223, 5033: 28937, 5034: 37469, 5035: 22526, 5036: 22630, 5037: 14521, 5038: 14670, 5039: 39147, 5040: 13353, 5041: 14690, 5042: 28279, 5043: 15487, 5044: 32327, 5045: 32091, 5046: 30764, 5047: 36955, 5048: 6876, 5049: 20144, 5050: 25602, 5051: 25590, 5052: 10621, 5053: 29993, 5054: 28420, 5055: 36089, 5056: 39824, 5057: 8696, 5058: 3319, 5059: 17125, 5060: 6387, 5061: 36513, 5062: 20774, 5063: 13014, 5064: 2242, 5065: 42325, 5066: 12008, 5067: 4267, 5068: 168, 5069: 23750, 5070: 22479, 5071: 40160, 5072: 5159, 5073: 30136, 5074: 34834, 5075: 18621, 5076: 23085, 5077: 24346, 5078: 6379, 5079: 31511, 5080: 42242, 5081: 14650, 5082: 28671, 5083: 36857, 5084: 18456, 5085: 9541, 5086: 13717, 5087: 26015, 5088: 21384, 5089: 44099, 5090: 23774, 5091: 4704, 5092: 21652, 5093: 30674, 5094: 35527, 5095: 38608, 5096: 5460, 5097: 8055, 5098: 44042, 5099: 31526, 5100: 7401, 5101: 23392, 5102: 34399, 5103: 25497, 5104: 18576, 5105: 40619, 5106: 7950, 5107: 28733, 5108: 32795, 5109: 4815, 5110: 29637, 5111: 6661, 5112: 6499, 5113: 42388, 5114: 24923, 5115: 22951, 5116: 4840, 5117: 12942, 5118: 44425, 5119: 1111, 5120: 26337, 5121: 1592, 5122: 29389, 5123: 38438, 5124: 26034, 5125: 34894, 5126: 17177, 5127: 6018, 5128: 24036, 5129: 5976, 5130: 7272, 5131: 3525, 5132: 25570, 5133: 42732, 5134: 19190, 5135: 27632, 5136: 43176, 5137: 28374, 5138: 8518, 5139: 23440, 5140: 16981, 5141: 41585, 5142: 35192, 5143: 19577, 5144: 3386, 5145: 42124, 5146: 43788, 5147: 43086, 5148: 7757, 5149: 26998, 5150: 19633, 5151: 16922, 5152: 25886, 5153: 41762, 5154: 5248, 5155: 25821, 5156: 5714, 5157: 19759, 5158: 26307, 5159: 607, 5160: 6626, 5161: 4616, 5162: 25502, 5163: 42481, 5164: 34279, 5165: 26660, 5166: 32623, 5167: 11037, 5168: 5509, 5169: 3070, 5170: 40800, 5171: 32176, 5172: 26557, 5173: 23355, 5174: 32194, 5175: 2504, 5176: 43442, 5177: 12680, 5178: 19894, 5179: 23675, 5180: 14731, 5181: 6751, 5182: 32140, 5183: 41327, 5184: 31258, 5185: 29464, 5186: 34129, 5187: 37012, 5188: 29897, 5189: 12077, 5190: 31829, 5191: 2025, 5192: 42143, 5193: 40357, 5194: 1455, 5195: 5457, 5196: 450, 5197: 11284, 5198: 32118, 5199: 2309, 5200: 16038, 5201: 1756, 5202: 12351, 5203: 41459, 5204: 38430, 5205: 3645, 5206: 28112, 5207: 4959, 5208: 26696, 5209: 34980, 5210: 18862, 5211: 34222, 5212: 19101, 5213: 20899, 5214: 36384, 5215: 25539, 5216: 12922, 5217: 40131, 5218: 16301, 5219: 41865, 5220: 21693, 5221: 3421, 5222: 14151, 5223: 33576, 5224: 12631, 5225: 40653, 5226: 8597, 5227: 19569, 5228: 19591, 5229: 11038, 5230: 2662, 5231: 30916, 5232: 36684, 5233: 44551, 5234: 41617, 5235: 3149, 5236: 42608, 5237: 22409, 5238: 41413, 5239: 13563, 5240: 37094, 5241: 14225, 5242: 17246, 5243: 22202, 5244: 11302, 5245: 17326, 5246: 8961, 5247: 19583, 5248: 5552, 5249: 37025, 5250: 33326, 5251: 3929, 5252: 32865, 5253: 34352, 5254: 3458, 5255: 38252, 5256: 1434, 5257: 12185, 5258: 17897, 5259: 17165, 5260: 24875, 5261: 41232, 5262: 14506, 5263: 4129, 5264: 19811, 5265: 14838, 5266: 20020, 5267: 22786, 5268: 22337, 5269: 3416, 5270: 4518, 5271: 44528, 5272: 40968, 5273: 43139, 5274: 9013, 5275: 36258, 5276: 40949, 5277: 20976, 5278: 29018, 5279: 21751, 5280: 14708, 5281: 38190, 5282: 28053, 5283: 44265, 5284: 7185, 5285: 8096, 5286: 36633, 5287: 42561, 5288: 16174, 5289: 10243, 5290: 30729, 5291: 22894, 5292: 15067, 5293: 37527, 5294: 31860, 5295: 42379, 5296: 40278, 5297: 29524, 5298: 6811, 5299: 23185, 5300: 25725, 5301: 34920, 5302: 18743, 5303: 21937, 5304: 3337, 5305: 31247, 5306: 1869, 5307: 31398, 5308: 37679, 5309: 26393, 5310: 19426, 5311: 11950, 5312: 25381, 5313: 35490, 5314: 29543, 5315: 11344, 5316: 28142, 5317: 537, 5318: 15890, 5319: 43313, 5320: 26528, 5321: 26793, 5322: 42647, 5323: 14502, 5324: 13483, 5325: 40784, 5326: 35952, 5327: 19900, 5328: 36723, 5329: 42758, 5330: 38818, 5331: 25905, 5332: 8029, 5333: 20849, 5334: 38829, 5335: 15350, 5336: 17030, 5337: 35568, 5338: 10843, 5339: 43391, 5340: 37536, 5341: 28022, 5342: 13735, 5343: 26047, 5344: 42340, 5345: 3818, 5346: 5033, 5347: 26640, 5348: 1120, 5349: 42135, 5350: 93, 5351: 13880, 5352: 28871, 5353: 17241, 5354: 26027, 5355: 5317, 5356: 25245, 5357: 38617, 5358: 16495, 5359: 43633, 5360: 1013, 5361: 17199, 5362: 20245, 5363: 34250, 5364: 24614, 5365: 455, 5366: 42823, 5367: 11005, 5368: 41349, 5369: 40677, 5370: 25196, 5371: 2683, 5372: 35701, 5373: 24254, 5374: 13824, 5375: 12216, 5376: 14485, 5377: 37130, 5378: 39550, 5379: 21552, 5380: 37946, 5381: 31208, 5382: 21295, 5383: 31782, 5384: 13434, 5385: 40640, 5386: 32035, 5387: 19097, 5388: 31498, 5389: 38214, 5390: 32462, 5391: 31177, 5392: 1385, 5393: 39654, 5394: 108, 5395: 4646, 5396: 39744, 5397: 4820, 5398: 15374, 5399: 18533, 5400: 34620, 5401: 15480, 5402: 4091, 5403: 33704, 5404: 773, 5405: 42241, 5406: 14618, 5407: 35134, 5408: 8449, 5409: 28739, 5410: 29748, 5411: 4232, 5412: 21283, 5413: 3906, 5414: 35235, 5415: 40906, 5416: 34865, 5417: 39433, 5418: 15552, 5419: 24299, 5420: 32003, 5421: 42149, 5422: 40181, 5423: 42796, 5424: 2552, 5425: 5339, 5426: 2972, 5427: 43898, 5428: 20187, 5429: 16271, 5430: 23257, 5431: 44277, 5432: 8353, 5433: 22243, 5434: 43324, 5435: 33979, 5436: 32934, 5437: 35653, 5438: 29222, 5439: 2468, 5440: 5643, 5441: 35746, 5442: 17504, 5443: 428, 5444: 9248, 5445: 2753, 5446: 21233, 5447: 6145, 5448: 9471, 5449: 27729, 5450: 2431, 5451: 9719, 5452: 17347, 5453: 14845, 5454: 28260, 5455: 28239, 5456: 13742, 5457: 28276, 5458: 6030, 5459: 29417, 5460: 36970, 5461: 8347, 5462: 23989, 5463: 19846, 5464: 19070, 5465: 12195, 5466: 34456, 5467: 8150, 5468: 21255, 5469: 6514, 5470: 42712, 5471: 14925, 5472: 13293, 5473: 6174, 5474: 8560, 5475: 12892, 5476: 595, 5477: 40991, 5478: 4593, 5479: 20011, 5480: 21433, 5481: 39671, 5482: 6464, 5483: 41593, 5484: 2186, 5485: 43984, 5486: 17351, 5487: 17624, 5488: 43892, 5489: 17407, 5490: 11397, 5491: 38728, 5492: 22918, 5493: 26472, 5494: 25177, 5495: 6507, 5496: 3732, 5497: 11938, 5498: 31617, 5499: 7192, 5500: 40929, 5501: 7169, 5502: 30967, 5503: 38047, 5504: 38527, 5505: 3438, 5506: 29261, 5507: 40851, 5508: 38413, 5509: 38501, 5510: 40865, 5511: 11030, 5512: 26522, 5513: 24638, 5514: 14150, 5515: 771, 5516: 15589, 5517: 12287, 5518: 40233, 5519: 25653, 5520: 24177, 5521: 15785, 5522: 8007, 5523: 1299, 5524: 3795, 5525: 36965, 5526: 26227, 5527: 26302, 5528: 5725, 5529: 41981, 5530: 32704, 5531: 35180, 5532: 34505, 5533: 39153, 5534: 13191, 5535: 8334, 5536: 6903, 5537: 27565, 5538: 1654, 5539: 36220, 5540: 39328, 5541: 28136, 5542: 37550, 5543: 35067, 5544: 34315, 5545: 17128, 5546: 37039, 5547: 31915, 5548: 12544, 5549: 8982, 5550: 42831, 5551: 3080, 5552: 27703, 5553: 18775, 5554: 30576, 5555: 37483, 5556: 8634, 5557: 1020, 5558: 41375, 5559: 16374, 5560: 38922, 5561: 3586, 5562: 5112, 5563: 16099, 5564: 18059, 5565: 19428, 5566: 40428, 5567: 15293, 5568: 32662, 5569: 15403, 5570: 28952, 5571: 8230, 5572: 30285, 5573: 6536, 5574: 39107, 5575: 29667, 5576: 20690, 5577: 43737, 5578: 25322, 5579: 36622, 5580: 37015, 5581: 23904, 5582: 32063, 5583: 30514, 5584: 41534, 5585: 43439, 5586: 6001, 5587: 40176, 5588: 37598, 5589: 13575, 5590: 3778, 5591: 14738, 5592: 2790, 5593: 39201, 5594: 26274, 5595: 8440, 5596: 26222, 5597: 37338, 5598: 40312, 5599: 1413, 5600: 22536, 5601: 40456, 5602: 25762, 5603: 15179, 5604: 11638, 5605: 3484, 5606: 35999, 5607: 10985, 5608: 3489, 5609: 24246, 5610: 33141, 5611: 10173, 5612: 11307, 5613: 755, 5614: 43516, 5615: 2512, 5616: 27047, 5617: 36596, 5618: 26939, 5619: 18955, 5620: 20977, 5621: 44264, 5622: 29724, 5623: 19777, 5624: 25771, 5625: 10393, 5626: 30059, 5627: 39042, 5628: 5574, 5629: 6418, 5630: 42743, 5631: 12484, 5632: 22106, 5633: 22577, 5634: 26952, 5635: 27678, 5636: 40826, 5637: 2716, 5638: 25292, 5639: 39207, 5640: 5233, 5641: 11530, 5642: 42524, 5643: 41605, 5644: 38862, 5645: 23045, 5646: 21654, 5647: 29323, 5648: 42719, 5649: 24562, 5650: 4528, 5651: 14898, 5652: 5292, 5653: 1195, 5654: 26595, 5655: 32161, 5656: 3407, 5657: 5754, 5658: 22287, 5659: 30336, 5660: 2557, 5661: 30504, 5662: 4765, 5663: 31847, 5664: 39193, 5665: 25461, 5666: 41662, 5667: 1438, 5668: 11832, 5669: 25454, 5670: 15440, 5671: 19502, 5672: 7113, 5673: 7235, 5674: 20193, 5675: 32980, 5676: 12876, 5677: 30537, 5678: 8442, 5679: 32666, 5680: 9123, 5681: 4729, 5682: 32684, 5683: 5277, 5684: 3821, 5685: 1937, 5686: 10396, 5687: 28808, 5688: 31867, 5689: 38256, 5690: 4079, 5691: 43577, 5692: 14778, 5693: 31762, 5694: 7905, 5695: 7875, 5696: 38564, 5697: 18764, 5698: 43034, 5699: 12392, 5700: 8922, 5701: 12580, 5702: 16698, 5703: 9419, 5704: 22476, 5705: 14238, 5706: 37520, 5707: 28606, 5708: 585, 5709: 23453, 5710: 41582, 5711: 7568, 5712: 22669, 5713: 36280, 5714: 9017, 5715: 16303, 5716: 20638, 5717: 1411, 5718: 34131, 5719: 14038, 5720: 43921, 5721: 6167, 5722: 12960, 5723: 43709, 5724: 25511, 5725: 31203, 5726: 29645, 5727: 4634, 5728: 36197, 5729: 30657, 5730: 23194, 5731: 20667, 5732: 817, 5733: 3617, 5734: 29938, 5735: 6756, 5736: 2531, 5737: 16442, 5738: 22691, 5739: 36435, 5740: 2498, 5741: 13415, 5742: 32927, 5743: 34164, 5744: 41871, 5745: 568, 5746: 16719, 5747: 21090, 5748: 4092, 5749: 270, 5750: 18399, 5751: 25054, 5752: 28635, 5753: 28343, 5754: 1025, 5755: 10254, 5756: 6009, 5757: 30120, 5758: 33543, 5759: 37172, 5760: 1639, 5761: 1828, 5762: 9535, 5763: 13494, 5764: 27473, 5765: 36808, 5766: 25509, 5767: 38719, 5768: 26209, 5769: 21136, 5770: 1725, 5771: 18878, 5772: 44082, 5773: 6818, 5774: 18365, 5775: 1492, 5776: 21394, 5777: 12290, 5778: 30138, 5779: 22236, 5780: 19876, 5781: 2608, 5782: 19312, 5783: 20223, 5784: 15744, 5785: 29825, 5786: 43007, 5787: 23699, 5788: 10669, 5789: 16423, 5790: 39679, 5791: 27516, 5792: 43607, 5793: 42766, 5794: 42546, 5795: 43059, 5796: 3310, 5797: 24441, 5798: 14519, 5799: 1463, 5800: 5707, 5801: 34196, 5802: 41171, 5803: 9761, 5804: 34436, 5805: 35053, 5806: 25900, 5807: 15456, 5808: 3957, 5809: 5426, 5810: 11988, 5811: 35321, 5812: 42279, 5813: 44513, 5814: 974, 5815: 16065, 5816: 7035, 5817: 2842, 5818: 2354, 5819: 35005, 5820: 33705, 5821: 11866, 5822: 39484, 5823: 12739, 5824: 20010, 5825: 9990, 5826: 24993, 5827: 32548, 5828: 37023, 5829: 41960, 5830: 2343, 5831: 18432, 5832: 5995, 5833: 39868, 5834: 18067, 5835: 17183, 5836: 27235, 5837: 3436, 5838: 8874, 5839: 28156, 5840: 7039, 5841: 3363, 5842: 18458, 5843: 20469, 5844: 27631, 5845: 23234, 5846: 27996, 5847: 20332, 5848: 15341, 5849: 7570, 5850: 13348, 5851: 19071, 5852: 38594, 5853: 21428, 5854: 15972, 5855: 7207, 5856: 3769, 5857: 9651, 5858: 41212, 5859: 9104, 5860: 30679, 5861: 36195, 5862: 33569, 5863: 23359, 5864: 42634, 5865: 31993, 5866: 12323, 5867: 17850, 5868: 6877, 5869: 29362, 5870: 39555, 5871: 17980, 5872: 42833, 5873: 21272, 5874: 12872, 5875: 41146, 5876: 11607, 5877: 2358, 5878: 2838, 5879: 395, 5880: 22160, 5881: 5447, 5882: 17009, 5883: 16842, 5884: 42814, 5885: 13532, 5886: 13134, 5887: 15877, 5888: 13701, 5889: 20151, 5890: 28903, 5891: 12592, 5892: 63, 5893: 31386, 5894: 7524, 5895: 41766, 5896: 12311, 5897: 24146, 5898: 15238, 5899: 27409, 5900: 24308, 5901: 15121, 5902: 1396, 5903: 41975, 5904: 38239, 5905: 14164, 5906: 27733, 5907: 24987, 5908: 18300, 5909: 14250, 5910: 2310, 5911: 18321, 5912: 13851, 5913: 13571, 5914: 31822, 5915: 37839, 5916: 31248, 5917: 10650, 5918: 36969, 5919: 20120, 5920: 20014, 5921: 39009, 5922: 41538, 5923: 35168, 5924: 17707, 5925: 23341, 5926: 17927, 5927: 29369, 5928: 12074, 5929: 33476, 5930: 8508, 5931: 31326, 5932: 29064, 5933: 43, 5934: 31360, 5935: 44322, 5936: 39161, 5937: 42207, 5938: 18324, 5939: 11188, 5940: 17607, 5941: 30854, 5942: 21186, 5943: 23963, 5944: 3739, 5945: 3221, 5946: 7057, 5947: 17553, 5948: 1749, 5949: 24179, 5950: 2543, 5951: 5676, 5952: 21078, 5953: 24884, 5954: 5531, 5955: 22516, 5956: 20595, 5957: 3125, 5958: 5828, 5959: 23767, 5960: 29219, 5961: 33790, 5962: 39926, 5963: 6342, 5964: 37087, 5965: 38487, 5966: 22071, 5967: 42890, 5968: 2369, 5969: 20923, 5970: 40856, 5971: 42307, 5972: 13117, 5973: 28896, 5974: 964, 5975: 28284, 5976: 24969, 5977: 27916, 5978: 30458, 5979: 33669, 5980: 21404, 5981: 32132, 5982: 34966, 5983: 25564, 5984: 22575, 5985: 31358, 5986: 4416, 5987: 28737, 5988: 19790, 5989: 44294, 5990: 32787, 5991: 8337, 5992: 8028, 5993: 2223, 5994: 4715, 5995: 23829, 5996: 27889, 5997: 16538, 5998: 23891, 5999: 774, 6000: 32056, 6001: 27832, 6002: 14572, 6003: 28430, 6004: 17642, 6005: 44552, 6006: 2961, 6007: 28204, 6008: 11906, 6009: 23247, 6010: 38209, 6011: 20345, 6012: 14868, 6013: 41542, 6014: 4795, 6015: 41676, 6016: 4802, 6017: 27492, 6018: 35411, 6019: 35195, 6020: 18196, 6021: 2406, 6022: 908, 6023: 30417, 6024: 22449, 6025: 42096, 6026: 40371, 6027: 7536, 6028: 26401, 6029: 9631, 6030: 4010, 6031: 8248, 6032: 32321, 6033: 38745, 6034: 11647, 6035: 25998, 6036: 40850, 6037: 32046, 6038: 33400, 6039: 26708, 6040: 38957, 6041: 31892, 6042: 8978, 6043: 34384, 6044: 27581, 6045: 35683, 6046: 43688, 6047: 30111, 6048: 35153, 6049: 4673, 6050: 22119, 6051: 4349, 6052: 1554, 6053: 6894, 6054: 13604, 6055: 23467, 6056: 11663, 6057: 29977, 6058: 27597, 6059: 27991, 6060: 11175, 6061: 630, 6062: 23853, 6063: 13971, 6064: 25765, 6065: 1556, 6066: 8345, 6067: 18824, 6068: 11968, 6069: 1884, 6070: 3242, 6071: 34333, 6072: 21926, 6073: 39949, 6074: 7150, 6075: 16345, 6076: 11717, 6077: 38359, 6078: 21049, 6079: 6215, 6080: 37920, 6081: 32988, 6082: 25198, 6083: 30572, 6084: 21191, 6085: 11441, 6086: 15835, 6087: 5390, 6088: 30919, 6089: 34519, 6090: 42749, 6091: 44364, 6092: 8861, 6093: 12070, 6094: 5019, 6095: 41570, 6096: 35028, 6097: 8649, 6098: 4319, 6099: 25438, 6100: 7278, 6101: 30640, 6102: 14864, 6103: 25145, 6104: 18455, 6105: 19361, 6106: 15164, 6107: 14878, 6108: 6749, 6109: 40747, 6110: 9902, 6111: 43122, 6112: 16118, 6113: 41994, 6114: 33880, 6115: 7071, 6116: 33990, 6117: 19315, 6118: 26014, 6119: 878, 6120: 15011, 6121: 43387, 6122: 27699, 6123: 18398, 6124: 41470, 6125: 14296, 6126: 43936, 6127: 2017, 6128: 36971, 6129: 20611, 6130: 16088, 6131: 38150, 6132: 7845, 6133: 7525, 6134: 9932, 6135: 11908, 6136: 1064, 6137: 15106, 6138: 37439, 6139: 11758, 6140: 33215, 6141: 20825, 6142: 8594, 6143: 41990, 6144: 20792, 6145: 11534, 6146: 39081, 6147: 15457, 6148: 29971, 6149: 39431, 6150: 30652, 6151: 26978, 6152: 3346, 6153: 34264, 6154: 35154, 6155: 16387, 6156: 9053, 6157: 30076, 6158: 29803, 6159: 18944, 6160: 40708, 6161: 5179, 6162: 30568, 6163: 36328, 6164: 32092, 6165: 16847, 6166: 22718, 6167: 21934, 6168: 5270, 6169: 18551, 6170: 11459, 6171: 30201, 6172: 11621, 6173: 18404, 6174: 16833, 6175: 6019, 6176: 12109, 6177: 10625, 6178: 5464, 6179: 6077, 6180: 12703, 6181: 5136, 6182: 29004, 6183: 43853, 6184: 34985, 6185: 36794, 6186: 28256, 6187: 10687, 6188: 42619, 6189: 23325, 6190: 33315, 6191: 35734, 6192: 8647, 6193: 33896, 6194: 40752, 6195: 41414, 6196: 13882, 6197: 12432, 6198: 27263, 6199: 12870, 6200: 2521, 6201: 1693, 6202: 16160, 6203: 25259, 6204: 3488, 6205: 29907, 6206: 34418, 6207: 25001, 6208: 41128, 6209: 17814, 6210: 23700, 6211: 25517, 6212: 32797, 6213: 42724, 6214: 26264, 6215: 9692, 6216: 21521, 6217: 8156, 6218: 7492, 6219: 44226, 6220: 19237, 6221: 35693, 6222: 6147, 6223: 1695, 6224: 6640, 6225: 6859, 6226: 44328, 6227: 23493, 6228: 26791, 6229: 18159, 6230: 22508, 6231: 24661, 6232: 10637, 6233: 8687, 6234: 35841, 6235: 42921, 6236: 953, 6237: 23756, 6238: 36952, 6239: 4206, 6240: 6432, 6241: 16114, 6242: 40483, 6243: 15127, 6244: 16227, 6245: 13422, 6246: 41592, 6247: 39033, 6248: 35773, 6249: 9088, 6250: 44464, 6251: 38751, 6252: 13455, 6253: 43584, 6254: 40998, 6255: 14246, 6256: 31184, 6257: 19416, 6258: 40740, 6259: 1466, 6260: 2308, 6261: 35973, 6262: 23145, 6263: 13089, 6264: 6852, 6265: 32671, 6266: 40671, 6267: 13367, 6268: 19379, 6269: 21647, 6270: 22893, 6271: 2173, 6272: 24282, 6273: 3439, 6274: 15672, 6275: 16399, 6276: 32705, 6277: 23871, 6278: 37047, 6279: 6969, 6280: 15304, 6281: 16587, 6282: 9027, 6283: 30342, 6284: 5629, 6285: 7184, 6286: 32582, 6287: 17041, 6288: 2541, 6289: 24534, 6290: 4099, 6291: 2023, 6292: 44514, 6293: 34272, 6294: 41151, 6295: 40347, 6296: 42140, 6297: 33310, 6298: 18791, 6299: 30659, 6300: 7975, 6301: 9342, 6302: 30597, 6303: 38069, 6304: 40477, 6305: 43627, 6306: 12085, 6307: 31739, 6308: 8159, 6309: 2660, 6310: 9927, 6311: 31065, 6312: 17992, 6313: 27429, 6314: 8207, 6315: 19737, 6316: 17121, 6317: 33773, 6318: 39595, 6319: 35540, 6320: 3902, 6321: 2960, 6322: 3427, 6323: 1453, 6324: 12462, 6325: 27362, 6326: 19507, 6327: 6932, 6328: 33591, 6329: 41886, 6330: 31364, 6331: 40882, 6332: 35055, 6333: 28403, 6334: 30792, 6335: 37948, 6336: 267, 6337: 34125, 6338: 10779, 6339: 7506, 6340: 29962, 6341: 39614, 6342: 6180, 6343: 21074, 6344: 34968, 6345: 41550, 6346: 38137, 6347: 28273, 6348: 33760, 6349: 9239, 6350: 16466, 6351: 1782, 6352: 35410, 6353: 9751, 6354: 32292, 6355: 42136, 6356: 9788, 6357: 16764, 6358: 11699, 6359: 41724, 6360: 27718, 6361: 22195, 6362: 38575, 6363: 40910, 6364: 35607, 6365: 28230, 6366: 18578, 6367: 40948, 6368: 21820, 6369: 41337, 6370: 40678, 6371: 10240, 6372: 28620, 6373: 12545, 6374: 34342, 6375: 36789, 6376: 1996, 6377: 44421, 6378: 13520, 6379: 14600, 6380: 39573, 6381: 30979, 6382: 17189, 6383: 3098, 6384: 23658, 6385: 23757, 6386: 36124, 6387: 42528, 6388: 30082, 6389: 14161, 6390: 7901, 6391: 43701, 6392: 27977, 6393: 36126, 6394: 12948, 6395: 25533, 6396: 22381, 6397: 10712, 6398: 2617, 6399: 3560, 6400: 4210, 6401: 4509, 6402: 25752, 6403: 7585, 6404: 32667, 6405: 5320, 6406: 38806, 6407: 2748, 6408: 40286, 6409: 39853, 6410: 31267, 6411: 10813, 6412: 22302, 6413: 43552, 6414: 21284, 6415: 11614, 6416: 41645, 6417: 17278, 6418: 13818, 6419: 10956, 6420: 6974, 6421: 44335, 6422: 5417, 6423: 16679, 6424: 39316, 6425: 19626, 6426: 37096, 6427: 7372, 6428: 35244, 6429: 9498, 6430: 5377, 6431: 17629, 6432: 13859, 6433: 11625, 6434: 23531, 6435: 24970, 6436: 8292, 6437: 26355, 6438: 5603, 6439: 4168, 6440: 35322, 6441: 41067, 6442: 4462, 6443: 8031, 6444: 29912, 6445: 5525, 6446: 35355, 6447: 18597, 6448: 41108, 6449: 14416, 6450: 23156, 6451: 41808, 6452: 8660, 6453: 24951, 6454: 37621, 6455: 30713, 6456: 13478, 6457: 42299, 6458: 14351, 6459: 25018, 6460: 40466, 6461: 38490, 6462: 40345, 6463: 20474, 6464: 16138, 6465: 36242, 6466: 1459, 6467: 27386, 6468: 44167, 6469: 24224, 6470: 29911, 6471: 23792, 6472: 5239, 6473: 31314, 6474: 38969, 6475: 7036, 6476: 18180, 6477: 21089, 6478: 16702, 6479: 32361, 6480: 9800, 6481: 26072, 6482: 28033, 6483: 33443, 6484: 39983, 6485: 30839, 6486: 23260, 6487: 33140, 6488: 2893, 6489: 14072, 6490: 23248, 6491: 38547, 6492: 37822, 6493: 20175, 6494: 23576, 6495: 23002, 6496: 11601, 6497: 21171, 6498: 44469, 6499: 39669, 6500: 14820, 6501: 25735, 6502: 27858, 6503: 32001, 6504: 33378, 6505: 13600, 6506: 34033, 6507: 19342, 6508: 2548, 6509: 26308, 6510: 17931, 6511: 3772, 6512: 4974, 6513: 20431, 6514: 36588, 6515: 24087, 6516: 17515, 6517: 31537, 6518: 33175, 6519: 31741, 6520: 33895, 6521: 10291, 6522: 18222, 6523: 12170, 6524: 4068, 6525: 15057, 6526: 10442, 6527: 22730, 6528: 31235, 6529: 20700, 6530: 19660, 6531: 23808, 6532: 6447, 6533: 37098, 6534: 20017, 6535: 2885, 6536: 32631, 6537: 7396, 6538: 28461, 6539: 34007, 6540: 5674, 6541: 44307, 6542: 32789, 6543: 37200, 6544: 1994, 6545: 24238, 6546: 30968, 6547: 13959, 6548: 10336, 6549: 3682, 6550: 23401, 6551: 2518, 6552: 12050, 6553: 27385, 6554: 5890, 6555: 7608, 6556: 38355, 6557: 19336, 6558: 606, 6559: 17579, 6560: 21175, 6561: 11991, 6562: 684, 6563: 675, 6564: 657, 6565: 18517, 6566: 28243, 6567: 24948, 6568: 43926, 6569: 15708, 6570: 991, 6571: 37625, 6572: 12055, 6573: 563, 6574: 4421, 6575: 5278, 6576: 1461, 6577: 16444, 6578: 28361, 6579: 19739, 6580: 34833, 6581: 11538, 6582: 16242, 6583: 16937, 6584: 8968, 6585: 10036, 6586: 26447, 6587: 37093, 6588: 40167, 6589: 3394, 6590: 42428, 6591: 16210, 6592: 24718, 6593: 3077, 6594: 43544, 6595: 30651, 6596: 16052, 6597: 10914, 6598: 27083, 6599: 42801, 6600: 22372, 6601: 3156, 6602: 16884, 6603: 7106, 6604: 15506, 6605: 4906, 6606: 12956, 6607: 32945, 6608: 43310, 6609: 32157, 6610: 14477, 6611: 20445, 6612: 36208, 6613: 24215, 6614: 35139, 6615: 18161, 6616: 19517, 6617: 38592, 6618: 10122, 6619: 43793, 6620: 37399, 6621: 28476, 6622: 44145, 6623: 19466, 6624: 8588, 6625: 42187, 6626: 40779, 6627: 38513, 6628: 3981, 6629: 28231, 6630: 8969, 6631: 16861, 6632: 27695, 6633: 30078, 6634: 41976, 6635: 21795, 6636: 19015, 6637: 11443, 6638: 14967, 6639: 21354, 6640: 37812, 6641: 3327, 6642: 36797, 6643: 772, 6644: 14642, 6645: 32480, 6646: 9423, 6647: 22719, 6648: 8217, 6649: 23207, 6650: 680, 6651: 32926, 6652: 29053, 6653: 4854, 6654: 41794, 6655: 38481, 6656: 31952, 6657: 5636, 6658: 30365, 6659: 22585, 6660: 39272, 6661: 23314, 6662: 10271, 6663: 2389, 6664: 17352, 6665: 9660, 6666: 34601, 6667: 44506, 6668: 25501, 6669: 3061, 6670: 36056, 6671: 11983, 6672: 34049, 6673: 11088, 6674: 27585, 6675: 28071, 6676: 27507, 6677: 24913, 6678: 43261, 6679: 35179, 6680: 20731, 6681: 34353, 6682: 9118, 6683: 33163, 6684: 9740, 6685: 1368, 6686: 8203, 6687: 20970, 6688: 7689, 6689: 19879, 6690: 37861, 6691: 37670, 6692: 28383, 6693: 20718, 6694: 10277, 6695: 24115, 6696: 30551, 6697: 3602, 6698: 25583, 6699: 20449, 6700: 17720, 6701: 36092, 6702: 27777, 6703: 34346, 6704: 42956, 6705: 29324, 6706: 11580, 6707: 25164, 6708: 18945, 6709: 7187, 6710: 12275, 6711: 20735, 6712: 25055, 6713: 33452, 6714: 36373, 6715: 39320, 6716: 32805, 6717: 5076, 6718: 38314, 6719: 24728, 6720: 4355, 6721: 9227, 6722: 7562, 6723: 2798, 6724: 43320, 6725: 21161, 6726: 24598, 6727: 39631, 6728: 14901, 6729: 38486, 6730: 24822, 6731: 26650, 6732: 9680, 6733: 2047, 6734: 40587, 6735: 18957, 6736: 28592, 6737: 14098, 6738: 1966, 6739: 601, 6740: 11367, 6741: 25861, 6742: 38445, 6743: 30467, 6744: 16773, 6745: 35177, 6746: 44416, 6747: 2121, 6748: 11708, 6749: 10489, 6750: 4892, 6751: 21398, 6752: 42185, 6753: 41048, 6754: 32148, 6755: 13116, 6756: 17876, 6757: 24383, 6758: 11935, 6759: 32334, 6760: 15705, 6761: 1412, 6762: 39720, 6763: 41598, 6764: 36586, 6765: 16396, 6766: 38361, 6767: 39387, 6768: 16669, 6769: 25917, 6770: 17132, 6771: 17818, 6772: 37563, 6773: 32773, 6774: 14046, 6775: 38525, 6776: 2549, 6777: 23334, 6778: 199, 6779: 38139, 6780: 44248, 6781: 4575, 6782: 39497, 6783: 366, 6784: 44331, 6785: 30501, 6786: 12697, 6787: 24450, 6788: 12783, 6789: 35224, 6790: 8811, 6791: 6914, 6792: 32629, 6793: 34572, 6794: 35318, 6795: 13031, 6796: 38888, 6797: 11455, 6798: 27621, 6799: 39494, 6800: 14817, 6801: 12460, 6802: 23805, 6803: 6195, 6804: 41661, 6805: 15886, 6806: 42864, 6807: 13714, 6808: 29345, 6809: 14040, 6810: 10007, 6811: 27728, 6812: 27040, 6813: 14740, 6814: 35645, 6815: 44163, 6816: 42026, 6817: 16808, 6818: 6369, 6819: 31000, 6820: 18510, 6821: 24860, 6822: 18074, 6823: 12797, 6824: 33952, 6825: 16150, 6826: 11687, 6827: 19332, 6828: 28054, 6829: 25447, 6830: 44574, 6831: 22632, 6832: 28034, 6833: 587, 6834: 22475, 6835: 13551, 6836: 20439, 6837: 25124, 6838: 15784, 6839: 33747, 6840: 1251, 6841: 609, 6842: 35368, 6843: 27542, 6844: 26237, 6845: 40992, 6846: 12937, 6847: 28533, 6848: 38341, 6849: 23656, 6850: 22312, 6851: 11476, 6852: 28028, 6853: 25283, 6854: 44482, 6855: 15874, 6856: 13922, 6857: 39249, 6858: 20818, 6859: 29427, 6860: 33659, 6861: 18177, 6862: 39429, 6863: 34900, 6864: 5614, 6865: 11238, 6866: 31973, 6867: 137, 6868: 27724, 6869: 14140, 6870: 5204, 6871: 28656, 6872: 27397, 6873: 17802, 6874: 13212, 6875: 15333, 6876: 40787, 6877: 25011, 6878: 41780, 6879: 24617, 6880: 7675, 6881: 3173, 6882: 37017, 6883: 42605, 6884: 44453, 6885: 31166, 6886: 19943, 6887: 3358, 6888: 10867, 6889: 8541, 6890: 18169, 6891: 43833, 6892: 17358, 6893: 44152, 6894: 6200, 6895: 4185, 6896: 21261, 6897: 33620, 6898: 43207, 6899: 20397, 6900: 21851, 6901: 44440, 6902: 34524, 6903: 10246, 6904: 27944, 6905: 905, 6906: 24837, 6907: 18464, 6908: 12086, 6909: 27454, 6910: 15281, 6911: 298, 6912: 32051, 6913: 36968, 6914: 19650, 6915: 37058, 6916: 7318, 6917: 32178, 6918: 18590, 6919: 18147, 6920: 27380, 6921: 33239, 6922: 39463, 6923: 27005, 6924: 42256, 6925: 3001, 6926: 22595, 6927: 20930, 6928: 13398, 6929: 24033, 6930: 23696, 6931: 42618, 6932: 40218, 6933: 13700, 6934: 641, 6935: 18153, 6936: 36398, 6937: 1468, 6938: 16007, 6939: 18287, 6940: 26564, 6941: 32278, 6942: 14305, 6943: 37800, 6944: 32229, 6945: 33703, 6946: 20679, 6947: 17753, 6948: 26121, 6949: 22971, 6950: 16525, 6951: 2261, 6952: 14710, 6953: 41535, 6954: 33317, 6955: 18633, 6956: 27861, 6957: 18400, 6958: 2907, 6959: 27193, 6960: 12985, 6961: 36630, 6962: 8365, 6963: 38415, 6964: 21033, 6965: 11831, 6966: 40629, 6967: 16735, 6968: 10556, 6969: 22144, 6970: 2452, 6971: 4526, 6972: 41473, 6973: 25062, 6974: 31608, 6975: 4069, 6976: 24986, 6977: 36647, 6978: 3059, 6979: 11322, 6980: 23284, 6981: 28759, 6982: 13680, 6983: 30060, 6984: 33037, 6985: 37755, 6986: 19273, 6987: 16101, 6988: 17616, 6989: 15858, 6990: 28082, 6991: 2935, 6992: 9774, 6993: 13510, 6994: 13764, 6995: 9191, 6996: 17454, 6997: 11458, 6998: 42111, 6999: 31133, 7000: 28915, 7001: 37228, 7002: 15527, 7003: 21413, 7004: 14087, 7005: 40035, 7006: 25592, 7007: 22088, 7008: 44567, 7009: 707, 7010: 23865, 7011: 20581, 7012: 3237, 7013: 4217, 7014: 24194, 7015: 20015, 7016: 349, 7017: 33335, 7018: 20364, 7019: 22556, 7020: 28883, 7021: 26670, 7022: 5744, 7023: 8577, 7024: 16615, 7025: 31924, 7026: 24242, 7027: 23755, 7028: 6621, 7029: 36926, 7030: 6103, 7031: 11147, 7032: 9438, 7033: 39952, 7034: 21863, 7035: 6654, 7036: 17026, 7037: 4268, 7038: 35386, 7039: 22678, 7040: 5193, 7041: 21086, 7042: 5550, 7043: 30927, 7044: 20334, 7045: 2996, 7046: 15254, 7047: 12126, 7048: 13515, 7049: 37081, 7050: 18237, 7051: 40293, 7052: 12732, 7053: 24147, 7054: 4043, 7055: 2347, 7056: 16987, 7057: 40670, 7058: 42746, 7059: 38425, 7060: 24258, 7061: 12336, 7062: 21482, 7063: 31211, 7064: 629, 7065: 14784, 7066: 11399, 7067: 29956, 7068: 4627, 7069: 28130, 7070: 38457, 7071: 18826, 7072: 42564, 7073: 2338, 7074: 41071, 7075: 13426, 7076: 12000, 7077: 20127, 7078: 2616, 7079: 789, 7080: 3832, 7081: 8701, 7082: 3699, 7083: 18855, 7084: 41723, 7085: 9947, 7086: 15306, 7087: 10208, 7088: 6089, 7089: 43583, 7090: 38380, 7091: 20402, 7092: 4487, 7093: 42623, 7094: 43039, 7095: 33329, 7096: 24682, 7097: 26778, 7098: 40685, 7099: 31832, 7100: 23419, 7101: 5670, 7102: 8260, 7103: 2511, 7104: 25014, 7105: 12260, 7106: 19489, 7107: 18402, 7108: 34681, 7109: 16404, 7110: 4914, 7111: 31406, 7112: 20049, 7113: 30230, 7114: 8716, 7115: 3032, 7116: 34987, 7117: 23295, 7118: 1470, 7119: 8971, 7120: 20102, 7121: 36947, 7122: 4143, 7123: 31488, 7124: 39490, 7125: 29983, 7126: 40165, 7127: 34678, 7128: 33974, 7129: 27476, 7130: 42231, 7131: 22090, 7132: 244, 7133: 29619, 7134: 13576, 7135: 33441, 7136: 30975, 7137: 14452, 7138: 6396, 7139: 90, 7140: 23250, 7141: 31460, 7142: 3392, 7143: 33312, 7144: 43094, 7145: 39187, 7146: 22401, 7147: 34449, 7148: 26388, 7149: 38968, 7150: 15576, 7151: 32581, 7152: 3912, 7153: 15033, 7154: 10224, 7155: 24883, 7156: 14410, 7157: 26642, 7158: 35157, 7159: 34668, 7160: 41416, 7161: 25227, 7162: 10270, 7163: 39608, 7164: 12329, 7165: 24532, 7166: 21338, 7167: 35598, 7168: 36240, 7169: 30359, 7170: 33792, 7171: 5330, 7172: 8860, 7173: 11760, 7174: 36285, 7175: 43191, 7176: 23433, 7177: 12017, 7178: 15260, 7179: 8402, 7180: 17368, 7181: 5954, 7182: 37329, 7183: 35437, 7184: 31692, 7185: 9574, 7186: 20538, 7187: 11018, 7188: 4085, 7189: 23772, 7190: 41500, 7191: 44405, 7192: 23680, 7193: 4352, 7194: 33416, 7195: 6306, 7196: 39908, 7197: 19594, 7198: 34186, 7199: 15862, 7200: 40137, 7201: 31042, 7202: 39347, 7203: 10283, 7204: 28939, 7205: 15348, 7206: 23509, 7207: 9606, 7208: 28445, 7209: 31173, 7210: 29841, 7211: 37411, 7212: 13660, 7213: 30068, 7214: 36458, 7215: 9712, 7216: 26088, 7217: 7495, 7218: 32409, 7219: 9994, 7220: 17289, 7221: 20625, 7222: 42449, 7223: 26154, 7224: 720, 7225: 26895, 7226: 35990, 7227: 23695, 7228: 41812, 7229: 303, 7230: 22843, 7231: 33155, 7232: 21007, 7233: 3361, 7234: 35563, 7235: 14235, 7236: 9481, 7237: 17101, 7238: 18038, 7239: 13135, 7240: 6595, 7241: 32429, 7242: 28294, 7243: 9899, 7244: 43366, 7245: 994, 7246: 10793, 7247: 26823, 7248: 14364, 7249: 15689, 7250: 39508, 7251: 14819, 7252: 26934, 7253: 10402, 7254: 39304, 7255: 7089, 7256: 44084, 7257: 2992, 7258: 35429, 7259: 35103, 7260: 24874, 7261: 14560, 7262: 29472, 7263: 31379, 7264: 11437, 7265: 19791, 7266: 44379, 7267: 16308, 7268: 41517, 7269: 33063, 7270: 5745, 7271: 1101, 7272: 19283, 7273: 27732, 7274: 29160, 7275: 33119, 7276: 14693, 7277: 24557, 7278: 12084, 7279: 25542, 7280: 24895, 7281: 503, 7282: 31471, 7283: 40336, 7284: 38840, 7285: 34637, 7286: 16752, 7287: 28442, 7288: 3274, 7289: 41519, 7290: 43916, 7291: 20205, 7292: 19318, 7293: 6750, 7294: 6711, 7295: 33997, 7296: 2943, 7297: 3029, 7298: 2757, 7299: 17739, 7300: 19272, 7301: 13151, 7302: 8231, 7303: 37748, 7304: 11446, 7305: 27848, 7306: 34660, 7307: 24226, 7308: 11085, 7309: 12384, 7310: 17597, 7311: 43419, 7312: 39889, 7313: 43252, 7314: 39539, 7315: 33485, 7316: 36716, 7317: 11279, 7318: 39852, 7319: 31758, 7320: 33006, 7321: 44569, 7322: 2577, 7323: 13121, 7324: 17036, 7325: 25772, 7326: 20951, 7327: 21942, 7328: 42624, 7329: 9189, 7330: 25489, 7331: 17174, 7332: 38598, 7333: 12911, 7334: 23425, 7335: 5758, 7336: 21474, 7337: 7217, 7338: 13797, 7339: 1165, 7340: 40515, 7341: 6809, 7342: 37951, 7343: 19095, 7344: 22975, 7345: 6388, 7346: 2232, 7347: 20756, 7348: 38817, 7349: 19813, 7350: 12726, 7351: 3005, 7352: 17632, 7353: 1088, 7354: 176, 7355: 19582, 7356: 41192, 7357: 41076, 7358: 21833, 7359: 2787, 7360: 2192, 7361: 42741, 7362: 41741, 7363: 29280, 7364: 6571, 7365: 19634, 7366: 28225, 7367: 43356, 7368: 11067, 7369: 43475, 7370: 3158, 7371: 34901, 7372: 20821, 7373: 40834, 7374: 31060, 7375: 38483, 7376: 10527, 7377: 14636, 7378: 17831, 7379: 7934, 7380: 20579, 7381: 42118, 7382: 16898, 7383: 43173, 7384: 6930, 7385: 10026, 7386: 42418, 7387: 10945, 7388: 40768, 7389: 2524, 7390: 42906, 7391: 10209, 7392: 22023, 7393: 32096, 7394: 19708, 7395: 15879, 7396: 33138, 7397: 43987, 7398: 21967, 7399: 17348, 7400: 13634, 7401: 39805, 7402: 11222, 7403: 17406, 7404: 36936, 7405: 41284, 7406: 28510, 7407: 6456, 7408: 2394, 7409: 22025, 7410: 44560, 7411: 41850, 7412: 40877, 7413: 521, 7414: 32782, 7415: 11977, 7416: 18906, 7417: 43423, 7418: 22158, 7419: 12873, 7420: 43449, 7421: 10582, 7422: 17612, 7423: 10160, 7424: 13826, 7425: 13475, 7426: 8956, 7427: 11850, 7428: 35821, 7429: 22961, 7430: 17337, 7431: 15593, 7432: 42963, 7433: 791, 7434: 23947, 7435: 23799, 7436: 13951, 7437: 36764, 7438: 26831, 7439: 36306, 7440: 4558, 7441: 26888, 7442: 15706, 7443: 2302, 7444: 4658, 7445: 39514, 7446: 1062, 7447: 5166, 7448: 8939, 7449: 13536, 7450: 4724, 7451: 15578, 7452: 14658, 7453: 3190, 7454: 40714, 7455: 39859, 7456: 7050, 7457: 42465, 7458: 10339, 7459: 12154, 7460: 26412, 7461: 37475, 7462: 21993, 7463: 12145, 7464: 12012, 7465: 44394, 7466: 27433, 7467: 21188, 7468: 6972, 7469: 40429, 7470: 28933, 7471: 35272, 7472: 25549, 7473: 311, 7474: 37154, 7475: 21383, 7476: 39668, 7477: 31475, 7478: 17443, 7479: 13711, 7480: 14865, 7481: 21894, 7482: 30588, 7483: 20423, 7484: 33548, 7485: 40203, 7486: 43028, 7487: 44148, 7488: 11810, 7489: 15995, 7490: 41859, 7491: 25429, 7492: 28661, 7493: 41387, 7494: 31325, 7495: 17798, 7496: 42301, 7497: 21772, 7498: 16688, 7499: 12422, 7500: 32487, 7501: 13721, 7502: 15743, 7503: 11921, 7504: 35240, 7505: 37771, 7506: 27517, 7507: 11380, 7508: 3495, 7509: 24421, 7510: 18574, 7511: 7841, 7512: 6927, 7513: 25680, 7514: 43774, 7515: 7065, 7516: 8450, 7517: 2035, 7518: 17577, 7519: 27711, 7520: 31864, 7521: 30287, 7522: 18250, 7523: 5502, 7524: 16513, 7525: 32875, 7526: 18355, 7527: 10075, 7528: 31553, 7529: 31857, 7530: 26654, 7531: 32437, 7532: 39606, 7533: 35469, 7534: 30625, 7535: 35473, 7536: 28325, 7537: 35983, 7538: 6092, 7539: 20501, 7540: 6311, 7541: 36440, 7542: 16063, 7543: 31310, 7544: 43019, 7545: 586, 7546: 31334, 7547: 24004, 7548: 39957, 7549: 39248, 7550: 35667, 7551: 12030, 7552: 23606, 7553: 8707, 7554: 21586, 7555: 15030, 7556: 25388, 7557: 31159, 7558: 41436, 7559: 42736, 7560: 33084, 7561: 31260, 7562: 5697, 7563: 16700, 7564: 27174, 7565: 20505, 7566: 43914, 7567: 43712, 7568: 282, 7569: 2539, 7570: 8592, 7571: 41333, 7572: 1702, 7573: 25913, 7574: 23320, 7575: 20146, 7576: 40130, 7577: 26276, 7578: 38084, 7579: 22060, 7580: 25612, 7581: 4048, 7582: 30484, 7583: 35584, 7584: 7376, 7585: 4233, 7586: 38025, 7587: 18309, 7588: 4483, 7589: 20643, 7590: 19921, 7591: 33172, 7592: 33439, 7593: 10490, 7594: 20301, 7595: 33246, 7596: 29071, 7597: 12690, 7598: 27390, 7599: 10765, 7600: 11986, 7601: 3039, 7602: 11593, 7603: 14285, 7604: 39046, 7605: 41829, 7606: 7227, 7607: 18261, 7608: 100, 7609: 25199, 7610: 29848, 7611: 9915, 7612: 3917, 7613: 31814, 7614: 20508, 7615: 26645, 7616: 2546, 7617: 8319, 7618: 28429, 7619: 5867, 7620: 12032, 7621: 10463, 7622: 26977, 7623: 40656, 7624: 3270, 7625: 35774, 7626: 2398, 7627: 39890, 7628: 22222, 7629: 14523, 7630: 30663, 7631: 4536, 7632: 10841, 7633: 17988, 7634: 24181, 7635: 8550, 7636: 25065, 7637: 26259, 7638: 38820, 7639: 38770, 7640: 22207, 7641: 31291, 7642: 38435, 7643: 28357, 7644: 40461, 7645: 29837, 7646: 9470, 7647: 31834, 7648: 25077, 7649: 29747, 7650: 22308, 7651: 40430, 7652: 2839, 7653: 26956, 7654: 31733, 7655: 40370, 7656: 17395, 7657: 30246, 7658: 19970, 7659: 8837, 7660: 35752, 7661: 24338, 7662: 31403, 7663: 9274, 7664: 40812, 7665: 17715, 7666: 10156, 7667: 26012, 7668: 41441, 7669: 20635, 7670: 40908, 7671: 16239, 7672: 7314, 7673: 42756, 7674: 30363, 7675: 30935, 7676: 26433, 7677: 12620, 7678: 39583, 7679: 42380, 7680: 9022, 7681: 14441, 7682: 17520, 7683: 1346, 7684: 24228, 7685: 32706, 7686: 24459, 7687: 22212, 7688: 12158, 7689: 28385, 7690: 2714, 7691: 25647, 7692: 22966, 7693: 32387, 7694: 8785, 7695: 21275, 7696: 43076, 7697: 24099, 7698: 39383, 7699: 35722, 7700: 7475, 7701: 35887, 7702: 25404, 7703: 32448, 7704: 36948, 7705: 2331, 7706: 13073, 7707: 20306, 7708: 35936, 7709: 39994, 7710: 30765, 7711: 6012, 7712: 35950, 7713: 9174, 7714: 38042, 7715: 18103, 7716: 28988, 7717: 42066, 7718: 34257, 7719: 3452, 7720: 43808, 7721: 12742, 7722: 39929, 7723: 3676, 7724: 12474, 7725: 43397, 7726: 15500, 7727: 5394, 7728: 17775, 7729: 19298, 7730: 14737, 7731: 32075, 7732: 2587, 7733: 18959, 7734: 11659, 7735: 42889, 7736: 23358, 7737: 29785, 7738: 38730, 7739: 19183, 7740: 2237, 7741: 31963, 7742: 42959, 7743: 25914, 7744: 27107, 7745: 32489, 7746: 33516, 7747: 39370, 7748: 42453, 7749: 39159, 7750: 29739, 7751: 4163, 7752: 28511, 7753: 7747, 7754: 5187, 7755: 28527, 7756: 3338, 7757: 19871, 7758: 27612, 7759: 10493, 7760: 42968, 7761: 16636, 7762: 13361, 7763: 41680, 7764: 35187, 7765: 7529, 7766: 12574, 7767: 5805, 7768: 2767, 7769: 27218, 7770: 18677, 7771: 28495, 7772: 37236, 7773: 36704, 7774: 44186, 7775: 32131, 7776: 50, 7777: 188, 7778: 18986, 7779: 2432, 7780: 5045, 7781: 16168, 7782: 19920, 7783: 17227, 7784: 32033, 7785: 8506, 7786: 30371, 7787: 41655, 7788: 32383, 7789: 34477, 7790: 41465, 7791: 25932, 7792: 4385, 7793: 5210, 7794: 35994, 7795: 41028, 7796: 38122, 7797: 220, 7798: 25575, 7799: 15779, 7800: 32440, 7801: 42048, 7802: 18088, 7803: 31268, 7804: 12845, 7805: 29931, 7806: 9551, 7807: 35792, 7808: 43011, 7809: 37248, 7810: 37542, 7811: 43775, 7812: 25808, 7813: 29044, 7814: 4919, 7815: 13446, 7816: 10504, 7817: 42022, 7818: 16658, 7819: 1328, 7820: 14594, 7821: 27599, 7822: 15371, 7823: 39124, 7824: 32212, 7825: 4281, 7826: 5247, 7827: 8486, 7828: 1110, 7829: 39127, 7830: 2593, 7831: 10834, 7832: 32686, 7833: 11171, 7834: 7954, 7835: 33778, 7836: 16906, 7837: 30695, 7838: 27261, 7839: 38633, 7840: 40766, 7841: 28097, 7842: 8073, 7843: 36725, 7844: 8705, 7845: 26056, 7846: 10557, 7847: 34150, 7848: 32820, 7849: 4007, 7850: 8282, 7851: 13884, 7852: 24547, 7853: 43123, 7854: 35702, 7855: 2075, 7856: 24685, 7857: 9186, 7858: 5150, 7859: 20846, 7860: 26817, 7861: 37745, 7862: 5853, 7863: 29549, 7864: 36247, 7865: 9441, 7866: 23060, 7867: 18151, 7868: 12640, 7869: 10885, 7870: 19503, 7871: 12291, 7872: 32113, 7873: 21130, 7874: 13982, 7875: 34768, 7876: 12247, 7877: 28652, 7878: 40621, 7879: 42993, 7880: 35438, 7881: 35592, 7882: 41988, 7883: 15078, 7884: 25023, 7885: 25439, 7886: 27853, 7887: 39822, 7888: 25153, 7889: 10364, 7890: 24605, 7891: 42806, 7892: 9291, 7893: 8998, 7894: 19365, 7895: 11611, 7896: 17900, 7897: 2030, 7898: 20089, 7899: 20954, 7900: 3413, 7901: 41999, 7902: 15064, 7903: 22701, 7904: 4340, 7905: 9229, 7906: 24438, 7907: 23321, 7908: 35758, 7909: 6816, 7910: 6753, 7911: 5881, 7912: 15648, 7913: 38518, 7914: 43241, 7915: 8992, 7916: 19396, 7917: 18788, 7918: 33421, 7919: 8846, 7920: 14890, 7921: 25726, 7922: 5468, 7923: 35740, 7924: 5712, 7925: 15479, 7926: 43849, 7927: 20442, 7928: 43571, 7929: 24574, 7930: 19265, 7931: 35839, 7932: 8069, 7933: 6802, 7934: 42990, 7935: 43437, 7936: 27544, 7937: 27135, 7938: 15195, 7939: 14218, 7940: 26129, 7941: 32156, 7942: 28106, 7943: 15537, 7944: 9737, 7945: 17484, 7946: 27254, 7947: 15698, 7948: 4812, 7949: 43186, 7950: 17620, 7951: 32281, 7952: 7555, 7953: 1060, 7954: 6232, 7955: 1231, 7956: 21684, 7957: 6338, 7958: 16633, 7959: 7359, 7960: 15497, 7961: 12383, 7962: 27152, 7963: 35227, 7964: 39792, 7965: 16257, 7966: 19062, 7967: 2275, 7968: 10958, 7969: 25047, 7970: 25468, 7971: 4762, 7972: 5686, 7973: 39699, 7974: 31898, 7975: 34937, 7976: 30542, 7977: 21254, 7978: 37281, 7979: 9917, 7980: 39816, 7981: 20884, 7982: 28996, 7983: 21570, 7984: 33746, 7985: 42506, 7986: 30558, 7987: 1755, 7988: 7794, 7989: 25627, 7990: 28421, 7991: 34991, 7992: 16407, 7993: 13643, 7994: 19500, 7995: 1518, 7996: 22460, 7997: 13933, 7998: 24690, 7999: 9098, 8000: 10308, 8001: 25706, 8002: 841, 8003: 29234, 8004: 33534, 8005: 39237, 8006: 12375, 8007: 42489, 8008: 6759, 8009: 38830, 8010: 30438, 8011: 40020, 8012: 23127, 8013: 40658, 8014: 30475, 8015: 33810, 8016: 24133, 8017: 43881, 8018: 22927, 8019: 5535, 8020: 31180, 8021: 11549, 8022: 14279, 8023: 23992, 8024: 21719, 8025: 21062, 8026: 35995, 8027: 5767, 8028: 16328, 8029: 39776, 8030: 14474, 8031: 13229, 8032: 34069, 8033: 40816, 8034: 12816, 8035: 32679, 8036: 19250, 8037: 3842, 8038: 17349, 8039: 7760, 8040: 4429, 8041: 30245, 8042: 35218, 8043: 43812, 8044: 39181, 8045: 13860, 8046: 8185, 8047: 26661, 8048: 3988, 8049: 37133, 8050: 43677, 8051: 43764, 8052: 20820, 8053: 37977, 8054: 18979, 8055: 33846, 8056: 41139, 8057: 42886, 8058: 24154, 8059: 17755, 8060: 20943, 8061: 37057, 8062: 24347, 8063: 7633, 8064: 20551, 8065: 37583, 8066: 11479, 8067: 39504, 8068: 42625, 8069: 40471, 8070: 29774, 8071: 11688, 8072: 35298, 8073: 31116, 8074: 22579, 8075: 11573, 8076: 11976, 8077: 34039, 8078: 4924, 8079: 39195, 8080: 9675, 8081: 24870, 8082: 26061, 8083: 32300, 8084: 41769, 8085: 36099, 8086: 37674, 8087: 21094, 8088: 15460, 8089: 37726, 8090: 34929, 8091: 13968, 8092: 34783, 8093: 31351, 8094: 31797, 8095: 39411, 8096: 11610, 8097: 43589, 8098: 42373, 8099: 33965, 8100: 31274, 8101: 36550, 8102: 14501, 8103: 43345, 8104: 38208, 8105: 167, 8106: 19743, 8107: 29300, 8108: 31510, 8109: 24807, 8110: 7241, 8111: 5235, 8112: 8793, 8113: 17330, 8114: 32143, 8115: 19536, 8116: 25392, 8117: 13185, 8118: 14822, 8119: 9366, 8120: 41952, 8121: 18030, 8122: 34852, 8123: 32583, 8124: 42554, 8125: 2998, 8126: 34096, 8127: 14919, 8128: 26032, 8129: 13578, 8130: 30829, 8131: 22284, 8132: 30293, 8133: 27934, 8134: 10401, 8135: 28867, 8136: 23484, 8137: 2367, 8138: 9070, 8139: 14802, 8140: 19624, 8141: 43535, 8142: 43559, 8143: 34538, 8144: 17188, 8145: 15838, 8146: 7322, 8147: 15394, 8148: 9075, 8149: 6755, 8150: 35440, 8151: 24142, 8152: 34527, 8153: 44487, 8154: 17599, 8155: 32240, 8156: 36225, 8157: 10751, 8158: 19950, 8159: 31241, 8160: 30006, 8161: 22780, 8162: 5344, 8163: 17639, 8164: 7264, 8165: 29022, 8166: 32425, 8167: 14999, 8168: 30772, 8169: 12395, 8170: 41685, 8171: 29733, 8172: 721, 8173: 34722, 8174: 25138, 8175: 11836, 8176: 18245, 8177: 35797, 8178: 29276, 8179: 38300, 8180: 20410, 8181: 21181, 8182: 29797, 8183: 17408, 8184: 13330, 8185: 41894, 8186: 26805, 8187: 30941, 8188: 40556, 8189: 21535, 8190: 16393, 8191: 11210, 8192: 3532, 8193: 19310, 8194: 42773, 8195: 10693, 8196: 3716, 8197: 35233, 8198: 2420, 8199: 1721, 8200: 29745, 8201: 33885, 8202: 7611, 8203: 27432, 8204: 34719, 8205: 39154, 8206: 3715, 8207: 16540, 8208: 34189, 8209: 33711, 8210: 42669, 8211: 21753, 8212: 12847, 8213: 31419, 8214: 27634, 8215: 40111, 8216: 39265, 8217: 26946, 8218: 13451, 8219: 24662, 8220: 34728, 8221: 40641, 8222: 15826, 8223: 32822, 8224: 20003, 8225: 17058, 8226: 23489, 8227: 4674, 8228: 31122, 8229: 29727, 8230: 14757, 8231: 40806, 8232: 25456, 8233: 36121, 8234: 36585, 8235: 3855, 8236: 22741, 8237: 10588, 8238: 16167, 8239: 23511, 8240: 29783, 8241: 26188, 8242: 40104, 8243: 32703, 8244: 21162, 8245: 12069, 8246: 1244, 8247: 41485, 8248: 9439, 8249: 23222, 8250: 7154, 8251: 35078, 8252: 18332, 8253: 8920, 8254: 41551, 8255: 23669, 8256: 3456, 8257: 8976, 8258: 11319, 8259: 24765, 8260: 39911, 8261: 4049, 8262: 4070, 8263: 18963, 8264: 19815, 8265: 41315, 8266: 12963, 8267: 34621, 8268: 44153, 8269: 17833, 8270: 39967, 8271: 41299, 8272: 13276, 8273: 44309, 8274: 12828, 8275: 13205, 8276: 35022, 8277: 17763, 8278: 20565, 8279: 43565, 8280: 24793, 8281: 41397, 8282: 4394, 8283: 9540, 8284: 10247, 8285: 21712, 8286: 18329, 8287: 35694, 8288: 42035, 8289: 1269, 8290: 22323, 8291: 9270, 8292: 34736, 8293: 23558, 8294: 15362, 8295: 27486, 8296: 8123, 8297: 4454, 8298: 23763, 8299: 43907, 8300: 17902, 8301: 24611, 8302: 10102, 8303: 10703, 8304: 16133, 8305: 7266, 8306: 41522, 8307: 6010, 8308: 21399, 8309: 22592, 8310: 14586, 8311: 31284, 8312: 40009, 8313: 19824, 8314: 14621, 8315: 4612, 8316: 41992, 8317: 18228, 8318: 5854, 8319: 9560, 8320: 29759, 8321: 17635, 8322: 21332, 8323: 21515, 8324: 8048, 8325: 30083, 8326: 14804, 8327: 31926, 8328: 10260, 8329: 21343, 8330: 33095, 8331: 4799, 8332: 5735, 8333: 23914, 8334: 39511, 8335: 353, 8336: 35547, 8337: 33519, 8338: 38583, 8339: 16899, 8340: 19689, 8341: 21355, 8342: 7444, 8343: 6940, 8344: 4221, 8345: 41803, 8346: 22433, 8347: 38441, 8348: 19535, 8349: 22621, 8350: 28570, 8351: 756, 8352: 32628, 8353: 6495, 8354: 37175, 8355: 17595, 8356: 39910, 8357: 8377, 8358: 11294, 8359: 21824, 8360: 16682, 8361: 16020, 8362: 38666, 8363: 8954, 8364: 30055, 8365: 6561, 8366: 929, 8367: 39577, 8368: 30573, 8369: 38345, 8370: 36014, 8371: 29445, 8372: 4534, 8373: 14068, 8374: 32716, 8375: 18375, 8376: 14018, 8377: 13645, 8378: 10361, 8379: 26521, 8380: 25553, 8381: 16225, 8382: 6900, 8383: 19216, 8384: 43253, 8385: 1402, 8386: 38721, 8387: 21029, 8388: 25670, 8389: 12829, 8390: 252, 8391: 12728, 8392: 36895, 8393: 8694, 8394: 8218, 8395: 21201, 8396: 23130, 8397: 38764, 8398: 22200, 8399: 11491, 8400: 31135, 8401: 13067, 8402: 20730, 8403: 31807, 8404: 14466, 8405: 18916, 8406: 33331, 8407: 13079, 8408: 5916, 8409: 3260, 8410: 36601, 8411: 17444, 8412: 5257, 8413: 7234, 8414: 12621, 8415: 30090, 8416: 25252, 8417: 23084, 8418: 39966, 8419: 42429, 8420: 8753, 8421: 28829, 8422: 30527, 8423: 43733, 8424: 17662, 8425: 3529, 8426: 35242, 8427: 30749, 8428: 39750, 8429: 39410, 8430: 1850, 8431: 9570, 8432: 22197, 8433: 14816, 8434: 1833, 8435: 35526, 8436: 23969, 8437: 7896, 8438: 19400, 8439: 41528, 8440: 13844, 8441: 18233, 8442: 27553, 8443: 21999, 8444: 39459, 8445: 38028, 8446: 21585, 8447: 36246, 8448: 15568, 8449: 23058, 8450: 13611, 8451: 36690, 8452: 16477, 8453: 23587, 8454: 34365, 8455: 29944, 8456: 12175, 8457: 27575, 8458: 12371, 8459: 14460, 8460: 827, 8461: 13161, 8462: 38786, 8463: 43861, 8464: 19730, 8465: 25301, 8466: 37197, 8467: 688, 8468: 34030, 8469: 30451, 8470: 19138, 8471: 2740, 8472: 3856, 8473: 31443, 8474: 40978, 8475: 42822, 8476: 42213, 8477: 2430, 8478: 13254, 8479: 27072, 8480: 38058, 8481: 30326, 8482: 26651, 8483: 35837, 8484: 17698, 8485: 25556, 8486: 10876, 8487: 6957, 8488: 15547, 8489: 29049, 8490: 24644, 8491: 26498, 8492: 25337, 8493: 35119, 8494: 14266, 8495: 35713, 8496: 24231, 8497: 12704, 8498: 38138, 8499: 20303, 8500: 9611, 8501: 23095, 8502: 390, 8503: 39293, 8504: 5163, 8505: 37557, 8506: 34119, 8507: 41370, 8508: 26911, 8509: 16868, 8510: 37100, 8511: 8237, 8512: 36665, 8513: 17574, 8514: 1928, 8515: 32008, 8516: 32715, 8517: 5747, 8518: 24786, 8519: 18345, 8520: 11061, 8521: 42586, 8522: 10452, 8523: 38674, 8524: 42675, 8525: 20702, 8526: 18207, 8527: 1630, 8528: 5796, 8529: 179, 8530: 35615, 8531: 20829, 8532: 13731, 8533: 31365, 8534: 10994, 8535: 15264, 8536: 9738, 8537: 20409, 8538: 4193, 8539: 28651, 8540: 5479, 8541: 16269, 8542: 26439, 8543: 41366, 8544: 120, 8545: 38694, 8546: 413, 8547: 41799, 8548: 670, 8549: 29787, 8550: 22963, 8551: 37366, 8552: 28556, 8553: 20033, 8554: 35717, 8555: 12834, 8556: 18122, 8557: 40922, 8558: 18547, 8559: 30012, 8560: 35543, 8561: 516, 8562: 33958, 8563: 10951, 8564: 17952, 8565: 40936, 8566: 19579, 8567: 209, 8568: 17373, 8569: 6599, 8570: 34051, 8571: 29232, 8572: 21987, 8573: 20854, 8574: 34405, 8575: 30039, 8576: 2930, 8577: 20269, 8578: 15757, 8579: 28026, 8580: 29572, 8581: 37868, 8582: 34635, 8583: 6268, 8584: 26435, 8585: 42504, 8586: 9855, 8587: 42012, 8588: 3688, 8589: 21808, 8590: 18232, 8591: 13328, 8592: 37915, 8593: 4052, 8594: 33732, 8595: 41913, 8596: 23597, 8597: 41619, 8598: 8827, 8599: 19765, 8600: 9621, 8601: 23115, 8602: 44303, 8603: 2212, 8604: 11909, 8605: 15541, 8606: 25007, 8607: 43956, 8608: 34181, 8609: 12355, 8610: 28834, 8611: 10072, 8612: 5786, 8613: 8507, 8614: 35996, 8615: 944, 8616: 23540, 8617: 23618, 8618: 32108, 8619: 40258, 8620: 21837, 8621: 17334, 8622: 12302, 8623: 9277, 8624: 42834, 8625: 18354, 8626: 9210, 8627: 8349, 8628: 33410, 8629: 20723, 8630: 40269, 8631: 26095, 8632: 22936, 8633: 11145, 8634: 6527, 8635: 6320, 8636: 21989, 8637: 223, 8638: 2044, 8639: 28287, 8640: 34079, 8641: 8077, 8642: 21511, 8643: 41688, 8644: 13529, 8645: 11142, 8646: 11422, 8647: 1314, 8648: 25992, 8649: 13351, 8650: 20420, 8651: 35685, 8652: 14115, 8653: 1417, 8654: 34887, 8655: 8130, 8656: 22825, 8657: 28891, 8658: 3656, 8659: 11044, 8660: 44070, 8661: 33051, 8662: 38934, 8663: 27472, 8664: 41715, 8665: 24139, 8666: 30609, 8667: 12578, 8668: 13891, 8669: 12706, 8670: 36964, 8671: 13527, 8672: 20962, 8673: 40135, 8674: 17972, 8675: 5658, 8676: 14449, 8677: 42117, 8678: 43809, 8679: 18660, 8680: 35649, 8681: 7134, 8682: 23004, 8683: 27595, 8684: 23539, 8685: 281, 8686: 36340, 8687: 16826, 8688: 6557, 8689: 8223, 8690: 1517, 8691: 39430, 8692: 35512, 8693: 42113, 8694: 21287, 8695: 2106, 8696: 29737, 8697: 29069, 8698: 7120, 8699: 21045, 8700: 43263, 8701: 12427, 8702: 42679, 8703: 44034, 8704: 19817, 8705: 39158, 8706: 44287, 8707: 9057, 8708: 21842, 8709: 39749, 8710: 43277, 8711: 40326, 8712: 34582, 8713: 5992, 8714: 4112, 8715: 32510, 8716: 35310, 8717: 29802, 8718: 37454, 8719: 25789, 8720: 10325, 8721: 888, 8722: 25242, 8723: 15793, 8724: 7614, 8725: 34960, 8726: 20934, 8727: 12747, 8728: 3203, 8729: 18745, 8730: 17421, 8731: 1974, 8732: 14651, 8733: 37127, 8734: 12761, 8735: 30264, 8736: 40849, 8737: 33230, 8738: 5271, 8739: 15097, 8740: 6812, 8741: 20042, 8742: 42131, 8743: 43806, 8744: 2257, 8745: 22990, 8746: 18463, 8747: 23449, 8748: 18387, 8749: 11851, 8750: 34065, 8751: 23707, 8752: 44374, 8753: 42495, 8754: 16395, 8755: 41663, 8756: 39710, 8757: 582, 8758: 36695, 8759: 38098, 8760: 12879, 8761: 30376, 8762: 38453, 8763: 2271, 8764: 36455, 8765: 15008, 8766: 43008, 8767: 15298, 8768: 3513, 8769: 32215, 8770: 36169, 8771: 2634, 8772: 6981, 8773: 27652, 8774: 42032, 8775: 41969, 8776: 27004, 8777: 13673, 8778: 5365, 8779: 16365, 8780: 31084, 8781: 39634, 8782: 38618, 8783: 183, 8784: 15005, 8785: 35307, 8786: 41599, 8787: 34845, 8788: 17617, 8789: 23302, 8790: 16460, 8791: 4979, 8792: 40748, 8793: 9226, 8794: 9371, 8795: 37770, 8796: 34626, 8797: 21098, 8798: 38090, 8799: 42708, 8800: 21922, 8801: 38134, 8802: 20519, 8803: 21296, 8804: 11378, 8805: 18893, 8806: 18496, 8807: 40425, 8808: 485, 8809: 3137, 8810: 29767, 8811: 15905, 8812: 43045, 8813: 31664, 8814: 22648, 8815: 18488, 8816: 27080, 8817: 37178, 8818: 15166, 8819: 5695, 8820: 33316, 8821: 3384, 8822: 2664, 8823: 15820, 8824: 34785, 8825: 25312, 8826: 43550, 8827: 544, 8828: 39872, 8829: 3054, 8830: 29430, 8831: 34695, 8832: 27502, 8833: 13457, 8834: 32303, 8835: 26573, 8836: 40211, 8837: 36599, 8838: 7567, 8839: 16475, 8840: 27659, 8841: 40387, 8842: 11138, 8843: 28752, 8844: 34554, 8845: 29883, 8846: 27046, 8847: 8166, 8848: 15436, 8849: 31523, 8850: 31968, 8851: 18247, 8852: 920, 8853: 12505, 8854: 7996, 8855: 2291, 8856: 1788, 8857: 35763, 8858: 19431, 8859: 25847, 8860: 6022, 8861: 18750, 8862: 31793, 8863: 23538, 8864: 12473, 8865: 36973, 8866: 44545, 8867: 18487, 8868: 29281, 8869: 15848, 8870: 23927, 8871: 35750, 8872: 6199, 8873: 35163, 8874: 924, 8875: 38544, 8876: 32756, 8877: 35166, 8878: 26081, 8879: 31542, 8880: 14361, 8881: 13862, 8882: 16694, 8883: 37339, 8884: 35953, 8885: 42188, 8886: 2950, 8887: 599, 8888: 40841, 8889: 31496, 8890: 25535, 8891: 18592, 8892: 29647, 8893: 6436, 8894: 3585, 8895: 36862, 8896: 27412, 8897: 9074, 8898: 26840, 8899: 18292, 8900: 15930, 8901: 22547, 8902: 8719, 8903: 42327, 8904: 34044, 8905: 5105, 8906: 23887, 8907: 6033, 8908: 16201, 8909: 39089, 8910: 43399, 8911: 16901, 8912: 12345, 8913: 41457, 8914: 36815, 8915: 17948, 8916: 19780, 8917: 44181, 8918: 25906}\n"
     ]
    }
   ],
   "source": [
    "print(y_testDict)"
   ]
  },
  {
   "cell_type": "code",
   "execution_count": 35,
   "metadata": {},
   "outputs": [
    {
     "name": "stdout",
     "output_type": "stream",
     "text": [
      "8915\n"
     ]
    }
   ],
   "source": [
    "print(y_testDict[409])"
   ]
  },
  {
   "cell_type": "code",
   "execution_count": 36,
   "metadata": {},
   "outputs": [
    {
     "name": "stdout",
     "output_type": "stream",
     "text": [
      "Tableau\n"
     ]
    }
   ],
   "source": [
    "print(df.iloc[8915][\"name\"])"
   ]
  },
  {
   "cell_type": "code",
   "execution_count": 37,
   "metadata": {
    "id": "dQtkkOZN8rws"
   },
   "outputs": [],
   "source": [
    "# create prediction off of trained model by using test set"
   ]
  },
  {
   "cell_type": "code",
   "execution_count": 38,
   "metadata": {
    "id": "BtDu35yX80QV"
   },
   "outputs": [],
   "source": [
    "# compare predicted results with test set label"
   ]
  },
  {
   "cell_type": "code",
   "execution_count": 39,
   "metadata": {
    "colab": {
     "base_uri": "https://localhost:8080/"
    },
    "id": "BcxMAhYD-aAl",
    "outputId": "e072b212-ed82-4fd6-e168-c883c31d8a09"
   },
   "outputs": [
    {
     "data": {
      "text/plain": [
       "1.0"
      ]
     },
     "execution_count": 39,
     "metadata": {},
     "output_type": "execute_result"
    }
   ],
   "source": [
    "y_test.iloc[409]"
   ]
  },
  {
   "cell_type": "code",
   "execution_count": 40,
   "metadata": {
    "colab": {
     "base_uri": "https://localhost:8080/"
    },
    "id": "4NzOAQl45YQN",
    "outputId": "b6142c5a-616e-4cfe-d3a0-0b76a3c8759a"
   },
   "outputs": [
    {
     "data": {
      "text/plain": [
       "array([1.])"
      ]
     },
     "execution_count": 40,
     "metadata": {},
     "output_type": "execute_result"
    }
   ],
   "source": [
    "logitModel.predict(resTest_scaled[[409]])\n",
    "#logisticRegr.predict(x_test[0].reshape(1,-1))"
   ]
  },
  {
   "cell_type": "markdown",
   "metadata": {},
   "source": [
    "<hr style=\"border:2px solid black\">"
   ]
  },
  {
   "cell_type": "markdown",
   "metadata": {},
   "source": [
    "# Decision Tree Classifier:"
   ]
  },
  {
   "cell_type": "code",
   "execution_count": 61,
   "metadata": {},
   "outputs": [],
   "source": [
    "from sklearn.tree import DecisionTreeClassifier # Import Decision Tree Classifier\n",
    "from sklearn.model_selection import train_test_split # Import train_test_split function\n",
    "from sklearn import metrics #Import scikit-learn metrics module for accuracy calculation"
   ]
  },
  {
   "cell_type": "markdown",
   "metadata": {},
   "source": [
    "## Model with Hyperparameter Tuning"
   ]
  },
  {
   "cell_type": "code",
   "execution_count": 41,
   "metadata": {},
   "outputs": [],
   "source": [
    "# Hyperparameter Tuning\n",
    "param_grid = {\n",
    "    'criterion': ['gini', 'entropy'],\n",
    "    'max_depth': [2,4,6,8,10,12],\n",
    "    'min_samples_split': [2, 3, 4],\n",
    "    'max_leaf_nodes': list(range(2, 100))\n",
    "}"
   ]
  },
  {
   "cell_type": "code",
   "execution_count": 42,
   "metadata": {},
   "outputs": [],
   "source": [
    "#MODELLING\n",
    "\n",
    "#Decision Tree\n",
    "\n",
    "# Create Decision Tree classifer object\n",
    "clf = DecisionTreeClassifier()"
   ]
  },
  {
   "cell_type": "code",
   "execution_count": 43,
   "metadata": {},
   "outputs": [],
   "source": [
    "clf = GridSearchCV(clf, param_grid = param_grid, cv = 5, verbose=True, n_jobs=-1, error_score='raise')"
   ]
  },
  {
   "cell_type": "code",
   "execution_count": 44,
   "metadata": {},
   "outputs": [
    {
     "name": "stdout",
     "output_type": "stream",
     "text": [
      "Fitting 5 folds for each of 3528 candidates, totalling 17640 fits\n"
     ]
    },
    {
     "data": {
      "text/plain": [
       "GridSearchCV(cv=5, error_score='raise', estimator=DecisionTreeClassifier(),\n",
       "             n_jobs=-1,\n",
       "             param_grid={'criterion': ['gini', 'entropy'],\n",
       "                         'max_depth': [2, 4, 6, 8, 10, 12],\n",
       "                         'max_leaf_nodes': [2, 3, 4, 5, 6, 7, 8, 9, 10, 11, 12,\n",
       "                                            13, 14, 15, 16, 17, 18, 19, 20, 21,\n",
       "                                            22, 23, 24, 25, 26, 27, 28, 29, 30,\n",
       "                                            31, ...],\n",
       "                         'min_samples_split': [2, 3, 4]},\n",
       "             verbose=True)"
      ]
     },
     "execution_count": 44,
     "metadata": {},
     "output_type": "execute_result"
    }
   ],
   "source": [
    "# Train Decision Tree Classifer\n",
    "clf.fit(resTrain_Scaled,y_train)"
   ]
  },
  {
   "cell_type": "code",
   "execution_count": 45,
   "metadata": {},
   "outputs": [
    {
     "name": "stdout",
     "output_type": "stream",
     "text": [
      "{'criterion': 'gini', 'max_depth': 12, 'max_leaf_nodes': 87, 'min_samples_split': 2}\n"
     ]
    }
   ],
   "source": [
    "print(clf.best_params_)"
   ]
  },
  {
   "cell_type": "code",
   "execution_count": 46,
   "metadata": {
    "id": "4avyE3Ewb28V"
   },
   "outputs": [],
   "source": [
    "#Predict the response for test dataset\n",
    "y_pred_DT = clf.predict(resTest_scaled)"
   ]
  },
  {
   "cell_type": "code",
   "execution_count": 47,
   "metadata": {
    "colab": {
     "base_uri": "https://localhost:8080/"
    },
    "id": "XUGBYnhtcbeX",
    "outputId": "d5ca858b-0215-463e-df29-90ae3a9e9a02"
   },
   "outputs": [
    {
     "name": "stdout",
     "output_type": "stream",
     "text": [
      "Decision Tree Classification Accuracy:  0.6766453638300258\n",
      "Decision Tree Classification Report:\n",
      "               precision    recall  f1-score   support\n",
      "\n",
      "         0.0       0.69      0.68      0.68      4565\n",
      "         1.0       0.67      0.68      0.67      4354\n",
      "\n",
      "    accuracy                           0.68      8919\n",
      "   macro avg       0.68      0.68      0.68      8919\n",
      "weighted avg       0.68      0.68      0.68      8919\n",
      "\n",
      "Decision Tree Confusion Matrix:\n",
      " [[3082 1483]\n",
      " [1401 2953]]\n"
     ]
    }
   ],
   "source": [
    "#Decision Tree Classifier Evaluation\n",
    "\n",
    "\n",
    "# Accuracy score\n",
    "from sklearn.metrics import accuracy_score\n",
    "print('Decision Tree Classification Accuracy: ',accuracy_score(y_pred_DT,y_test))\n",
    "\n",
    "# Summary of the predictions made by the classifier\n",
    "print('Decision Tree Classification Report:\\n', classification_report(y_test, y_pred_DT))\n",
    "print('Decision Tree Confusion Matrix:\\n', confusion_matrix(y_test, y_pred_DT))"
   ]
  },
  {
   "cell_type": "code",
   "execution_count": 48,
   "metadata": {},
   "outputs": [
    {
     "name": "stderr",
     "output_type": "stream",
     "text": [
      "/opt/anaconda3/lib/python3.8/site-packages/sklearn/utils/deprecation.py:87: FutureWarning: Function plot_confusion_matrix is deprecated; Function `plot_confusion_matrix` is deprecated in 1.0 and will be removed in 1.2. Use one of the class methods: ConfusionMatrixDisplay.from_predictions or ConfusionMatrixDisplay.from_estimator.\n",
      "  warnings.warn(msg, category=FutureWarning)\n"
     ]
    },
    {
     "data": {
      "image/png": "[encoded data removed]",
      "text/plain": [
       "<Figure size 432x288 with 2 Axes>"
      ]
     },
     "metadata": {
      "needs_background": "light"
     },
     "output_type": "display_data"
    }
   ],
   "source": [
    "from sklearn.metrics import plot_confusion_matrix\n",
    "plot_confusion_matrix(clf, resTest_scaled, y_test)  \n",
    "plt.show()"
   ]
  },
  {
   "cell_type": "markdown",
   "metadata": {},
   "source": [
    "# AUC ROC Score:"
   ]
  },
  {
   "cell_type": "code",
   "execution_count": 49,
   "metadata": {},
   "outputs": [
    {
     "name": "stdout",
     "output_type": "stream",
     "text": [
      "AUC Score:\n",
      "0.7432804672567583\n"
     ]
    }
   ],
   "source": [
    "# might remove\n",
    "\n",
    "from sklearn.metrics import roc_auc_score\n",
    "print(\"AUC Score:\")\n",
    "print(roc_auc_score(y_test, clf.predict_proba(resTest_scaled)[:,1]))\n"
   ]
  },
  {
   "cell_type": "markdown",
   "metadata": {},
   "source": [
    "# ROC Curve:"
   ]
  },
  {
   "cell_type": "code",
   "execution_count": 50,
   "metadata": {},
   "outputs": [
    {
     "name": "stdout",
     "output_type": "stream",
     "text": [
      "0.7432804672567583\n"
     ]
    },
    {
     "data": {
      "image/png": "[encoded data removed]",
      "text/plain": [
       "<Figure size 432x288 with 1 Axes>"
      ]
     },
     "metadata": {
      "needs_background": "light"
     },
     "output_type": "display_data"
    }
   ],
   "source": [
    "from sklearn.metrics import roc_curve\n",
    "#define metrics\n",
    "y_pred_DT = clf.predict_proba(resTest_scaled)[:,1]\n",
    "\n",
    "fpr, tpr, thresholds = metrics.roc_curve(y_test,  y_pred_DT)\n",
    "print(metrics.auc(fpr, tpr))\n",
    "#create ROC curve\n",
    "plt.plot([0,1], [0,1],'k--')\n",
    "plt.plot(fpr,tpr)\n",
    "plt.ylabel('True Positive Rate')\n",
    "plt.xlabel('False Positive Rate')\n",
    "plt.show();\n",
    "\n"
   ]
  },
  {
   "cell_type": "markdown",
   "metadata": {},
   "source": [
    "<hr style=\"border:2px solid black\">"
   ]
  },
  {
   "cell_type": "markdown",
   "metadata": {},
   "source": [
    "# Random Forest Classifier:"
   ]
  },
  {
   "cell_type": "code",
   "execution_count": 62,
   "metadata": {},
   "outputs": [],
   "source": [
    "from sklearn.ensemble import RandomForestClassifier  #Import Random Forest Model\n",
    "from sklearn.model_selection import train_test_split # Import train_test_split function\n",
    "from sklearn import metrics #Import scikit-learn metrics module for accuracy calculation"
   ]
  },
  {
   "cell_type": "markdown",
   "metadata": {},
   "source": [
    "## Model with Hyperparameter Tuning"
   ]
  },
  {
   "cell_type": "code",
   "execution_count": 51,
   "metadata": {},
   "outputs": [],
   "source": [
    "random_grid = {\n",
    "    'bootstrap': [True],\n",
    "    'max_depth': [80, 90, 100, 110],\n",
    "    'max_features': [2, 3],\n",
    "    'min_samples_leaf': [3, 4, 5],\n",
    "    'min_samples_split': [8, 10, 12],\n",
    "    'n_estimators': [100, 200, 300, 1000]\n",
    "}"
   ]
  },
  {
   "cell_type": "code",
   "execution_count": 52,
   "metadata": {},
   "outputs": [],
   "source": [
    "## Random Forest\n",
    "\n",
    "#Create Random Forest classifer object\n",
    "\n",
    "clf_RF =RandomForestClassifier()"
   ]
  },
  {
   "cell_type": "code",
   "execution_count": 53,
   "metadata": {},
   "outputs": [],
   "source": [
    "clf_RF = RandomizedSearchCV(clf_RF, param_distributions = random_grid, n_iter = 100, cv = 5, random_state=35, verbose=True, n_jobs=-1)"
   ]
  },
  {
   "cell_type": "code",
   "execution_count": 54,
   "metadata": {},
   "outputs": [
    {
     "name": "stdout",
     "output_type": "stream",
     "text": [
      "Fitting 5 folds for each of 100 candidates, totalling 500 fits\n"
     ]
    },
    {
     "data": {
      "text/plain": [
       "RandomizedSearchCV(cv=5, estimator=RandomForestClassifier(), n_iter=100,\n",
       "                   n_jobs=-1,\n",
       "                   param_distributions={'bootstrap': [True],\n",
       "                                        'max_depth': [80, 90, 100, 110],\n",
       "                                        'max_features': [2, 3],\n",
       "                                        'min_samples_leaf': [3, 4, 5],\n",
       "                                        'min_samples_split': [8, 10, 12],\n",
       "                                        'n_estimators': [100, 200, 300, 1000]},\n",
       "                   random_state=35, verbose=True)"
      ]
     },
     "execution_count": 54,
     "metadata": {},
     "output_type": "execute_result"
    }
   ],
   "source": [
    "#Train the model using the training sets y_pred=clf.predict(X_test)\n",
    "clf_RF.fit(resTrain_Scaled,y_train)"
   ]
  },
  {
   "cell_type": "code",
   "execution_count": 55,
   "metadata": {},
   "outputs": [
    {
     "name": "stdout",
     "output_type": "stream",
     "text": [
      "{'n_estimators': 1000, 'min_samples_split': 8, 'min_samples_leaf': 3, 'max_features': 2, 'max_depth': 80, 'bootstrap': True}\n"
     ]
    }
   ],
   "source": [
    "print(clf_RF.best_params_)"
   ]
  },
  {
   "cell_type": "code",
   "execution_count": 56,
   "metadata": {
    "id": "tF7mSejOeLJ-"
   },
   "outputs": [],
   "source": [
    "#Predict the response for test dataset\n",
    "y_pred_RF = clf_RF.predict(resTest_scaled)"
   ]
  },
  {
   "cell_type": "code",
   "execution_count": 57,
   "metadata": {
    "colab": {
     "base_uri": "https://localhost:8080/"
    },
    "id": "F5Z5w2zOeogW",
    "outputId": "3de6ef4a-e9d0-40b9-ae9f-2c56009ddae1"
   },
   "outputs": [
    {
     "name": "stdout",
     "output_type": "stream",
     "text": [
      "Random Forest Classification Accuracy:  0.6930149119856486\n",
      "Random Forest Classification Report:\n",
      "               precision    recall  f1-score   support\n",
      "\n",
      "         0.0       0.70      0.70      0.70      4565\n",
      "         1.0       0.68      0.69      0.69      4354\n",
      "\n",
      "    accuracy                           0.69      8919\n",
      "   macro avg       0.69      0.69      0.69      8919\n",
      "weighted avg       0.69      0.69      0.69      8919\n",
      "\n",
      "Random Forest Confusion Matrix:\n",
      " [[3178 1387]\n",
      " [1351 3003]]\n"
     ]
    }
   ],
   "source": [
    "##Random Forest Classification Evaluation\n",
    "\n",
    "\n",
    "# Accuracy score\n",
    "from sklearn.metrics import accuracy_score\n",
    "print('Random Forest Classification Accuracy: ',accuracy_score(y_pred_RF,y_test))\n",
    "\n",
    "# Summary of the predictions made by the classifier\n",
    "print('Random Forest Classification Report:\\n', classification_report(y_test, y_pred_RF))\n",
    "print('Random Forest Confusion Matrix:\\n', confusion_matrix(y_test, y_pred_RF))"
   ]
  },
  {
   "cell_type": "code",
   "execution_count": 58,
   "metadata": {},
   "outputs": [
    {
     "name": "stderr",
     "output_type": "stream",
     "text": [
      "/opt/anaconda3/lib/python3.8/site-packages/sklearn/utils/deprecation.py:87: FutureWarning: Function plot_confusion_matrix is deprecated; Function `plot_confusion_matrix` is deprecated in 1.0 and will be removed in 1.2. Use one of the class methods: ConfusionMatrixDisplay.from_predictions or ConfusionMatrixDisplay.from_estimator.\n",
      "  warnings.warn(msg, category=FutureWarning)\n"
     ]
    },
    {
     "data": {
      "image/png": "[encoded data removed]",
      "text/plain": [
       "<Figure size 432x288 with 2 Axes>"
      ]
     },
     "metadata": {
      "needs_background": "light"
     },
     "output_type": "display_data"
    }
   ],
   "source": [
    "from sklearn.metrics import plot_confusion_matrix\n",
    "plot_confusion_matrix(clf_RF, resTest_scaled, y_test)  \n",
    "plt.show()"
   ]
  },
  {
   "cell_type": "markdown",
   "metadata": {},
   "source": [
    "# AUC ROC Score:"
   ]
  },
  {
   "cell_type": "code",
   "execution_count": 59,
   "metadata": {},
   "outputs": [
    {
     "name": "stdout",
     "output_type": "stream",
     "text": [
      "AUC Score:\n",
      "0.7644460583386705\n"
     ]
    }
   ],
   "source": [
    "# might remove\n",
    "\n",
    "from sklearn.metrics import roc_auc_score\n",
    "print(\"AUC Score:\")\n",
    "print(roc_auc_score(y_test, clf_RF.predict_proba(resTest_scaled)[:,1]))\n"
   ]
  },
  {
   "cell_type": "markdown",
   "metadata": {},
   "source": [
    "# ROC Curve:"
   ]
  },
  {
   "cell_type": "code",
   "execution_count": 60,
   "metadata": {
    "id": "qsU36uMWCU22"
   },
   "outputs": [
    {
     "name": "stdout",
     "output_type": "stream",
     "text": [
      "0.7644460583386705\n"
     ]
    },
    {
     "data": {
      "image/png": "[encoded data removed]",
      "text/plain": [
       "<Figure size 432x288 with 1 Axes>"
      ]
     },
     "metadata": {
      "needs_background": "light"
     },
     "output_type": "display_data"
    }
   ],
   "source": [
    "from sklearn.metrics import roc_curve\n",
    "#define metrics\n",
    "y_pred_RF = clf_RF.predict_proba(resTest_scaled)[:,1]\n",
    "\n",
    "fpr, tpr, thresholds = metrics.roc_curve(y_test,  y_pred_RF)\n",
    "print(metrics.auc(fpr, tpr))\n",
    "#create ROC curve\n",
    "plt.plot([0,1], [0,1],'k--')\n",
    "plt.plot(fpr,tpr)\n",
    "plt.ylabel('True Positive Rate')\n",
    "plt.xlabel('False Positive Rate')\n",
    "plt.show();\n"
   ]
  },
  {
   "cell_type": "code",
   "execution_count": null,
   "metadata": {},
   "outputs": [],
   "source": []
  }
 ],
 "metadata": {
  "colab": {
   "collapsed_sections": [],
   "name": "INFO-442: Final Project.ipynb",
   "provenance": []
  },
  "kernelspec": {
   "display_name": "Python 3",
   "language": "python",
   "name": "python3"
  },
  "language_info": {
   "codemirror_mode": {
    "name": "ipython",
    "version": 3
   },
   "file_extension": ".py",
   "mimetype": "text/x-python",
   "name": "python",
   "nbconvert_exporter": "python",
   "pygments_lexer": "ipython3",
   "version": "3.8.5"
  }
 },
 "nbformat": 4,
 "nbformat_minor": 1
}
